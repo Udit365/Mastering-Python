{
 "cells": [
  {
   "cell_type": "markdown",
   "metadata": {},
   "source": [
    "# User Deefined Functions\n",
    "\n",
    "The user defined functions (UDF) can be created in python to perform some complex operations.\n",
    "\n",
    "***Syntax :***\n",
    "\n",
    "```python\n",
    "def function_name(var1, var2):\n",
    "    return var1*var2\n",
    "```\n",
    "\n",
    "***Example-1 :*** Create an UDF to perform addition between two input variables :\n"
   ]
  },
  {
   "cell_type": "code",
   "execution_count": 1,
   "metadata": {},
   "outputs": [
    {
     "name": "stdout",
     "output_type": "stream",
     "text": [
      "Enter the first number: 20\n",
      "Enter the second number: 20\n",
      "40\n"
     ]
    }
   ],
   "source": [
    "#Creating the UDF\n",
    "\n",
    "def add_two(a,b):\n",
    "    return a+b\n",
    "\n",
    "# Calling the UDF\n",
    "\n",
    "a = int(input(\"Enter the first number: \"))\n",
    "b = int(input(\"Enter the second number: \"))\n",
    "\n",
    "total = add_two(a,b)\n",
    "\n",
    "print(total)"
   ]
  },
  {
   "cell_type": "markdown",
   "metadata": {},
   "source": [
    "The above created UDF can also be used to concatenate strings and this proves how dynamic the python language is.\n",
    "\n",
    "In the following code, we take two strings as input from the user and concatenate them using the previously created UDF `add_two()`"
   ]
  },
  {
   "cell_type": "code",
   "execution_count": 2,
   "metadata": {},
   "outputs": [
    {
     "name": "stdout",
     "output_type": "stream",
     "text": [
      "Enter the first string: Python is a \n",
      "Enter the second string: dynamic language !!!\n",
      "Python is a dynamic language !!!\n"
     ]
    }
   ],
   "source": [
    "#Creating the UDF\n",
    "\n",
    "def add_two(a,b):\n",
    "    return a+b\n",
    "\n",
    "# Calling the UDF\n",
    "\n",
    "a = input(\"Enter the first string: \")\n",
    "b = input(\"Enter the second string: \")\n",
    "\n",
    "total = add_two(a,b)\n",
    "\n",
    "print(total)"
   ]
  },
  {
   "cell_type": "markdown",
   "metadata": {},
   "source": [
    ">***Note :*** `return` statement is not necessary for an UDF but, its always recommended to use with UDFs"
   ]
  },
  {
   "cell_type": "markdown",
   "metadata": {},
   "source": [
    "## `return` Vs. `print()`\n",
    "\n",
    "if `print()` is used then, after calling the function, there is not need to add any `print()` statement because, the UDF encapsulates the `print()` function.\n",
    "\n",
    "The `return` is just used to return the output of the function that can either be stored in a variable or, can be printed using the `print()` function.\n",
    "\n",
    "As `return` seems to be more intuitive thus, its always recommended to use `return` for functions rather than `print()`."
   ]
  },
  {
   "cell_type": "markdown",
   "metadata": {},
   "source": [
    "***Example-3 :*** Create an UDF to return the last character of the input string"
   ]
  },
  {
   "cell_type": "code",
   "execution_count": 1,
   "metadata": {},
   "outputs": [
    {
     "name": "stdout",
     "output_type": "stream",
     "text": [
      "Enter a string: Hello\n",
      "o\n"
     ]
    }
   ],
   "source": [
    "# Creating the UDF\n",
    "\n",
    "def lastchar(a):\n",
    "    return a[-1]\n",
    "\n",
    "# Calling the UDF\n",
    "\n",
    "a = input(\"Enter a string: \")\n",
    "print(lastchar(a))"
   ]
  },
  {
   "cell_type": "markdown",
   "metadata": {},
   "source": [
    "***Example-4 :*** Create an UDF to check whether the number is even or, odd"
   ]
  },
  {
   "cell_type": "code",
   "execution_count": 6,
   "metadata": {},
   "outputs": [
    {
     "name": "stdout",
     "output_type": "stream",
     "text": [
      "Enter a number: 25\n",
      "Odd\n"
     ]
    }
   ],
   "source": [
    "# Creating the UDF\n",
    "\n",
    "def odd_even(a):\n",
    "    if (a % 2 == 0):\n",
    "        return \"Even\"\n",
    "    else:\n",
    "        return \"Odd\"\n",
    "\n",
    "# Calling the UDF\n",
    "\n",
    "num = int(input(\"Enter a number: \"))\n",
    "\n",
    "print(odd_even(num))"
   ]
  },
  {
   "cell_type": "markdown",
   "metadata": {},
   "source": [
    "***Example-5 :*** Create a UDF that finds the fibonnaci series upto the given n-terms"
   ]
  },
  {
   "cell_type": "code",
   "execution_count": 29,
   "metadata": {},
   "outputs": [
    {
     "name": "stdout",
     "output_type": "stream",
     "text": [
      "Enter the number of terms for Fibonacci series: 10\n",
      "0 1 1 2 3 5 8 13 21 34 "
     ]
    }
   ],
   "source": [
    "# Creating the UDF\n",
    "\n",
    "def fibonac(n):\n",
    "    \n",
    "    a = 0\n",
    "    b = 1\n",
    "    \n",
    "    if n == 1:\n",
    "        print(a)\n",
    "    elif n == 2:\n",
    "        print(a, b, end=\" \")\n",
    "    else:\n",
    "        print(a,b, end = \" \")\n",
    "        for i in range(n-2):\n",
    "            c = a + b\n",
    "            a = b\n",
    "            b = c\n",
    "            print(b, end = \" \")\n",
    "\n",
    "# Calling the UDF\n",
    "\n",
    "num = int(input(\"Enter the number of terms for Fibonacci series: \"))\n",
    "fibonac(num)"
   ]
  },
  {
   "cell_type": "markdown",
   "metadata": {},
   "source": [
    "## Nested UDF\n",
    "\n",
    "***Example-5 :*** Create nested UDFs to find the greatest between 3 input numbers"
   ]
  },
  {
   "cell_type": "code",
   "execution_count": 8,
   "metadata": {},
   "outputs": [
    {
     "name": "stdout",
     "output_type": "stream",
     "text": [
      "Enter 1st number: 525\n",
      "Enter 2nd number: 5225\n",
      "Enter 3rd number: 52225\n",
      "The greatest between three numbers: 52225\n"
     ]
    }
   ],
   "source": [
    "# Creating UDF to find greatest between 2 numbers\n",
    "\n",
    "def greater(a,b):\n",
    "    if a>b :\n",
    "        return a\n",
    "    return b\n",
    "\n",
    "# passing a UDF into another UDF\n",
    "\n",
    "def greatest(a,b,c):\n",
    "    bigger = greater(a,b)\n",
    "    return greater(bigger,c)\n",
    "\n",
    "# Calling the UDF to find greatest between 3 numbers\n",
    "\n",
    "num1 = int(input(\"Enter 1st number: \"))\n",
    "num2 = int(input(\"Enter 2nd number: \"))\n",
    "num3 = int(input(\"Enter 3rd number: \"))\n",
    "\n",
    "print(\"The greatest between three numbers: \"+ str(greatest(num1,num2,num3)))\n"
   ]
  },
  {
   "cell_type": "markdown",
   "metadata": {},
   "source": [
    "## Default Parameters\n",
    "\n",
    "Default parameters had a default value that colud be manipulated during the function call else, it would take that assigned default value into account.\n",
    "\n",
    "During a function call, default parameters are optional arguments and the function can still run even if don't specify them.\n",
    "\n",
    ">***Notes :***<br>\n",
    "Default parameters can only be placed at the end, i.e., the non-default parameters can't be placed after the default parameter.\n",
    "\n",
    "***Example-6 :*** Take first name, last name and age (default=24) as input from the user and print them"
   ]
  },
  {
   "cell_type": "code",
   "execution_count": 30,
   "metadata": {},
   "outputs": [
    {
     "name": "stdout",
     "output_type": "stream",
     "text": [
      "Your first name is Jhon\n",
      "Your last name is Doe\n",
      "Your age is 24\n"
     ]
    }
   ],
   "source": [
    "# Function define\n",
    "\n",
    "def user_info(firstname, lastname, age=24):\n",
    "    print(f\"Your first name is {firstname}\")\n",
    "    print(f\"Your last name is {lastname}\")\n",
    "    print(f\"Your age is {age}\")\n",
    "\n",
    "# UDF Calling\n",
    "\n",
    "user_info(\"Jhon\",\"Doe\") #\"age\" not provided so, default=24, would be taken\n"
   ]
  },
  {
   "cell_type": "code",
   "execution_count": 31,
   "metadata": {},
   "outputs": [
    {
     "name": "stdout",
     "output_type": "stream",
     "text": [
      "Your first name is Catherin\n",
      "Your last name is Lisa\n",
      "Your age is 52\n"
     ]
    }
   ],
   "source": [
    "user_info(\"Catherin\",\"Lisa\",52) # default age will be replaced by the argument provided during UDF calling"
   ]
  },
  {
   "cell_type": "markdown",
   "metadata": {},
   "source": [
    "## Variable Scope\n",
    "\n",
    "The variable can have two types of scopes :\n",
    "\n",
    "1. Local Scope\n",
    "2. Global Scope\n",
    "\n",
    "### Local Scope\n",
    "\n",
    "varibales defined inside a UDF definition are of \"Local Scope\" and they can't be used outside of the function definition.\n",
    "\n",
    "*For example :* In the following example `x` has the local scope and hence will throw an error when called outside of the function definition"
   ]
  },
  {
   "cell_type": "code",
   "execution_count": 3,
   "metadata": {},
   "outputs": [
    {
     "ename": "NameError",
     "evalue": "name 'x' is not defined",
     "output_type": "error",
     "traceback": [
      "\u001b[1;31m---------------------------------------------------------------------------\u001b[0m",
      "\u001b[1;31mNameError\u001b[0m                                 Traceback (most recent call last)",
      "\u001b[1;32m<ipython-input-3-a75b25d80506>\u001b[0m in \u001b[0;36m<module>\u001b[1;34m\u001b[0m\n\u001b[0;32m      5\u001b[0m     \u001b[1;32mreturn\u001b[0m \u001b[1;33m(\u001b[0m\u001b[0ma\u001b[0m\u001b[1;33m+\u001b[0m\u001b[0mx\u001b[0m\u001b[1;33m)\u001b[0m\u001b[1;33m\u001b[0m\u001b[1;33m\u001b[0m\u001b[0m\n\u001b[0;32m      6\u001b[0m \u001b[1;33m\u001b[0m\u001b[0m\n\u001b[1;32m----> 7\u001b[1;33m \u001b[0mprint\u001b[0m\u001b[1;33m(\u001b[0m\u001b[0mx\u001b[0m\u001b[1;33m)\u001b[0m \u001b[1;31m# This will throw an error, as \"x\" is a local scoped variable but, called outside of function definition\u001b[0m\u001b[1;33m\u001b[0m\u001b[1;33m\u001b[0m\u001b[0m\n\u001b[0m",
      "\u001b[1;31mNameError\u001b[0m: name 'x' is not defined"
     ]
    }
   ],
   "source": [
    "# Local Scope\n",
    "\n",
    "def func(a):\n",
    "    x = 7\n",
    "    return (a+x)\n",
    "\n",
    "print(x) # This will throw an error, as \"x\" is a local scoped variable but, called outside of function definition"
   ]
  },
  {
   "cell_type": "code",
   "execution_count": 2,
   "metadata": {},
   "outputs": [
    {
     "name": "stdout",
     "output_type": "stream",
     "text": [
      "17\n"
     ]
    }
   ],
   "source": [
    "# But, we can print as follows, because, the function gets called from the print() :\n",
    "\n",
    "print(func(10))"
   ]
  },
  {
   "cell_type": "markdown",
   "metadata": {},
   "source": [
    "### Global Scope\n",
    "\n",
    "The global scoped varibales are defined outside of the function definition and thus can be used inside or, outside of the function definition.\n",
    "\n",
    "In the following example `a` is a global variable and thus, can be used inside and outside of the function definition :"
   ]
  },
  {
   "cell_type": "code",
   "execution_count": 4,
   "metadata": {},
   "outputs": [
    {
     "name": "stdout",
     "output_type": "stream",
     "text": [
      "10\n",
      "100\n"
     ]
    }
   ],
   "source": [
    "# Global Scope\n",
    "\n",
    "a = 10\n",
    "\n",
    "def func(x):\n",
    "    return (a**x)\n",
    "\n",
    "print(a) # used outside of the function\n",
    "print(func(2)) # used inside of the function"
   ]
  },
  {
   "cell_type": "markdown",
   "metadata": {},
   "source": [
    "### Properties of \"Local\" to \"Global\"\n",
    "\n",
    "The local scoped varibale can't replace the assigned value of the global scoped variable.\n",
    "\n",
    "In the following example `x` as the global variable has a value of `5` and as a local scoped variable has a value of `7` but, when we print them both, we can see that the local scoped variable don't replace the global scope."
   ]
  },
  {
   "cell_type": "code",
   "execution_count": 7,
   "metadata": {},
   "outputs": [
    {
     "name": "stdout",
     "output_type": "stream",
     "text": [
      "7\n",
      "5\n"
     ]
    }
   ],
   "source": [
    "# Local Scope\n",
    "\n",
    "x=5\n",
    "\n",
    "def func():\n",
    "    x = 7\n",
    "    return x\n",
    "\n",
    "# Local scoped \"x\" wil be returned\n",
    "print(func())\n",
    "\n",
    "# Global scoped \"x\" will be returned\n",
    "print(x) "
   ]
  },
  {
   "cell_type": "markdown",
   "metadata": {},
   "source": [
    "### Chaning Variable Scope from \"Local\" to \"Global\"\n",
    "\n",
    "To change a local variable into the global variable, we have to use the keyword `global` just before the definition of local scoped variable.\n",
    "\n",
    "In the following example; `x` is a local variable; which converted into a global variable and thus changes the previously defined value of `x` from `5` to `7` :"
   ]
  },
  {
   "cell_type": "code",
   "execution_count": 8,
   "metadata": {},
   "outputs": [
    {
     "name": "stdout",
     "output_type": "stream",
     "text": [
      "7\n",
      "7\n"
     ]
    }
   ],
   "source": [
    "x=5\n",
    "\n",
    "def func():\n",
    "    global x\n",
    "    x = 7\n",
    "    return x\n",
    "\n",
    "# Local scoped \"x\" wil be returned\n",
    "print(func())\n",
    "\n",
    "\n",
    "# Global scoped \"x\" will be returned\n",
    "print(x)"
   ]
  }
 ],
 "metadata": {
  "kernelspec": {
   "display_name": "Python 3",
   "language": "python",
   "name": "python3"
  },
  "language_info": {
   "codemirror_mode": {
    "name": "ipython",
    "version": 3
   },
   "file_extension": ".py",
   "mimetype": "text/x-python",
   "name": "python",
   "nbconvert_exporter": "python",
   "pygments_lexer": "ipython3",
   "version": "3.7.6"
  }
 },
 "nbformat": 4,
 "nbformat_minor": 4
}
