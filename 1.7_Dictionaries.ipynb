{
 "cells": [
  {
   "cell_type": "markdown",
   "metadata": {},
   "source": [
    "# Dictionaries\n",
    "\n",
    "Dictionaries in Python are the unordered collection of data in `{key:value}` pairs.\n",
    "\n",
    "- Python dictionaries is an example of hash-table data structure.\n",
    "- Work like `{key:value}` pairs, where the keys are mapped to values.\n",
    "- Dictionaries are enclosed by curly braces `{}`.\n",
    "- Any datatype can be stored within a dictionary.\n",
    "\n",
    "Lists are not enough to represent real life data and hence we need a data structure like dictionary in Python.\n",
    "\n",
    "***For Example:***\n",
    "\n",
    "We can create a dictionary with user details, as follows:"
   ]
  },
  {
   "cell_type": "code",
   "execution_count": 1,
   "metadata": {},
   "outputs": [
    {
     "name": "stdout",
     "output_type": "stream",
     "text": [
      "{'Name': 'Udit', 'Age': 24, 'Gender': 'Male'}\n"
     ]
    }
   ],
   "source": [
    "user = {\"Name\":\"Udit\", \"Age\":24, \"Gender\":\"Male\"}\n",
    "print(user)"
   ]
  },
  {
   "cell_type": "code",
   "execution_count": 2,
   "metadata": {},
   "outputs": [
    {
     "name": "stdout",
     "output_type": "stream",
     "text": [
      "<class 'dict'>\n"
     ]
    }
   ],
   "source": [
    "print(type(user))"
   ]
  },
  {
   "cell_type": "markdown",
   "metadata": {},
   "source": [
    "We can also create a dictionary by the following syntax as well:"
   ]
  },
  {
   "cell_type": "code",
   "execution_count": 3,
   "metadata": {},
   "outputs": [
    {
     "name": "stdout",
     "output_type": "stream",
     "text": [
      "{'Name': 'Ankit', 'Age': 25, 'Gender': 'Male'}\n"
     ]
    }
   ],
   "source": [
    "user2 = dict(Name = \"Ankit\" , Age = 25, Gender = \"Male\")\n",
    "print(user2)"
   ]
  },
  {
   "cell_type": "markdown",
   "metadata": {},
   "source": [
    "## Accessing Dictionary Components\n",
    "\n",
    "There is no indexing in dictionary because of the unordered collection of data and thus we can take the help of \"*key*\" to access the results from the dictonary.\n",
    "\n",
    "***For Example:***\n",
    "\n",
    "We can access the \"*Name*\" from the \"*user*\" dictionary as follows:"
   ]
  },
  {
   "cell_type": "code",
   "execution_count": 4,
   "metadata": {},
   "outputs": [
    {
     "name": "stdout",
     "output_type": "stream",
     "text": [
      "Udit\n"
     ]
    }
   ],
   "source": [
    "print(user[\"Name\"])"
   ]
  },
  {
   "cell_type": "markdown",
   "metadata": {},
   "source": [
    "## Nested Dictionaries\n",
    "\n",
    "To make a neat and clean dictionary, we can take help of whitespaces as well.\n",
    "\n",
    "This is important particularly when we make nested dictionary, as follows:"
   ]
  },
  {
   "cell_type": "code",
   "execution_count": 9,
   "metadata": {},
   "outputs": [
    {
     "name": "stdout",
     "output_type": "stream",
     "text": [
      "{'user_1': {'Name': 'Adam', 'Age': 26, 'Gender': 'Male'}, 'user_2': {'Name': 'Cristhel', 'Age': 32, 'Gender': 'Female'}, 'user_3': {'Name': 'Patrick', 'Age': 38, 'Gender': 'Male'}}\n"
     ]
    }
   ],
   "source": [
    "user_info = {\n",
    "    \"user_1\" :{\n",
    "        \"Name\" : \"Adam\",\n",
    "        \"Age\" : 26,\n",
    "        \"Gender\" : \"Male\"\n",
    "    },\n",
    "    \n",
    "    \"user_2\" :{\n",
    "        \"Name\" : \"Cristhel\",\n",
    "        \"Age\" : 32,\n",
    "        \"Gender\" : \"Female\"\n",
    "    },\n",
    "    \n",
    "    \"user_3\" :{\n",
    "        \"Name\" : \"Patrick\",\n",
    "        \"Age\" : 38,\n",
    "        \"Gender\" : \"Male\"\n",
    "    }\n",
    "}\n",
    "\n",
    "print(user_info)"
   ]
  },
  {
   "cell_type": "code",
   "execution_count": null,
   "metadata": {},
   "outputs": [],
   "source": []
  }
 ],
 "metadata": {
  "kernelspec": {
   "display_name": "Python 3",
   "language": "python",
   "name": "python3"
  },
  "language_info": {
   "codemirror_mode": {
    "name": "ipython",
    "version": 3
   },
   "file_extension": ".py",
   "mimetype": "text/x-python",
   "name": "python",
   "nbconvert_exporter": "python",
   "pygments_lexer": "ipython3",
   "version": "3.7.6"
  }
 },
 "nbformat": 4,
 "nbformat_minor": 4
}
