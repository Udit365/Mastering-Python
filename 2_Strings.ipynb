{
 "cells": [
  {
   "cell_type": "markdown",
   "metadata": {},
   "source": [
    "# Strings\n",
    "\n",
    "Strings in Python are nothing but the collection of characters inside single quotes (`'`) or, double quotes(`\"`).\n",
    "To know the very basics of strings and their printing, plese refer this : [String Basics](https://github.com/Udit365/Mastering-Python/blob/master/1_Python_Basics.ipynb)"
   ]
  },
  {
   "cell_type": "markdown",
   "metadata": {},
   "source": [
    "## String Concatenation\n",
    "\n",
    "String concatenation refers to merging two strings togather, however, there are certain rules that we need to keep in mind before performing this operation. The rules are as follows \n",
    "\n",
    "### 📜 Rules for String Concatenation\n",
    "\n",
    "✔️ A string can only be added with anoter string.<br>\n",
    "✔️ A string can't be added with an integer/float value.<br>\n",
    "✔️ A string can be multiplied with an integer.<br>\n",
    "✔️ Use `str()` or double quotes(`\"\"`) to use any datatype as string.\n",
    "\n",
    "\n",
    "📌***For Example :***\n",
    "\n",
    "🔷 Concatenate 2 strings"
   ]
  },
  {
   "cell_type": "code",
   "execution_count": 2,
   "metadata": {},
   "outputs": [
    {
     "name": "stdout",
     "output_type": "stream",
     "text": [
      "Python Is Cool !!\n"
     ]
    }
   ],
   "source": [
    "a = \"Python\"\n",
    "b = \" Is Cool !!\"\n",
    "\n",
    "c = a+b\n",
    "print(c)"
   ]
  },
  {
   "cell_type": "markdown",
   "metadata": {},
   "source": [
    "🔷 Concatenate string with an integer"
   ]
  },
  {
   "cell_type": "code",
   "execution_count": 6,
   "metadata": {},
   "outputs": [
    {
     "ename": "TypeError",
     "evalue": "can only concatenate str (not \"int\") to str",
     "output_type": "error",
     "traceback": [
      "\u001b[1;31m---------------------------------------------------------------------------\u001b[0m",
      "\u001b[1;31mTypeError\u001b[0m                                 Traceback (most recent call last)",
      "\u001b[1;32m<ipython-input-6-fd7f97835205>\u001b[0m in \u001b[0;36m<module>\u001b[1;34m\u001b[0m\n\u001b[0;32m      2\u001b[0m \u001b[0mi\u001b[0m \u001b[1;33m=\u001b[0m \u001b[1;36m5\u001b[0m\u001b[1;33m\u001b[0m\u001b[1;33m\u001b[0m\u001b[0m\n\u001b[0;32m      3\u001b[0m \u001b[1;33m\u001b[0m\u001b[0m\n\u001b[1;32m----> 4\u001b[1;33m \u001b[0mprint\u001b[0m\u001b[1;33m(\u001b[0m\u001b[0mm\u001b[0m \u001b[1;33m+\u001b[0m \u001b[0mi\u001b[0m\u001b[1;33m)\u001b[0m \u001b[1;31m#This will give an error\u001b[0m\u001b[1;33m\u001b[0m\u001b[1;33m\u001b[0m\u001b[0m\n\u001b[0m",
      "\u001b[1;31mTypeError\u001b[0m: can only concatenate str (not \"int\") to str"
     ]
    }
   ],
   "source": [
    "m = \"This is a string\"\n",
    "i = 5\n",
    "\n",
    "print(m + i) #This will give an error"
   ]
  },
  {
   "cell_type": "code",
   "execution_count": 8,
   "metadata": {},
   "outputs": [
    {
     "name": "stdout",
     "output_type": "stream",
     "text": [
      "This is a string5\n"
     ]
    }
   ],
   "source": [
    "# Debugging the error, by making the integer as string\n",
    "\n",
    "print( m + \"5\")"
   ]
  },
  {
   "cell_type": "code",
   "execution_count": 7,
   "metadata": {},
   "outputs": [
    {
     "name": "stdout",
     "output_type": "stream",
     "text": [
      "This is a string5\n"
     ]
    }
   ],
   "source": [
    "# Debugging by using str() function\n",
    "\n",
    "print( m + str(i))"
   ]
  },
  {
   "cell_type": "markdown",
   "metadata": {},
   "source": [
    "🔷 Multiplying string with an integer"
   ]
  },
  {
   "cell_type": "code",
   "execution_count": 10,
   "metadata": {},
   "outputs": [
    {
     "name": "stdout",
     "output_type": "stream",
     "text": [
      "PythonPythonPython\n"
     ]
    }
   ],
   "source": [
    "a = \"Python\"\n",
    "b = 3\n",
    "\n",
    "print(a * b) #Print \"Python\" for 3 times"
   ]
  },
  {
   "cell_type": "markdown",
   "metadata": {},
   "source": [
    "## User Input\n",
    "\n",
    "Dynamic output can be obtained by incorporating user input in a Python script. To provide user input functionality, we have to use the function `input()`.\n",
    "\n",
    "🧬***Syntax :***\n",
    "\n",
    "```python\n",
    "input(\"Type your query here\")\n",
    "```\n",
    ">✒️***Notes :***<br>\n",
    "`input()` always takes the value as a string\n",
    "\n",
    "📌***For Example :***\n",
    "\n",
    "Write a script to make user input their name and show a greeting message as output :"
   ]
  },
  {
   "cell_type": "code",
   "execution_count": 12,
   "metadata": {},
   "outputs": [
    {
     "name": "stdout",
     "output_type": "stream",
     "text": [
      "Your Name: Udit\n",
      "Hello Udit !!\n"
     ]
    }
   ],
   "source": [
    "a = input(\"Your Name: \")\n",
    "b = \"Hello \"\n",
    "\n",
    "print(b + a + \" !!\")"
   ]
  },
  {
   "cell_type": "markdown",
   "metadata": {},
   "source": [
    "### The `int()` & `float()` Function\n",
    "\n",
    "Just like the `str()` function, `int()` and `float()` converts the datatype to integer and float respectively.\n",
    "\n",
    "This is particularly important when we want to take numerical input from the user using the `input()`.\n",
    "\n",
    "📌***For Example :***\n",
    "\n",
    "Take two numbers from the use as input and print their sum in the output :"
   ]
  },
  {
   "cell_type": "code",
   "execution_count": 13,
   "metadata": {},
   "outputs": [
    {
     "name": "stdout",
     "output_type": "stream",
     "text": [
      "Enter first number: 25\n",
      "Enter second number: 25\n",
      "The sum of two numbers is: 50\n"
     ]
    }
   ],
   "source": [
    "a = int(input(\"Enter first number: \"))\n",
    "b = int(input(\"Enter second number: \"))\n",
    "\n",
    "sum = a+b\n",
    "\n",
    "print(\"The sum of two numbers is: \"+ str(sum))"
   ]
  },
  {
   "cell_type": "markdown",
   "metadata": {},
   "source": [
    ">✒️***Notes :*** The result of float and integer operation is always a float."
   ]
  },
  {
   "cell_type": "markdown",
   "metadata": {},
   "source": [
    "### Multiple User Inputs At Once\n",
    "\n",
    "We can take multiple user input in a sigle line with the following syntax :\n",
    "\n",
    "🧬***Syntax :***\n",
    "```python\n",
    "var1, var2 = input(\"Enter the values\").split(delimiter)\n",
    "```\n",
    "\n",
    "In the above syntax :<br>\n",
    "if nothing is provided inside the `split()` argument then, the user need to input the values separated by one blank space otherwise, the values need to separated by the provided delimiter.\n",
    "\n",
    "📌***For Example :***\n",
    "\n",
    "Take \"Name\" and \"Age\" as the input from the user as input and show a nicely formatted output :"
   ]
  },
  {
   "cell_type": "code",
   "execution_count": 14,
   "metadata": {},
   "outputs": [
    {
     "name": "stdout",
     "output_type": "stream",
     "text": [
      "Enter Your Name & Age: Udit 24\n",
      "Hii Udit, Your age is: 24\n"
     ]
    }
   ],
   "source": [
    "Name, Age = input(\"Enter Your Name & Age: \").split()\n",
    "print(\"Hii \" + Name + \", Your age is: \"+ Age)"
   ]
  },
  {
   "cell_type": "markdown",
   "metadata": {},
   "source": [
    "## String Formatting\n",
    "\n",
    "If we are taking 2 user inputs of different datatypes at once then, all of them converted to string datatype but, if we want to maintain the datatypes to execute desired result in output then, we have to follow the following printing convention :\n",
    "\n",
    "🧬***Syntax :***\n",
    "\n",
    "```python\n",
    "# For Python 3.0\n",
    "\n",
    "print( \"Hello {} your age is {}\".format(var_1,var_2) )\n",
    "\n",
    "# For Python 3.6 and above\n",
    "\n",
    "print( f\"hello {var_1} your age is {var_2}\" )\n",
    "```\n",
    "\n",
    ">✒️***Notes :***<br>\n",
    "- `{}` used as a placeholder\n",
    "- if `var_2`/`var_1` is integer/float type then, we can perform arithmetic operation upon them.\n",
    "\n",
    "📌***For Example :***\n",
    "\n",
    "Take \"Name\" and \"Age\" of the user as input (delimited by comma) and disply their age after 5 years in the output :"
   ]
  },
  {
   "cell_type": "code",
   "execution_count": null,
   "metadata": {},
   "outputs": [],
   "source": [
    "Name, Age = input(\"Enter your Name & Age: \").split()\n",
    "print( f\"Hello {Name}, your age after 5 years would be: {Age+5}\" )"
   ]
  },
  {
   "cell_type": "code",
   "execution_count": null,
   "metadata": {},
   "outputs": [],
   "source": []
  }
 ],
 "metadata": {
  "kernelspec": {
   "display_name": "Python 3",
   "language": "python",
   "name": "python3"
  },
  "language_info": {
   "codemirror_mode": {
    "name": "ipython",
    "version": 3
   },
   "file_extension": ".py",
   "mimetype": "text/x-python",
   "name": "python",
   "nbconvert_exporter": "python",
   "pygments_lexer": "ipython3",
   "version": "3.7.6"
  }
 },
 "nbformat": 4,
 "nbformat_minor": 4
}
