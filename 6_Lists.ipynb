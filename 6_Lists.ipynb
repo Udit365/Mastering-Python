{
 "cells": [
  {
   "cell_type": "markdown",
   "metadata": {},
   "source": [
    "# Lists\n",
    "\n",
    "Lists are generic data structure in Python consisting of an ordered collection of objects.\n",
    "\n",
    "- Objects in a list are also known as \"elements\" or, \"components\".\n",
    "- Elements of a list need not to be of same data type ,i.e., a list can consist of a numeric array, a logical value, a matrix, a complex vector, a character array, a function etc. or, even another list.\n",
    "- Elements are enclosed between two square brackets `[]` in a list.\n",
    "\n",
    "\n",
    "***For example :*** "
   ]
  },
  {
   "cell_type": "code",
   "execution_count": 1,
   "metadata": {},
   "outputs": [
    {
     "name": "stdout",
     "output_type": "stream",
     "text": [
      "[1, 2, 3, 4, 5]\n"
     ]
    }
   ],
   "source": [
    "# A list of numbers :\n",
    "\n",
    "nums = [1,2,3,4,5]\n",
    "print(nums)"
   ]
  },
  {
   "cell_type": "code",
   "execution_count": 2,
   "metadata": {},
   "outputs": [
    {
     "name": "stdout",
     "output_type": "stream",
     "text": [
      "['Apple', 'Orange', 'Banana', 'Watermelon']\n"
     ]
    }
   ],
   "source": [
    "# A list of strings :\n",
    "fruits = [\"Apple\", \"Orange\", \"Banana\", \"Watermelon\"]\n",
    "print(fruits)"
   ]
  },
  {
   "cell_type": "code",
   "execution_count": 3,
   "metadata": {},
   "outputs": [
    {
     "name": "stdout",
     "output_type": "stream",
     "text": [
      "[5, 4, 0.3, 0.452, 'Orange', 'Word 2', 7, 8]\n"
     ]
    }
   ],
   "source": [
    "# A compound list of integer, float and strings :\n",
    "\n",
    "cmpd = [5, 4, 0.3, 0.452, \"Orange\", \"Word 2\", 7, 8]\n",
    "print(cmpd)"
   ]
  },
  {
   "cell_type": "markdown",
   "metadata": {},
   "source": [
    "## Creating Inner-lists\n",
    "\n",
    "A list withing another list is often called as a inner-list.\n",
    "\n",
    "***For Example :***\n",
    "\n",
    "Let's create two lists as :\n",
    "\n",
    "- Emp_id (Consisting of employee id)\n",
    "- Emp_name (Consisiting of employee name for the corresponding \"*Emp_id*\")\n",
    "\n",
    "and a variable \"*Num_emp (Number of employees)*\""
   ]
  },
  {
   "cell_type": "code",
   "execution_count": 4,
   "metadata": {},
   "outputs": [
    {
     "name": "stdout",
     "output_type": "stream",
     "text": [
      "[1, 2, 3, 4]\n"
     ]
    }
   ],
   "source": [
    "# Employee ID list\n",
    "\n",
    "Emp_id = [1,2,3,4]\n",
    "print(Emp_id)"
   ]
  },
  {
   "cell_type": "code",
   "execution_count": 5,
   "metadata": {},
   "outputs": [
    {
     "name": "stdout",
     "output_type": "stream",
     "text": [
      "['Jhon', 'Alex', 'Spencer', 'Lucy']\n"
     ]
    }
   ],
   "source": [
    "# Employee Name list\n",
    "\n",
    "Emp_name = [\"Jhon\", \"Alex\", \"Spencer\", \"Lucy\"]\n",
    "print(Emp_name)"
   ]
  },
  {
   "cell_type": "code",
   "execution_count": 6,
   "metadata": {},
   "outputs": [
    {
     "name": "stdout",
     "output_type": "stream",
     "text": [
      "4\n"
     ]
    }
   ],
   "source": [
    "# Number of employees\n",
    "\n",
    "Num_emp = 4\n",
    "print(Num_emp)"
   ]
  },
  {
   "cell_type": "markdown",
   "metadata": {},
   "source": [
    "Now, we can take up the two lists and one integer to create the list \"*Employee*\", as follows :"
   ]
  },
  {
   "cell_type": "code",
   "execution_count": 7,
   "metadata": {},
   "outputs": [
    {
     "name": "stdout",
     "output_type": "stream",
     "text": [
      "[[1, 2, 3, 4], ['Jhon', 'Alex', 'Spencer', 'Lucy'], 4]\n"
     ]
    }
   ],
   "source": [
    "# Employee List\n",
    "\n",
    "Employee = [Emp_id, Emp_name, Num_emp]\n",
    "print(Employee)"
   ]
  },
  {
   "cell_type": "markdown",
   "metadata": {},
   "source": [
    "In the above \"*Employee*\" list, \"*Emp_id*\" and \"*Emp_name*\" are considered as the inner-lists."
   ]
  },
  {
   "cell_type": "markdown",
   "metadata": {},
   "source": [
    "## List Indexing\n",
    "\n",
    "There are two types of indexing :\n",
    "\n",
    "1. Positive indexing\n",
    "2. Negative Indexing\n",
    "\n",
    "### Positive Indexing\n",
    "\n",
    "- Starts from the left most element.\n",
    "- `0` is the first index\n",
    "\n",
    "### Negaive Indexing\n",
    "\n",
    "- Starts from the right most element\n",
    "- `-1` is the first index"
   ]
  },
  {
   "cell_type": "markdown",
   "metadata": {},
   "source": [
    "## Accessing List Elements\n",
    "\n",
    "To access the top level components, we can use single slicing operator `[]` as follows :"
   ]
  },
  {
   "cell_type": "code",
   "execution_count": 8,
   "metadata": {},
   "outputs": [
    {
     "name": "stdout",
     "output_type": "stream",
     "text": [
      "[42, 56, 'Harry', True, 6.7, 7]\n"
     ]
    }
   ],
   "source": [
    "# Given List\n",
    "\n",
    "lst = [42, 56, \"Harry\", True, 6.7, 7]\n",
    "print(lst)"
   ]
  },
  {
   "cell_type": "code",
   "execution_count": 9,
   "metadata": {},
   "outputs": [
    {
     "name": "stdout",
     "output_type": "stream",
     "text": [
      "42\n"
     ]
    }
   ],
   "source": [
    "# Accessing 1st element\n",
    "\n",
    "print(lst[0])"
   ]
  },
  {
   "cell_type": "code",
   "execution_count": 10,
   "metadata": {},
   "outputs": [
    {
     "name": "stdout",
     "output_type": "stream",
     "text": [
      "7\n"
     ]
    }
   ],
   "source": [
    "# Accessing last element with negative indexing\n",
    "\n",
    "print(lst[-1])"
   ]
  },
  {
   "cell_type": "markdown",
   "metadata": {},
   "source": [
    "To access a sub-list from the main list, we can use the `:` operatior.\n",
    ">***Note :*** `[m:n]` prints elements from `m+1` to `n`.\n",
    "\n",
    "***Example :***"
   ]
  },
  {
   "cell_type": "code",
   "execution_count": 11,
   "metadata": {},
   "outputs": [
    {
     "name": "stdout",
     "output_type": "stream",
     "text": [
      "[42, 56, 'Harry']\n"
     ]
    }
   ],
   "source": [
    "# To access first three elements from the list\n",
    "\n",
    "print( lst[:3] )"
   ]
  },
  {
   "cell_type": "code",
   "execution_count": 12,
   "metadata": {},
   "outputs": [
    {
     "name": "stdout",
     "output_type": "stream",
     "text": [
      "[True, 6.7, 7]\n"
     ]
    }
   ],
   "source": [
    "# To access last three elements from the list\n",
    "\n",
    "print( lst[-3:])"
   ]
  },
  {
   "cell_type": "code",
   "execution_count": 13,
   "metadata": {},
   "outputs": [
    {
     "name": "stdout",
     "output_type": "stream",
     "text": [
      "[56, 'Harry', True]\n"
     ]
    }
   ],
   "source": [
    "# To access the 2nd to 4th element :\n",
    "\n",
    "print( lst[1:4] )"
   ]
  },
  {
   "cell_type": "markdown",
   "metadata": {},
   "source": [
    "### Accessing Inner List Elements\n",
    "\n",
    "If the list contains multiple lists inside it then, we can use `[]` followed by another `[]` ,i.e, `[][]`\n",
    "\n",
    "***For example :***\n",
    "\n",
    "We can get the first employee name from \"*Emp_name*\" inner-list of of \"*Employee*\" list, as follows :"
   ]
  },
  {
   "cell_type": "code",
   "execution_count": 14,
   "metadata": {},
   "outputs": [
    {
     "name": "stdout",
     "output_type": "stream",
     "text": [
      "[[1, 2, 3, 4], ['Jhon', 'Alex', 'Spencer', 'Lucy'], 4]\n"
     ]
    }
   ],
   "source": [
    "# Printing the \"Employee\" list :\n",
    "\n",
    "print(Employee)"
   ]
  },
  {
   "cell_type": "code",
   "execution_count": 15,
   "metadata": {},
   "outputs": [
    {
     "name": "stdout",
     "output_type": "stream",
     "text": [
      "['Jhon', 'Alex', 'Spencer', 'Lucy']\n"
     ]
    }
   ],
   "source": [
    "# Printing the 2nd list element, i.e., \"Emp_name\" list :\n",
    "\n",
    "print(Employee[1])"
   ]
  },
  {
   "cell_type": "code",
   "execution_count": 16,
   "metadata": {},
   "outputs": [
    {
     "name": "stdout",
     "output_type": "stream",
     "text": [
      "Jhon\n"
     ]
    }
   ],
   "source": [
    "# Printing the 1st employee name :\n",
    "\n",
    "print(Employee[1][0])"
   ]
  },
  {
   "cell_type": "markdown",
   "metadata": {},
   "source": [
    "## Modifying List Elements\n",
    "\n",
    "Elements inside a list can be modified using two methods -:\n",
    "\n",
    "1. Assigning new element directly to the index position that has to be updated.\n",
    "2. Using UDF where, the element to be updated and its index number is given as an input.\n",
    "\n",
    "The first method of list modification is much easy and intuitive.\n",
    "\n",
    "***For Example :***\n",
    "\n",
    "We can change \"*Banana*\" to \"*Guava*\" in the \"*fruits*\" list as follows : "
   ]
  },
  {
   "cell_type": "code",
   "execution_count": 17,
   "metadata": {},
   "outputs": [
    {
     "name": "stdout",
     "output_type": "stream",
     "text": [
      "['Apple', 'Orange', 'Banana', 'Watermelon']\n"
     ]
    }
   ],
   "source": [
    "# printing the \"fruits\" list :\n",
    "\n",
    "print(fruits)"
   ]
  },
  {
   "cell_type": "code",
   "execution_count": 18,
   "metadata": {},
   "outputs": [
    {
     "name": "stdout",
     "output_type": "stream",
     "text": [
      "['Apple', 'Orange', 'Guava', 'Watermelon']\n"
     ]
    }
   ],
   "source": [
    "# Changinge \"Banana\" to \"Guava\"\n",
    "\n",
    "fruits[2] = \"Guava\"\n",
    "\n",
    "print(fruits)"
   ]
  },
  {
   "cell_type": "markdown",
   "metadata": {},
   "source": [
    "## Adding Elements to List\n",
    "\n",
    "We can add more elments to an existing list in the following two methods :\n",
    "\n",
    "1. `append` method (Adds element to the end of existing list)\n",
    "2. `insert` method (Adds element at the given index position)"
   ]
  },
  {
   "cell_type": "markdown",
   "metadata": {},
   "source": [
    "### `append()` Method\n",
    "---\n",
    "\n",
    "`append()` method adds an object at the end of the list.\n",
    "\n",
    "To add an object to the list :\n",
    "\n",
    "***Syntax :***\n",
    "```python\n",
    "list_name.append(object)\n",
    "```\n",
    "***For Example :***\n",
    "We can add \"*Mango*\" to an existing \"*fruits*\" list as follows :"
   ]
  },
  {
   "cell_type": "code",
   "execution_count": 19,
   "metadata": {},
   "outputs": [
    {
     "name": "stdout",
     "output_type": "stream",
     "text": [
      "['Apple', 'Orange', 'Guava', 'Watermelon']\n"
     ]
    }
   ],
   "source": [
    "# Printing the \"fruis\" list :\n",
    "\n",
    "print(fruits)"
   ]
  },
  {
   "cell_type": "code",
   "execution_count": 20,
   "metadata": {},
   "outputs": [
    {
     "name": "stdout",
     "output_type": "stream",
     "text": [
      "['Apple', 'Orange', 'Guava', 'Watermelon', 'Mango']\n"
     ]
    }
   ],
   "source": [
    "# Adding \"Mango\" to the list :\n",
    "\n",
    "fruits.append(\"Mango\")\n",
    "\n",
    "print(fruits)"
   ]
  },
  {
   "cell_type": "markdown",
   "metadata": {},
   "source": [
    "#### `append()` Method for Inner-List\n",
    "---\n",
    "\n",
    "We can also add element, to an inner-list by using the following syntax :\n",
    "\n",
    "***Syntax :***\n",
    "```python\n",
    "list_name[index].append(object)\n",
    "```\n",
    "***For Example :***\n",
    "We can add \"*5*\" to an existing \"*Emp_id*\" inner-list and as follows :"
   ]
  },
  {
   "cell_type": "code",
   "execution_count": 21,
   "metadata": {},
   "outputs": [
    {
     "name": "stdout",
     "output_type": "stream",
     "text": [
      "[[1, 2, 3, 4], ['Jhon', 'Alex', 'Spencer', 'Lucy'], 4]\n"
     ]
    }
   ],
   "source": [
    "# Printing the \"Employee\" list\n",
    "\n",
    "print(Employee)"
   ]
  },
  {
   "cell_type": "code",
   "execution_count": 22,
   "metadata": {},
   "outputs": [
    {
     "name": "stdout",
     "output_type": "stream",
     "text": [
      "[[1, 2, 3, 4, 5], ['Jhon', 'Alex', 'Spencer', 'Lucy'], 4]\n"
     ]
    }
   ],
   "source": [
    "# Adding \"5\" in the \"Enp_id\" list\n",
    "\n",
    "Employee[0].append(5)\n",
    "\n",
    "print(Employee)"
   ]
  },
  {
   "cell_type": "markdown",
   "metadata": {},
   "source": [
    "### `insert()` Method\n",
    "---\n",
    "\n",
    "`insert()` method adds an object at the given position in a list\n",
    "\n",
    "To add an object to the list :\n",
    "\n",
    "***Syntax :***\n",
    "```python\n",
    "list_name.insert(position,object)\n",
    "```\n",
    "***For Example :***\n",
    "We can add \"*Banana*\" to an existing \"*fruits*\" list before \"*Guava*\", as follows :"
   ]
  },
  {
   "cell_type": "code",
   "execution_count": 23,
   "metadata": {},
   "outputs": [
    {
     "name": "stdout",
     "output_type": "stream",
     "text": [
      "['Apple', 'Orange', 'Guava', 'Watermelon', 'Mango']\n"
     ]
    }
   ],
   "source": [
    "# Printing the \"fruis\" list :\n",
    "\n",
    "print(fruits)"
   ]
  },
  {
   "cell_type": "code",
   "execution_count": 24,
   "metadata": {},
   "outputs": [
    {
     "name": "stdout",
     "output_type": "stream",
     "text": [
      "['Apple', 'Orange', 'Banana', 'Guava', 'Watermelon', 'Mango']\n"
     ]
    }
   ],
   "source": [
    "# Adding \"Banana\" to the list before \"Guava\" :\n",
    "\n",
    "fruits.insert(2,\"Banana\")\n",
    "\n",
    "print(fruits)"
   ]
  },
  {
   "cell_type": "markdown",
   "metadata": {},
   "source": [
    ">***Note :*** If the specified `position` is beyond the existing list elements, the the new element will be added to the end of the exisisting list, just like the `append()` method."
   ]
  },
  {
   "cell_type": "markdown",
   "metadata": {},
   "source": [
    "#### `insert()` Method for Inner-List\n",
    "---\n",
    "\n",
    "We can also add element, to an inner-list by using the following syntax :\n",
    "\n",
    "***Syntax :***\n",
    "```python\n",
    "list_name[index].insert(position,object)\n",
    "```\n",
    "***For Example :***\n",
    "We can add the name \"*Walter*\" before the name \"*Lucy*\" to an existing \"*Emp_name*\" inner-list and as follows :"
   ]
  },
  {
   "cell_type": "code",
   "execution_count": 25,
   "metadata": {},
   "outputs": [
    {
     "name": "stdout",
     "output_type": "stream",
     "text": [
      "[[1, 2, 3, 4, 5], ['Jhon', 'Alex', 'Spencer', 'Lucy'], 4]\n"
     ]
    }
   ],
   "source": [
    "# Printing the \"Employee\" list\n",
    "\n",
    "print(Employee)"
   ]
  },
  {
   "cell_type": "code",
   "execution_count": 26,
   "metadata": {},
   "outputs": [
    {
     "name": "stdout",
     "output_type": "stream",
     "text": [
      "[[1, 2, 3, 4, 5], ['Jhon', 'Alex', 'Spencer', 'Walter', 'Lucy'], 4]\n"
     ]
    }
   ],
   "source": [
    "# Adding \"Walter\" before \"Lucy\" in the \"Enp_name\" list\n",
    "\n",
    "Employee[1].insert(3,\"Walter\")\n",
    "\n",
    "print(Employee)"
   ]
  },
  {
   "cell_type": "markdown",
   "metadata": {},
   "source": [
    ">***Notes :*** Negetive indexing is not supported as the `position` argument in `insert()` method "
   ]
  },
  {
   "cell_type": "markdown",
   "metadata": {},
   "source": [
    "### List Concatenation\n",
    "\n",
    "Two smaller lists can be added togather to form a consolidated list.\n",
    "\n",
    "***For Example :***\n",
    "\n",
    "We can create a list of \"*Class*\" by concatenating two sub-lists, as follows :"
   ]
  },
  {
   "cell_type": "code",
   "execution_count": 27,
   "metadata": {},
   "outputs": [
    {
     "name": "stdout",
     "output_type": "stream",
     "text": [
      "['Class 1', 'Class 2', 'Class 3']\n"
     ]
    }
   ],
   "source": [
    "# \"Lower_Class\" List\n",
    "\n",
    "Lower_Class = [\"Class 1\",\"Class 2\", \"Class 3\"]\n",
    "print(Lower_Class)"
   ]
  },
  {
   "cell_type": "code",
   "execution_count": 28,
   "metadata": {},
   "outputs": [
    {
     "name": "stdout",
     "output_type": "stream",
     "text": [
      "['Class 4', 'Class 5', 'Class 6']\n"
     ]
    }
   ],
   "source": [
    "# \"Upper_Class\" List\n",
    "\n",
    "Upper_Class = [\"Class 4\",\"Class 5\", \"Class 6\"]\n",
    "print(Upper_Class)"
   ]
  },
  {
   "cell_type": "code",
   "execution_count": 29,
   "metadata": {},
   "outputs": [
    {
     "name": "stdout",
     "output_type": "stream",
     "text": [
      "['Class 1', 'Class 2', 'Class 3', 'Class 4', 'Class 5', 'Class 6']\n"
     ]
    }
   ],
   "source": [
    "# \"Class\" List\n",
    "\n",
    "Class = Lower_Class + Upper_Class\n",
    "\n",
    "print(Class)"
   ]
  },
  {
   "cell_type": "markdown",
   "metadata": {},
   "source": [
    "## Extending a List\n",
    "\n",
    "Rather than concatenating two sub-strings to create another string, we may like to extend the existing list by adding all the elements of some other list.\n",
    "\n",
    "This can be achieved by using the `extend()` method\n",
    "\n",
    "### `extend()` Method\n",
    "\n",
    "`extend()` method extends the existing list.\n",
    "\n",
    "***Syntax :***\n",
    "```python\n",
    "existing_List.extend(List)\n",
    "```\n",
    "\n",
    "***For Example :***\n",
    "\n",
    "We can extend the existing \"*friuts*\" list by adding all the elements of \"*berry*\" list, as follows"
   ]
  },
  {
   "cell_type": "code",
   "execution_count": 30,
   "metadata": {},
   "outputs": [
    {
     "name": "stdout",
     "output_type": "stream",
     "text": [
      "['Apple', 'Orange', 'Banana', 'Guava', 'Watermelon', 'Mango']\n"
     ]
    }
   ],
   "source": [
    "# Printing the \"fruits\" list\n",
    "\n",
    "print(fruits)"
   ]
  },
  {
   "cell_type": "code",
   "execution_count": 31,
   "metadata": {},
   "outputs": [
    {
     "name": "stdout",
     "output_type": "stream",
     "text": [
      "['grapes', 'strawberry', 'blueberry', 'blackberry', 'cherry']\n"
     ]
    }
   ],
   "source": [
    "# \"Berry\" List\n",
    "\n",
    "berry = [\"grapes\", \"strawberry\",\"blueberry\", \"blackberry\", \"cherry\"]\n",
    "print(berry)"
   ]
  },
  {
   "cell_type": "code",
   "execution_count": 32,
   "metadata": {},
   "outputs": [
    {
     "name": "stdout",
     "output_type": "stream",
     "text": [
      "['Apple', 'Orange', 'Banana', 'Guava', 'Watermelon', 'Mango', 'grapes', 'strawberry', 'blueberry', 'blackberry', 'cherry']\n"
     ]
    }
   ],
   "source": [
    "# Extending the \"fruits\" list :\n",
    "\n",
    "fruits.extend(berry)\n",
    "print(fruits)"
   ]
  },
  {
   "cell_type": "markdown",
   "metadata": {},
   "source": [
    "## Removing List Elements\n",
    "\n",
    "There are 3 ways to delete an element from a list, i.e., \n",
    "\n",
    "1. Using `pop()` method\n",
    "2. Using `del` operator\n",
    "3. Using `remove()` method"
   ]
  },
  {
   "cell_type": "markdown",
   "metadata": {},
   "source": [
    "### `pop()` Method\n",
    "\n",
    "`pop()` methods removes the list element at the specified index number.\n",
    "\n",
    "***Syntax :***\n",
    "```python\n",
    "list.poke(index)\n",
    "```\n",
    "If nothing is provided as `index` then, the last element of the list will be deleted.\n",
    "\n",
    "***For Example :***\n",
    "\n",
    "We can delete the elements from the \"*fruits*\" list using the `pop()` method, as follows :"
   ]
  },
  {
   "cell_type": "code",
   "execution_count": 33,
   "metadata": {},
   "outputs": [
    {
     "name": "stdout",
     "output_type": "stream",
     "text": [
      "['Apple', 'Orange', 'Banana', 'Guava', 'Watermelon', 'Mango', 'grapes', 'strawberry', 'blueberry', 'blackberry', 'cherry']\n"
     ]
    }
   ],
   "source": [
    "# printing the \"fruits\" list :\n",
    "\n",
    "print(fruits)"
   ]
  },
  {
   "cell_type": "code",
   "execution_count": 34,
   "metadata": {},
   "outputs": [
    {
     "name": "stdout",
     "output_type": "stream",
     "text": [
      "['Apple', 'Orange', 'Banana', 'Guava', 'Watermelon', 'Mango', 'grapes', 'strawberry', 'blueberry', 'blackberry']\n"
     ]
    }
   ],
   "source": [
    "# Deleting the last element from \"fruits\",i.e., \"Cherry\"\n",
    "\n",
    "fruits.pop()\n",
    "print(fruits)"
   ]
  },
  {
   "cell_type": "code",
   "execution_count": 35,
   "metadata": {},
   "outputs": [
    {
     "name": "stdout",
     "output_type": "stream",
     "text": [
      "['Apple', 'Orange', 'Banana', 'Watermelon', 'Mango', 'grapes', 'strawberry', 'blueberry', 'blackberry']\n"
     ]
    }
   ],
   "source": [
    "# Deleting the 4th element (index = 3),i.e., \"Guava\" from the \"fruits\" list\n",
    "\n",
    "fruits.pop(3)\n",
    "print(fruits)"
   ]
  },
  {
   "cell_type": "markdown",
   "metadata": {},
   "source": [
    "#### `pop()` Method for Inner-List\n",
    "---\n",
    "\n",
    "We can also remove an element from inner-list by using the following syntax :\n",
    "\n",
    "***Syntax :***\n",
    "```python\n",
    "list_name[index].pop(inner_list_index)\n",
    "```\n",
    "***For Example :***\n",
    "We can delete last element of \"*Emp_name*\" inner-list as follows :"
   ]
  },
  {
   "cell_type": "code",
   "execution_count": 36,
   "metadata": {},
   "outputs": [
    {
     "name": "stdout",
     "output_type": "stream",
     "text": [
      "[[1, 2, 3, 4, 5], ['Jhon', 'Alex', 'Spencer', 'Walter', 'Lucy'], 4]\n"
     ]
    }
   ],
   "source": [
    "# Printing \"Employee\" List\n",
    "\n",
    "print(Employee)"
   ]
  },
  {
   "cell_type": "code",
   "execution_count": 37,
   "metadata": {},
   "outputs": [
    {
     "name": "stdout",
     "output_type": "stream",
     "text": [
      "[[1, 2, 3, 4, 5], ['Jhon', 'Alex', 'Spencer', 'Walter'], 4]\n"
     ]
    }
   ],
   "source": [
    "# Removing \"Lucy\" from the list :\n",
    "\n",
    "Employee[1].pop()\n",
    "print(Employee)"
   ]
  },
  {
   "cell_type": "markdown",
   "metadata": {},
   "source": [
    "Similarly, we can remove the 4th \"*Emp_id*\" from the list as follows : "
   ]
  },
  {
   "cell_type": "code",
   "execution_count": 38,
   "metadata": {},
   "outputs": [
    {
     "name": "stdout",
     "output_type": "stream",
     "text": [
      "[[1, 2, 3, 5], ['Jhon', 'Alex', 'Spencer', 'Walter'], 4]\n"
     ]
    }
   ],
   "source": [
    "# Removing \"4\" from the list :\n",
    "\n",
    "Employee[0].pop(3)\n",
    "print(Employee)"
   ]
  },
  {
   "cell_type": "markdown",
   "metadata": {},
   "source": [
    "### `del` Operator\n",
    "\n",
    "`del` operator also removes the element of the string for the specified index number.\n",
    "\n",
    "***Syntax :***\n",
    "```python\n",
    "del list[index]\n",
    "```\n",
    "\n",
    "***For Example :***\n",
    "\n",
    "We can delete the elements from the \"*fruits*\" list using the `del` operator, as follows :"
   ]
  },
  {
   "cell_type": "code",
   "execution_count": 39,
   "metadata": {},
   "outputs": [
    {
     "name": "stdout",
     "output_type": "stream",
     "text": [
      "['Apple', 'Orange', 'Banana', 'Watermelon', 'Mango', 'grapes', 'strawberry', 'blueberry', 'blackberry']\n"
     ]
    }
   ],
   "source": [
    "# printing the \"fruits\" list :\n",
    "\n",
    "print(fruits)"
   ]
  },
  {
   "cell_type": "code",
   "execution_count": 40,
   "metadata": {},
   "outputs": [
    {
     "name": "stdout",
     "output_type": "stream",
     "text": [
      "['Apple', 'Orange', 'Banana', 'Watermelon', 'Mango', 'grapes', 'strawberry', 'blueberry']\n"
     ]
    }
   ],
   "source": [
    "# Deleting the last element from \"fruits\",i.e., \"blackberry\"\n",
    "\n",
    "del fruits[-1]\n",
    "print(fruits)"
   ]
  },
  {
   "cell_type": "markdown",
   "metadata": {},
   "source": [
    "#### `del` Operator for Inner-List\n",
    "---\n",
    "\n",
    "We can also remove an element from inner-list by using the following syntax :\n",
    "\n",
    "***Syntax :***\n",
    "```python\n",
    "del list_name[outer_index][inner_index]\n",
    "```\n",
    "***For Example :***\n",
    "We can delete last element of \"*Emp_name*\" inner-list as follows :"
   ]
  },
  {
   "cell_type": "code",
   "execution_count": 41,
   "metadata": {},
   "outputs": [
    {
     "name": "stdout",
     "output_type": "stream",
     "text": [
      "[[1, 2, 3, 5], ['Jhon', 'Alex', 'Spencer', 'Walter'], 4]\n"
     ]
    }
   ],
   "source": [
    "# Printing \"Employee\" List\n",
    "\n",
    "print(Employee)"
   ]
  },
  {
   "cell_type": "code",
   "execution_count": 42,
   "metadata": {},
   "outputs": [
    {
     "name": "stdout",
     "output_type": "stream",
     "text": [
      "[[1, 2, 3, 5], ['Jhon', 'Alex', 'Spencer'], 4]\n"
     ]
    }
   ],
   "source": [
    "# Removing \"Walter\" from the list :\n",
    "\n",
    "del Employee[1][-1]\n",
    "print(Employee)"
   ]
  },
  {
   "cell_type": "markdown",
   "metadata": {},
   "source": [
    "### `remove()` Method\n",
    "\n",
    "`remove()` removes the matching element from the list.\n",
    "\n",
    "- `remove()` helps especially, when we have a longer list and don't know the index number of an element.\n",
    "- If an element is present more than one time in a list, then, `remove()` deletes the left-most element.\n",
    "- If the element provided in the `remove()` is not present in the list, then, an error will occur.\n",
    "\n",
    "***Syntax :***\n",
    "```python\n",
    "list_name.remove(object)\n",
    "```\n",
    "***For Example :*\n",
    "\n",
    "We can remove \"*Apple*\" from the \"*fruits*\" list using `remove()`, as follows :"
   ]
  },
  {
   "cell_type": "code",
   "execution_count": 43,
   "metadata": {},
   "outputs": [
    {
     "name": "stdout",
     "output_type": "stream",
     "text": [
      "['Apple', 'Orange', 'Banana', 'Watermelon', 'Mango', 'grapes', 'strawberry', 'blueberry']\n"
     ]
    }
   ],
   "source": [
    "# printing the \"fruits\" list\n",
    "\n",
    "print(fruits)"
   ]
  },
  {
   "cell_type": "code",
   "execution_count": 44,
   "metadata": {},
   "outputs": [
    {
     "name": "stdout",
     "output_type": "stream",
     "text": [
      "['Orange', 'Banana', 'Watermelon', 'Mango', 'grapes', 'strawberry', 'blueberry']\n"
     ]
    }
   ],
   "source": [
    "# Removing \"Apple\"\n",
    "\n",
    "fruits.remove(\"Apple\")\n",
    "print(fruits)"
   ]
  },
  {
   "cell_type": "markdown",
   "metadata": {},
   "source": [
    "#### `remove()` Method for Inner-List\n",
    "---\n",
    "\n",
    "We can also remove an element from inner-list by using the following syntax :\n",
    "\n",
    "***Syntax :***\n",
    "```python\n",
    "list_name[index].remove(object)\n",
    "```\n",
    "***For Example :***\n",
    "We can delete \"*5*\" from the \"*Emp_id*\" inner-list as follows :"
   ]
  },
  {
   "cell_type": "code",
   "execution_count": 45,
   "metadata": {},
   "outputs": [
    {
     "name": "stdout",
     "output_type": "stream",
     "text": [
      "[[1, 2, 3, 5], ['Jhon', 'Alex', 'Spencer'], 4]\n"
     ]
    }
   ],
   "source": [
    "# Printing \"Employee\" List\n",
    "\n",
    "print(Employee)"
   ]
  },
  {
   "cell_type": "code",
   "execution_count": 46,
   "metadata": {},
   "outputs": [
    {
     "name": "stdout",
     "output_type": "stream",
     "text": [
      "[[1, 2, 3], ['Jhon', 'Alex', 'Spencer'], 4]\n"
     ]
    }
   ],
   "source": [
    "# Removing \"5\" from the list :\n",
    "\n",
    "Employee[0].remove(5)\n",
    "print(Employee)"
   ]
  },
  {
   "cell_type": "markdown",
   "metadata": {},
   "source": [
    "## List Sorting\n",
    "\n",
    "Sorting on list has two variants :\n",
    "\n",
    "1. Sorting the list and its output using `sort()` method\n",
    "2. Just sorting the output using `sorted()` function"
   ]
  },
  {
   "cell_type": "markdown",
   "metadata": {},
   "source": [
    "### `sort()` Method\n",
    "\n",
    "The `sort()` method sorts the list in ascending order.\n",
    "\n",
    "- Strings will be sorted alphabetically (From *A* to *Z*)\n",
    "- Numerical values will be sorted in ascending order\n",
    "\n",
    "***Syntax :***\n",
    "```python\n",
    "list.sort()\n",
    "```\n",
    "\n",
    "***For Example :***\n",
    "\n",
    "We can sort the \"animals\" list as follows :"
   ]
  },
  {
   "cell_type": "code",
   "execution_count": 47,
   "metadata": {},
   "outputs": [
    {
     "name": "stdout",
     "output_type": "stream",
     "text": [
      "['Lion', 'Panda', 'Camel', 'Deer', 'Cat', 'Dog', 'Girrafe', 'Alligator', 'Cow', 'Horse']\n"
     ]
    }
   ],
   "source": [
    "# Creating and printing the \"animals\" list\n",
    "\n",
    "animals = [\"Lion\", \"Panda\", \"Camel\", \"Deer\", \"Cat\", \"Dog\", \"Girrafe\", \"Alligator\", \"Cow\", \"Horse\"]\n",
    "\n",
    "print(animals)"
   ]
  },
  {
   "cell_type": "code",
   "execution_count": 48,
   "metadata": {},
   "outputs": [
    {
     "name": "stdout",
     "output_type": "stream",
     "text": [
      "['Alligator', 'Camel', 'Cat', 'Cow', 'Deer', 'Dog', 'Girrafe', 'Horse', 'Lion', 'Panda']\n"
     ]
    }
   ],
   "source": [
    "# Sorting the list\n",
    "\n",
    "animals.sort()\n",
    "print(animals)"
   ]
  },
  {
   "cell_type": "markdown",
   "metadata": {},
   "source": [
    ">***Note :*** If a list is created by concatenating 2 or, more sub-lists then, each sub-lists will be sorted individually."
   ]
  },
  {
   "cell_type": "markdown",
   "metadata": {},
   "source": [
    "Similarly, we can sort the list with numerical values as follows :"
   ]
  },
  {
   "cell_type": "code",
   "execution_count": 49,
   "metadata": {},
   "outputs": [
    {
     "name": "stdout",
     "output_type": "stream",
     "text": [
      "[34, 56, 22, 67, 103, 32, 2, 5, 98, 103, 108, 225, 6, 12, 25]\n"
     ]
    }
   ],
   "source": [
    "# Creating and printing a numerical list\n",
    "\n",
    "num_lst = [34, 56, 22, 67, 103, 32, 2, 5, 98, 103, 108, 225, 6, 12, 25]\n",
    "\n",
    "print(num_lst)"
   ]
  },
  {
   "cell_type": "code",
   "execution_count": 50,
   "metadata": {},
   "outputs": [
    {
     "name": "stdout",
     "output_type": "stream",
     "text": [
      "[2, 5, 6, 12, 22, 25, 32, 34, 56, 67, 98, 103, 103, 108, 225]\n"
     ]
    }
   ],
   "source": [
    "# Sorting the num_lst\n",
    "\n",
    "num_lst.sort()\n",
    "\n",
    "print(num_lst)"
   ]
  },
  {
   "cell_type": "markdown",
   "metadata": {},
   "source": [
    "### `sorted()` Function\n",
    "\n",
    "The `sorted()` function just sorts output of a list in ascending order.\n",
    "\n",
    "- Strings will be sorted alphabetically (From *A* to *Z*)\n",
    "- Numerical values will be sorted in ascending order\n",
    "\n",
    "***Syntax :***\n",
    "```python\n",
    "sorted(list_name)\n",
    "```\n",
    "\n",
    "***For Example :***\n",
    "\n",
    "We can sort the \"birds\" list as follows :"
   ]
  },
  {
   "cell_type": "code",
   "execution_count": 51,
   "metadata": {},
   "outputs": [
    {
     "name": "stdout",
     "output_type": "stream",
     "text": [
      "['Crow', 'Dove', 'Goose', 'Owl', 'Peacock', 'Robbin', 'Sparrow', 'Woodkeeper']\n"
     ]
    }
   ],
   "source": [
    "# Creating and printing the sorted \"birds\" list\n",
    "\n",
    "birds = [\"Crow\", \"Peacock\", \"Goose\", \"Dove\", \"Sparrow\", \"Owl\", \"Woodkeeper\", \"Robbin\"]\n",
    "\n",
    "print(sorted(birds))"
   ]
  },
  {
   "cell_type": "markdown",
   "metadata": {},
   "source": [
    "## Lists with `in` Keyword\n",
    "\n",
    "`in` keyword can be used with a list to check whether a element is present in the list or, not.\n",
    "\n",
    "***For Example :***\n",
    "\n",
    "We can check whether \"*Eagle*\" is present in the \"*Birds*\" list or, not :"
   ]
  },
  {
   "cell_type": "code",
   "execution_count": 52,
   "metadata": {},
   "outputs": [
    {
     "name": "stdout",
     "output_type": "stream",
     "text": [
      "['Crow', 'Peacock', 'Goose', 'Dove', 'Sparrow', 'Owl', 'Woodkeeper', 'Robbin']\n"
     ]
    }
   ],
   "source": [
    "# Printing the \"Birds\" list\n",
    "\n",
    "print(birds)"
   ]
  },
  {
   "cell_type": "code",
   "execution_count": 53,
   "metadata": {},
   "outputs": [
    {
     "name": "stdout",
     "output_type": "stream",
     "text": [
      "No, Its not in the list\n"
     ]
    }
   ],
   "source": [
    "# Checking presence of \"Eagle\"\n",
    "\n",
    "if \"Eagle\" in birds:\n",
    "    print(\"Yes, Its Present\")\n",
    "else:\n",
    "    print(\"No, Its not in the list\")"
   ]
  },
  {
   "cell_type": "markdown",
   "metadata": {},
   "source": [
    "## Lists with `count()` Method\n",
    "\n",
    "`count()` method can be used to count the number of times an elements present in the list.\n",
    "\n",
    "***Syntax :***\n",
    "```python\n",
    "list.count(object)\n",
    "```\n",
    "\n",
    "***For Example :***\n",
    "\n",
    "We can count how many times the world \"*Pyhton*\" occurs in the \"*Programs*\" list :"
   ]
  },
  {
   "cell_type": "code",
   "execution_count": 54,
   "metadata": {},
   "outputs": [
    {
     "name": "stdout",
     "output_type": "stream",
     "text": [
      "2\n"
     ]
    }
   ],
   "source": [
    "# Creating the \"Programs\" list\n",
    "\n",
    "Programs = [\"Java\", \"Scala\", \"Javascript\", \"R\", \"Python\", \"C\", \"Python\", \"C++\"]\n",
    "\n",
    "print( Programs.count(\"Python\") )"
   ]
  },
  {
   "cell_type": "markdown",
   "metadata": {},
   "source": [
    "## Lists with `clear()` Method\n",
    "\n",
    "`clear()` method can be used to clear all the elements present in the list or, for returning an empty list\n",
    "\n",
    "***Syntax :***\n",
    "```python\n",
    "list.clear()\n",
    "```\n",
    "\n",
    "***For Example :***\n",
    "\n",
    "We can clear the \"*Programs*\" list, as follows :"
   ]
  },
  {
   "cell_type": "code",
   "execution_count": 55,
   "metadata": {},
   "outputs": [
    {
     "name": "stdout",
     "output_type": "stream",
     "text": [
      "['Java', 'Scala', 'Javascript', 'R', 'Python', 'C', 'Python', 'C++']\n"
     ]
    }
   ],
   "source": [
    "# Printing the \"Programs\" list\n",
    "\n",
    "print(Programs)"
   ]
  },
  {
   "cell_type": "code",
   "execution_count": 56,
   "metadata": {},
   "outputs": [
    {
     "name": "stdout",
     "output_type": "stream",
     "text": [
      "[]\n"
     ]
    }
   ],
   "source": [
    "# Clearing and printing the empty \"Programs\" list\n",
    "\n",
    "Programs.clear()\n",
    "\n",
    "print(Programs)"
   ]
  },
  {
   "cell_type": "markdown",
   "metadata": {},
   "source": [
    "## Lists with `copy()` Method\n",
    "\n",
    "`copy()` method can be used to copy an existing list\n",
    "\n",
    "***Syntax :***\n",
    "```python\n",
    "list.copy()\n",
    "```\n",
    "\n",
    "***For Example :***\n",
    "\n",
    "We can copy the \"birds\" list to a new \"birds_copied\" list, as follows :"
   ]
  },
  {
   "cell_type": "code",
   "execution_count": 57,
   "metadata": {},
   "outputs": [
    {
     "name": "stdout",
     "output_type": "stream",
     "text": [
      "['Crow', 'Peacock', 'Goose', 'Dove', 'Sparrow', 'Owl', 'Woodkeeper', 'Robbin']\n"
     ]
    }
   ],
   "source": [
    "# Printing the \"birds\" list :\n",
    "\n",
    "print(birds)"
   ]
  },
  {
   "cell_type": "code",
   "execution_count": 58,
   "metadata": {},
   "outputs": [
    {
     "name": "stdout",
     "output_type": "stream",
     "text": [
      "['Crow', 'Peacock', 'Goose', 'Dove', 'Sparrow', 'Owl', 'Woodkeeper', 'Robbin']\n"
     ]
    }
   ],
   "source": [
    "# Copying the list and printing new list\n",
    "\n",
    "birds_copied = birds.copy()\n",
    "\n",
    "print(birds_copied)"
   ]
  },
  {
   "cell_type": "markdown",
   "metadata": {},
   "source": [
    "## List Comparision\n",
    "\n",
    "Lists can be compared in two ways :\n",
    "- Comparision on the basis of values (Using `==` operator)\n",
    "- Comparision on the basis of memory occupation (Using `is` keyword)"
   ]
  },
  {
   "cell_type": "markdown",
   "metadata": {},
   "source": [
    "### `==` Operator\n",
    "\n",
    "Values of two lists are compared in accordance with their position with the `==` operator\n",
    "\n",
    "***For Example :***\n",
    "The following two lists contains 5 same numbers but with different index. So, the `==` operator will return `false` as output :"
   ]
  },
  {
   "cell_type": "code",
   "execution_count": 59,
   "metadata": {},
   "outputs": [
    {
     "name": "stdout",
     "output_type": "stream",
     "text": [
      "False\n"
     ]
    }
   ],
   "source": [
    "# Creating two lists\n",
    "\n",
    "lst1 = [5,3,6,8,2]\n",
    "lst2 = [3,6,8,5,2]\n",
    "\n",
    "# Comparing two lists\n",
    "\n",
    "print( lst1 == lst2 )"
   ]
  },
  {
   "cell_type": "markdown",
   "metadata": {},
   "source": [
    "But, if we make both the strings identical then, the result will be `True` :"
   ]
  },
  {
   "cell_type": "code",
   "execution_count": 60,
   "metadata": {},
   "outputs": [
    {
     "name": "stdout",
     "output_type": "stream",
     "text": [
      "True\n"
     ]
    }
   ],
   "source": [
    "# Making the lists identical\n",
    "\n",
    "lst1 = lst1.sort()\n",
    "lst2 = lst2.sort()\n",
    "\n",
    "# Comparing two lists\n",
    "\n",
    "print( lst1 == lst2 )"
   ]
  },
  {
   "cell_type": "markdown",
   "metadata": {},
   "source": [
    "### `is` Keyword\n",
    "\n",
    "`is` keyword checks if the lists are occupying the same memory or, not.\n",
    "\n",
    "***For Example :***\n",
    "The following two lists are identical but, the result will be `False` as they occupy different memory spaces :"
   ]
  },
  {
   "cell_type": "code",
   "execution_count": 61,
   "metadata": {},
   "outputs": [
    {
     "name": "stdout",
     "output_type": "stream",
     "text": [
      "False\n"
     ]
    }
   ],
   "source": [
    "# Creating two lists\n",
    "\n",
    "nums1 = [1,2,3]\n",
    "nums2 = [1,2,3]\n",
    "\n",
    "# Checking with \"is\" operator\n",
    "\n",
    "print(nums1 is nums2)"
   ]
  },
  {
   "cell_type": "markdown",
   "metadata": {},
   "source": [
    "But, if we assign `nums1` to `nums2` then, the result will be `True`:"
   ]
  },
  {
   "cell_type": "code",
   "execution_count": 62,
   "metadata": {},
   "outputs": [
    {
     "name": "stdout",
     "output_type": "stream",
     "text": [
      "True\n"
     ]
    }
   ],
   "source": [
    "nums1 = [1,2,3]\n",
    "nums2 = nums1\n",
    "\n",
    "print(nums1 is nums2)"
   ]
  }
 ],
 "metadata": {
  "kernelspec": {
   "display_name": "Python 3",
   "language": "python",
   "name": "python3"
  },
  "language_info": {
   "codemirror_mode": {
    "name": "ipython",
    "version": 3
   },
   "file_extension": ".py",
   "mimetype": "text/x-python",
   "name": "python",
   "nbconvert_exporter": "python",
   "pygments_lexer": "ipython3",
   "version": "3.7.6"
  }
 },
 "nbformat": 4,
 "nbformat_minor": 4
}
