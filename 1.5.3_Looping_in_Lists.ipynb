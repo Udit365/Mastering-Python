{
 "cells": [
  {
   "cell_type": "markdown",
   "metadata": {},
   "source": [
    "# Looping in Lists\n",
    "\n",
    "It is always recommended to use `for` loop with lists because it is clean and has a simpler syntax.\n",
    "\n",
    "Each element of the list is taken into account for each iteration in a `for` loop.\n",
    "\n",
    "***For Example :***\n",
    "\n",
    "To print each element of \"*fruits*\" list, we can run a `for` loop as follows :"
   ]
  },
  {
   "cell_type": "code",
   "execution_count": 1,
   "metadata": {},
   "outputs": [
    {
     "name": "stdout",
     "output_type": "stream",
     "text": [
      "Apple\n",
      "Orange\n",
      "Banana\n",
      "Guava\n",
      "Watermelon\n",
      "Mango\n",
      "Papaya\n",
      "Pineapple\n",
      "Kiwi\n"
     ]
    }
   ],
   "source": [
    "# Creating a \"fruits\" list\n",
    "\n",
    "fruits = [\"Apple\",\"Orange\", \"Banana\", \"Guava\", \"Watermelon\", \"Mango\", \"Papaya\", \"Pineapple\", \"Kiwi\"]\n",
    "\n",
    "# Printing each element :\n",
    "\n",
    "for i in fruits:\n",
    "    print(i)"
   ]
  },
  {
   "cell_type": "markdown",
   "metadata": {},
   "source": [
    "We can also use `while` loop for getting the above same result but, the sytax would be less intuitive."
   ]
  },
  {
   "cell_type": "code",
   "execution_count": 2,
   "metadata": {},
   "outputs": [
    {
     "name": "stdout",
     "output_type": "stream",
     "text": [
      "Apple\n",
      "Orange\n",
      "Banana\n",
      "Guava\n",
      "Watermelon\n",
      "Mango\n",
      "Papaya\n",
      "Pineapple\n",
      "Kiwi\n"
     ]
    }
   ],
   "source": [
    "# printing each element with a \"while\" loop\n",
    "\n",
    "i = 0\n",
    "while i < len(fruits):\n",
    "    print(fruits[i])\n",
    "    i += 1"
   ]
  },
  {
   "cell_type": "markdown",
   "metadata": {},
   "source": [
    "## Looping in Matrix\n",
    "\n",
    "Looping in matrix is very much similar to looping in simple list.\n",
    "\n",
    "***For Example :***\n",
    "\n",
    "To print all the inner-list or, each row of the list, we can run the loop as follows :"
   ]
  },
  {
   "cell_type": "code",
   "execution_count": 4,
   "metadata": {},
   "outputs": [
    {
     "name": "stdout",
     "output_type": "stream",
     "text": [
      "[1, 2, 3]\n",
      "[4, 5, 6]\n",
      "[7, 8, 9]\n"
     ]
    }
   ],
   "source": [
    "# Creating the 2D list/Matrix\n",
    "\n",
    "M = [[1,2,3],[4,5,6],[7,8,9]]\n",
    "\n",
    "# Printing all the rows / inner-list:\n",
    "\n",
    "for i in M:\n",
    "    print(i)"
   ]
  },
  {
   "cell_type": "markdown",
   "metadata": {},
   "source": [
    "Similarly, we can print each element of the 2D list as follows :"
   ]
  },
  {
   "cell_type": "code",
   "execution_count": 5,
   "metadata": {},
   "outputs": [
    {
     "name": "stdout",
     "output_type": "stream",
     "text": [
      "1\n",
      "2\n",
      "3\n",
      "4\n",
      "5\n",
      "6\n",
      "7\n",
      "8\n",
      "9\n"
     ]
    }
   ],
   "source": [
    "# Printing each element of matrix :\n",
    "\n",
    "for i in M:\n",
    "    for j in i:\n",
    "        print(j)"
   ]
  }
 ],
 "metadata": {
  "kernelspec": {
   "display_name": "Python 3",
   "language": "python",
   "name": "python3"
  },
  "language_info": {
   "codemirror_mode": {
    "name": "ipython",
    "version": 3
   },
   "file_extension": ".py",
   "mimetype": "text/x-python",
   "name": "python",
   "nbconvert_exporter": "python",
   "pygments_lexer": "ipython3",
   "version": "3.7.6"
  }
 },
 "nbformat": 4,
 "nbformat_minor": 4
}
