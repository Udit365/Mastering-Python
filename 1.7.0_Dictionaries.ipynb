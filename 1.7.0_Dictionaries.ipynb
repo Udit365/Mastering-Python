{
 "cells": [
  {
   "cell_type": "markdown",
   "metadata": {},
   "source": [
    "# Dictionaries\n",
    "\n",
    "Dictionaries in Python are the unordered collection of data in `{key:value}` pairs.\n",
    "\n",
    "- Python dictionaries is an example of hash-table data structure.\n",
    "- Work like `{key:value}` pairs, where the keys are mapped to values.\n",
    "- Dictionaries are enclosed by curly braces `{}`.\n",
    "- Any datatype can be stored within a dictionary.\n",
    "\n",
    "Lists are not enough to represent real life data and hence we need a data structure like dictionary in Python.\n",
    "\n",
    "***For Example:***\n",
    "\n",
    "We can create a dictionary with user details, as follows:"
   ]
  },
  {
   "cell_type": "code",
   "execution_count": 2,
   "metadata": {},
   "outputs": [
    {
     "name": "stdout",
     "output_type": "stream",
     "text": [
      "{'Name': 'Udit', 'Age': 24, 'Gender': 'Male'}\n"
     ]
    }
   ],
   "source": [
    "user_A = {\"Name\":\"Udit\", \"Age\":24, \"Gender\":\"Male\"}\n",
    "print(user_A)"
   ]
  },
  {
   "cell_type": "code",
   "execution_count": 3,
   "metadata": {},
   "outputs": [
    {
     "name": "stdout",
     "output_type": "stream",
     "text": [
      "<class 'dict'>\n"
     ]
    }
   ],
   "source": [
    "print(type(user_A))"
   ]
  },
  {
   "cell_type": "markdown",
   "metadata": {},
   "source": [
    "We can also create a dictionary by the following syntax as well:"
   ]
  },
  {
   "cell_type": "code",
   "execution_count": 4,
   "metadata": {},
   "outputs": [
    {
     "name": "stdout",
     "output_type": "stream",
     "text": [
      "{'Name': 'Ankit', 'Age': 25, 'Gender': 'Male'}\n"
     ]
    }
   ],
   "source": [
    "user_B = dict(Name = \"Ankit\" , Age = 25, Gender = \"Male\")\n",
    "print(user_B)"
   ]
  },
  {
   "cell_type": "markdown",
   "metadata": {},
   "source": [
    "## Accessing Dictionary Components\n",
    "\n",
    "There is no indexing in dictionary because of the unordered collection of data and thus we can take the help of \"*key*\" to access the results from the dictonary.\n",
    "\n",
    "***For Example:***\n",
    "\n",
    "We can access the \"*Name*\" from the \"*user*\" dictionary as follows:"
   ]
  },
  {
   "cell_type": "code",
   "execution_count": 5,
   "metadata": {},
   "outputs": [
    {
     "name": "stdout",
     "output_type": "stream",
     "text": [
      "Udit\n"
     ]
    }
   ],
   "source": [
    "print(user_A[\"Name\"])"
   ]
  },
  {
   "cell_type": "markdown",
   "metadata": {},
   "source": [
    "## Nested Dictionaries\n",
    "\n",
    "To make a neat and clean dictionary, we can take help of whitespaces as well.\n",
    "\n",
    "This is important particularly when we make nested dictionary, as follows:"
   ]
  },
  {
   "cell_type": "code",
   "execution_count": 7,
   "metadata": {},
   "outputs": [
    {
     "name": "stdout",
     "output_type": "stream",
     "text": [
      "{'user_1': {'Name': 'Adam', 'Age': 26, 'Gender': 'Male', 'Fav. Movie': ['Inception', 'Matrix', 'Avengers']}, 'user_2': {'Name': 'Cristhel', 'Age': 32, 'Gender': 'Female', 'Fav. Movie': ['The Hulk', 'Iron Man', 'Spider-Man 3']}, 'user_3': {'Name': 'Patrick', 'Age': 38, 'Gender': 'Male', 'Fav. Movie': ['Wolrd War Z', 'Averngers: End Game', 'Avengers: Infinity War']}}\n"
     ]
    }
   ],
   "source": [
    "user_info = {\n",
    "    \"user_1\" : {\n",
    "        \"Name\" : \"Adam\",\n",
    "        \"Age\" : 26,\n",
    "        \"Gender\" : \"Male\",\n",
    "        \"Fav. Movie\":[\"Inception\", \"Matrix\",\"Avengers\"]\n",
    "    },\n",
    "    \n",
    "    \"user_2\" : {\n",
    "        \"Name\" : \"Cristhel\",\n",
    "        \"Age\" : 32,\n",
    "        \"Gender\" : \"Female\",\n",
    "        \"Fav. Movie\":[\"The Hulk\", \"Iron Man\",\"Spider-Man 3\"]\n",
    "    },\n",
    "    \n",
    "    \"user_3\" : {\n",
    "        \"Name\" : \"Patrick\",\n",
    "        \"Age\" : 38,\n",
    "        \"Gender\" : \"Male\",\n",
    "        \"Fav. Movie\":[\"Wolrd War Z\", \"Averngers: End Game\",\"Avengers: Infinity War\"]\n",
    "    }\n",
    "}\n",
    "\n",
    "print(user_info)"
   ]
  },
  {
   "cell_type": "markdown",
   "metadata": {},
   "source": [
    "## Adding Data into Empty Dictionary\n",
    "\n",
    "We can also add data to an empty dictionary as follows:"
   ]
  },
  {
   "cell_type": "code",
   "execution_count": 13,
   "metadata": {},
   "outputs": [
    {
     "name": "stdout",
     "output_type": "stream",
     "text": [
      "{'Name': 'Mohit', 'Age': 24, 'Gender': 'Male', 'Blood Group': 'B+', 'Country': 'India'}\n"
     ]
    }
   ],
   "source": [
    "users = {}\n",
    "\n",
    "users[\"Name\"] = \"Mohit\"\n",
    "users[\"Age\"] = 24\n",
    "users[\"Gender\"] = \"Male\"\n",
    "users[\"Blood Group\"] = \"B+\"\n",
    "users[\"Country\"] = \"India\"\n",
    "\n",
    "print(users)"
   ]
  },
  {
   "cell_type": "markdown",
   "metadata": {},
   "source": [
    "## Conditional Execution in Dictionaries\n",
    "\n",
    "We can use the `in` keyword to check whether a \"*key*\" exists in a dictionary or, not.\n",
    "\n",
    "***For Example:***\n",
    "\n",
    "We can check whether \"*Name*\" is present in the \"*users*\" dictionary or, not as follows:"
   ]
  },
  {
   "cell_type": "code",
   "execution_count": 14,
   "metadata": {},
   "outputs": [
    {
     "name": "stdout",
     "output_type": "stream",
     "text": [
      "Present\n"
     ]
    }
   ],
   "source": [
    "if \"Name\" in users:\n",
    "    print(\"Present\")\n",
    "else:\n",
    "    print(\"Absent\")"
   ]
  },
  {
   "cell_type": "markdown",
   "metadata": {},
   "source": [
    "Similarly, we can check whether a value is present in a dictionary or, not by using the `values()` method. as follows:"
   ]
  },
  {
   "cell_type": "code",
   "execution_count": 15,
   "metadata": {},
   "outputs": [
    {
     "name": "stdout",
     "output_type": "stream",
     "text": [
      "Absent\n"
     ]
    }
   ],
   "source": [
    "if \"Udit\" in users.values():\n",
    "    print(\"Present\")\n",
    "else:\n",
    "    print(\"Absent\")"
   ]
  },
  {
   "cell_type": "markdown",
   "metadata": {},
   "source": [
    "## `values()` Method\n",
    "\n",
    "The `values()` method is used to extract the only the \"*values*\" present in a dictionary.\n",
    "\n",
    "***For Example:***\n",
    "\n",
    "We can extract the \"*values*\" from the \"*users*\" dictionary as follows:\n"
   ]
  },
  {
   "cell_type": "code",
   "execution_count": 17,
   "metadata": {},
   "outputs": [
    {
     "name": "stdout",
     "output_type": "stream",
     "text": [
      "dict_values(['Mohit', 24, 'Male', 'B+', 'India'])\n"
     ]
    }
   ],
   "source": [
    "users_values = users.values()\n",
    "\n",
    "print(users_values)"
   ]
  },
  {
   "cell_type": "code",
   "execution_count": 20,
   "metadata": {},
   "outputs": [
    {
     "name": "stdout",
     "output_type": "stream",
     "text": [
      "<class 'dict_values'>\n"
     ]
    }
   ],
   "source": [
    "print(type(users_values))"
   ]
  },
  {
   "cell_type": "markdown",
   "metadata": {},
   "source": [
    "## `keys()` Method\n",
    "\n",
    "The `keys()` method is used to extract the only the \"*keys*\" present in a dictionary.\n",
    "\n",
    "***For Example:***\n",
    "\n",
    "We can extract the \"*keys*\" from the \"*users*\" dictionary as follows:"
   ]
  },
  {
   "cell_type": "code",
   "execution_count": 19,
   "metadata": {},
   "outputs": [
    {
     "name": "stdout",
     "output_type": "stream",
     "text": [
      "dict_keys(['Name', 'Age', 'Gender', 'Blood Group', 'Country'])\n"
     ]
    }
   ],
   "source": [
    "users_keys = users.keys()\n",
    "\n",
    "print(users_keys)"
   ]
  },
  {
   "cell_type": "code",
   "execution_count": 21,
   "metadata": {},
   "outputs": [
    {
     "name": "stdout",
     "output_type": "stream",
     "text": [
      "<class 'dict_keys'>\n"
     ]
    }
   ],
   "source": [
    "print(type(users_keys))"
   ]
  },
  {
   "cell_type": "markdown",
   "metadata": {},
   "source": [
    "## `items()` Method\n",
    "\n",
    "The `items()` method is used to extract both \"*keys*\" and \"*value*\" from a dictionary.\n",
    "\n",
    "***For Example:***\n",
    "\n",
    "We can extract the \"*keys*\" and \"*values*\" from the \"*users*\" dictionary as follows:\n"
   ]
  },
  {
   "cell_type": "code",
   "execution_count": 28,
   "metadata": {},
   "outputs": [
    {
     "name": "stdout",
     "output_type": "stream",
     "text": [
      "dict_items([('Name', 'Mohit'), ('Age', 24), ('Gender', 'Male'), ('Blood Group', 'B+'), ('Country', 'India')])\n"
     ]
    }
   ],
   "source": [
    "users_items = users.items()\n",
    "\n",
    "print(users_items)"
   ]
  },
  {
   "cell_type": "code",
   "execution_count": 29,
   "metadata": {},
   "outputs": [
    {
     "name": "stdout",
     "output_type": "stream",
     "text": [
      "<class 'dict_items'>\n"
     ]
    }
   ],
   "source": [
    "print(type(users_items))"
   ]
  },
  {
   "cell_type": "markdown",
   "metadata": {},
   "source": [
    ">***Notes:***<br>\n",
    "   - The data type of dictionary values, keys and items are *dict_values*, *dict_keys* and *dict_items* respectively.\n",
    "   - Although they seem like a list but, we can't add/delete data.\n",
    "   - Looping is possible with *dict_values*, *dict_keys* and *dict_items*"
   ]
  },
  {
   "cell_type": "markdown",
   "metadata": {},
   "source": [
    "## Looping over Dictionaries\n",
    "\n",
    "We can run loop over the dictionaries as well.\n",
    "\n",
    "***For Example:***\n",
    "\n",
    "We can extract keys from the \"*users*\" dictionary as follows:"
   ]
  },
  {
   "cell_type": "code",
   "execution_count": 22,
   "metadata": {},
   "outputs": [
    {
     "name": "stdout",
     "output_type": "stream",
     "text": [
      "Name\n",
      "Age\n",
      "Gender\n",
      "Blood Group\n",
      "Country\n"
     ]
    }
   ],
   "source": [
    "for i in users:\n",
    "    print(i)"
   ]
  },
  {
   "cell_type": "markdown",
   "metadata": {},
   "source": [
    "Or, we can also extract the \"*keys*\" as follows: "
   ]
  },
  {
   "cell_type": "code",
   "execution_count": 23,
   "metadata": {},
   "outputs": [
    {
     "name": "stdout",
     "output_type": "stream",
     "text": [
      "Name\n",
      "Age\n",
      "Gender\n",
      "Blood Group\n",
      "Country\n"
     ]
    }
   ],
   "source": [
    "for i in users.keys():\n",
    "    print(i)"
   ]
  },
  {
   "cell_type": "markdown",
   "metadata": {},
   "source": [
    "Similarly, we can extract the \"*values*\" from the \"*users*\" dictionaries as follows:"
   ]
  },
  {
   "cell_type": "code",
   "execution_count": 24,
   "metadata": {},
   "outputs": [
    {
     "name": "stdout",
     "output_type": "stream",
     "text": [
      "Mohit\n",
      "24\n",
      "Male\n",
      "B+\n",
      "India\n"
     ]
    }
   ],
   "source": [
    "for i in users.values():\n",
    "    print(i)"
   ]
  },
  {
   "cell_type": "markdown",
   "metadata": {},
   "source": [
    "Or, we can also use the following syntax:"
   ]
  },
  {
   "cell_type": "code",
   "execution_count": 26,
   "metadata": {},
   "outputs": [
    {
     "name": "stdout",
     "output_type": "stream",
     "text": [
      "Mohit\n",
      "24\n",
      "Male\n",
      "B+\n",
      "India\n"
     ]
    }
   ],
   "source": [
    "for i in users:\n",
    "    print(users[i])"
   ]
  },
  {
   "cell_type": "markdown",
   "metadata": {},
   "source": [
    "We can print both \"*key*\" and \"*value*\" from the dictionary as follows:"
   ]
  },
  {
   "cell_type": "code",
   "execution_count": 30,
   "metadata": {},
   "outputs": [
    {
     "name": "stdout",
     "output_type": "stream",
     "text": [
      "key is Name and value is Mohit\n",
      "key is Age and value is 24\n",
      "key is Gender and value is Male\n",
      "key is Blood Group and value is B+\n",
      "key is Country and value is India\n"
     ]
    }
   ],
   "source": [
    "for i,j in users.items():\n",
    "    print(f\"key is {i} and value is {j}\")"
   ]
  },
  {
   "cell_type": "markdown",
   "metadata": {},
   "source": [
    "We can also preint the \"*key:value*\" pair as individual tuples, as follows:"
   ]
  },
  {
   "cell_type": "code",
   "execution_count": 31,
   "metadata": {},
   "outputs": [
    {
     "name": "stdout",
     "output_type": "stream",
     "text": [
      "('Name', 'Mohit')\n",
      "('Age', 24)\n",
      "('Gender', 'Male')\n",
      "('Blood Group', 'B+')\n",
      "('Country', 'India')\n"
     ]
    }
   ],
   "source": [
    "for i in users.items():\n",
    "    print(i)"
   ]
  },
  {
   "cell_type": "markdown",
   "metadata": {},
   "source": [
    "## Appending Data in Dictionary\n",
    "\n",
    "We can add new \"*key:value*\" pairs in an existing dictionary too.\n",
    "\n",
    "***For Example:***\n",
    "\n",
    "We can add the \"*Favorite Movies*\" list into the \"*users*\" dictionary, as follows:"
   ]
  },
  {
   "cell_type": "code",
   "execution_count": 32,
   "metadata": {},
   "outputs": [
    {
     "name": "stdout",
     "output_type": "stream",
     "text": [
      "{'Name': 'Mohit', 'Age': 24, 'Gender': 'Male', 'Blood Group': 'B+', 'Country': 'India', 'Favourite Movies': ['Avengers', 'Captain America', 'Iron Man']}\n"
     ]
    }
   ],
   "source": [
    "users[\"Favourite Movies\"] = [\"Avengers\", \"Captain America\", \"Iron Man\"]\n",
    "\n",
    "print(users)"
   ]
  },
  {
   "cell_type": "markdown",
   "metadata": {},
   "source": [
    "## Modifying the Dictionary\n",
    "\n",
    "There are several methods by which we can modify the existing dictionary.\n",
    "\n",
    "1. `update()` method\n",
    "2. `del()` method\n",
    "3. `pop()` method\n",
    "4. `popitem()` method\n",
    "5. `clear()` method\n",
    "\n",
    "### `update()` Method\n",
    "\n",
    "The \"*key*\" names are unique in a dictionary and if we a pass a different value with an existing *key* name then, the *value* associated with the *key* gets updated with the new *value*.\n",
    "\n",
    "We can also make use of the `update()` method to update the existing \"*key:value*\" pair.\n",
    "\n",
    "***Syntax:***\n",
    "\n",
    "```python\n",
    "dictionary_name.update({key:value})\n",
    "```\n",
    "\n",
    "***For Example:***\n",
    "\n",
    "We can change the \"*Name*\" to \"*Rohit*\" in the existing \"*users*\" dictionary, as follows:"
   ]
  },
  {
   "cell_type": "code",
   "execution_count": 33,
   "metadata": {},
   "outputs": [
    {
     "name": "stdout",
     "output_type": "stream",
     "text": [
      "{'Name': 'Mohit', 'Age': 24, 'Gender': 'Male', 'Blood Group': 'B+', 'Country': 'India', 'Favourite Movies': ['Avengers', 'Captain America', 'Iron Man']}\n"
     ]
    }
   ],
   "source": [
    "users.update({\"Name\":\"Mohit\"})\n",
    "\n",
    "print(users)"
   ]
  },
  {
   "cell_type": "markdown",
   "metadata": {},
   "source": [
    "### `pop()` Method\n",
    "\n",
    "The `pop()` method removes the \"*key:value*\" pair and also returns the deleted item.\n",
    "\n",
    "***Syntax:***\n",
    "\n",
    "```python\n",
    "dictionary_name.pop(\"key\")\n",
    "```\n",
    ">***Notes:***\n",
    "- Atleast one key needs to be passed inside the `pop()` method\n",
    "\n",
    "\n",
    "\n",
    "***For Example:***\n",
    "\n",
    "We can remove the \"*Favourite Movies*\" list from the \"*users*\" dictionary as follows:"
   ]
  },
  {
   "cell_type": "code",
   "execution_count": 34,
   "metadata": {},
   "outputs": [
    {
     "name": "stdout",
     "output_type": "stream",
     "text": [
      "The popped item is: ['Avengers', 'Captain America', 'Iron Man']\n"
     ]
    }
   ],
   "source": [
    "popped = users.pop(\"Favourite Movies\")\n",
    "\n",
    "print(f\"The popped item is: {popped}\")"
   ]
  },
  {
   "cell_type": "code",
   "execution_count": 35,
   "metadata": {},
   "outputs": [
    {
     "name": "stdout",
     "output_type": "stream",
     "text": [
      "{'Name': 'Mohit', 'Age': 24, 'Gender': 'Male', 'Blood Group': 'B+', 'Country': 'India'}\n"
     ]
    }
   ],
   "source": [
    "print(users)"
   ]
  },
  {
   "cell_type": "markdown",
   "metadata": {},
   "source": [
    "### `popitem()` Method\n",
    "\n",
    "The `popitem()` method randomly removes any \"key:value\" pair from the dictionary and returns the deleted item.\n",
    "\n",
    "***Syntax:***\n",
    "\n",
    "```python\n",
    "dictionary_name.popitem()\n",
    "```\n",
    "\n",
    "***For Example:***\n",
    "\n",
    "We can remove any random \"*key:value*\" pair from the \"*users*\" dictionary as follows:"
   ]
  },
  {
   "cell_type": "code",
   "execution_count": 36,
   "metadata": {},
   "outputs": [
    {
     "name": "stdout",
     "output_type": "stream",
     "text": [
      "The item popped is: ('Country', 'India')\n"
     ]
    }
   ],
   "source": [
    "randomly_popped = users.popitem()\n",
    "\n",
    "print(f\"The item popped is: {randomly_popped}\")"
   ]
  },
  {
   "cell_type": "code",
   "execution_count": 37,
   "metadata": {},
   "outputs": [
    {
     "name": "stdout",
     "output_type": "stream",
     "text": [
      "{'Name': 'Mohit', 'Age': 24, 'Gender': 'Male', 'Blood Group': 'B+'}\n"
     ]
    }
   ],
   "source": [
    "print(users)"
   ]
  },
  {
   "cell_type": "markdown",
   "metadata": {},
   "source": [
    "### `del()` Method\n",
    "\n",
    "The `del()` works just like the `pop()` method but, it doesn't store the deleted item.\n",
    "\n",
    "***Syntax:***\n",
    "\n",
    "```python\n",
    "del dictionary_name[\"key\"]\n",
    "```\n",
    ">***Notes:***\n",
    "- Atleast one key needs to be passed inside the `del()` method\n",
    "\n",
    "\n",
    "\n",
    "***For Example:***\n",
    "\n",
    "We can remove the \"*Blood Group*\" from the \"*users*\" dictionary as follows:"
   ]
  },
  {
   "cell_type": "code",
   "execution_count": 39,
   "metadata": {},
   "outputs": [
    {
     "name": "stdout",
     "output_type": "stream",
     "text": [
      "{'Name': 'Mohit', 'Age': 24, 'Gender': 'Male'}\n"
     ]
    }
   ],
   "source": [
    "del users[\"Blood Group\"]\n",
    "\n",
    "print(users)"
   ]
  },
  {
   "cell_type": "markdown",
   "metadata": {},
   "source": [
    "###  `clear()` Method\n",
    "\n",
    "The `clear()` method clears everything, i.e., all the \"*key:value*\" pairs from the dictionary.\n",
    "\n",
    "***Syntax:***\n",
    "\n",
    "```python\n",
    "dictionary_name.clear()\n",
    "```\n",
    "\n",
    "***For Example:***\n",
    "\n",
    "We can remove the everything from \"*users*\" dictionary as follows:"
   ]
  },
  {
   "cell_type": "code",
   "execution_count": 40,
   "metadata": {},
   "outputs": [
    {
     "name": "stdout",
     "output_type": "stream",
     "text": [
      "{}\n"
     ]
    }
   ],
   "source": [
    "users.clear()\n",
    "\n",
    "print(users)"
   ]
  },
  {
   "cell_type": "markdown",
   "metadata": {},
   "source": [
    "## `copy()` Method\n",
    "\n",
    "As the name suggests, the `copy()` method is used to make a copy of an existing dictionary.\n",
    "\n",
    "***Syntax:***\n",
    "\n",
    "```python\n",
    "dictionary_name2 = dictionary_name.copy()\n",
    "```\n",
    "\n",
    "***For Example:***\n",
    "\n",
    "We can add new items into the *users* dictionary and can create a copy of the same as backup as follows:"
   ]
  },
  {
   "cell_type": "code",
   "execution_count": 41,
   "metadata": {},
   "outputs": [
    {
     "name": "stdout",
     "output_type": "stream",
     "text": [
      "{'Name': 'Alex', 'Gender': 'Male', 'Age': '34', 'Marital Status': 'Married', 'Blood Group': 'A-', 'Country': 'United States', 'State': 'California'}\n"
     ]
    }
   ],
   "source": [
    "# Adding items to \"users\" dictionary\n",
    "\n",
    "users[\"Name\"] = \"Alex\"\n",
    "users[\"Gender\"] = \"Male\"\n",
    "users[\"Age\"] = \"34\"\n",
    "users[\"Marital Status\"] = \"Married\"\n",
    "users[\"Blood Group\"] = \"A-\"\n",
    "users[\"Country\"] = \"United States\"\n",
    "users[\"State\"] = \"California\"\n",
    "\n",
    "print(users)"
   ]
  },
  {
   "cell_type": "code",
   "execution_count": 42,
   "metadata": {},
   "outputs": [
    {
     "name": "stdout",
     "output_type": "stream",
     "text": [
      "{'Name': 'Alex', 'Gender': 'Male', 'Age': '34', 'Marital Status': 'Married', 'Blood Group': 'A-', 'Country': 'United States', 'State': 'California'}\n"
     ]
    }
   ],
   "source": [
    "# Creating a copy of the \"users\" dictionary\n",
    "\n",
    "users_backup = users.copy()\n",
    "\n",
    "print(users_backup)"
   ]
  },
  {
   "cell_type": "markdown",
   "metadata": {},
   "source": [
    "## Assigning Same *Value* to Multiple *Keys*\n",
    "\n",
    "The general way to assign same value to multiple keys is as follows:"
   ]
  },
  {
   "cell_type": "code",
   "execution_count": 43,
   "metadata": {},
   "outputs": [
    {
     "name": "stdout",
     "output_type": "stream",
     "text": [
      "{'Name': 'Unknown', 'Address': 'Unknowm', 'Age': 'Unknown'}\n"
     ]
    }
   ],
   "source": [
    "sample_1 = {\n",
    "    \"Name\":\"Unknown\",\n",
    "    \"Address\":\"Unknowm\",\n",
    "    \"Age\": \"Unknown\"\n",
    "}\n",
    "\n",
    "print(sample_1)"
   ]
  },
  {
   "cell_type": "markdown",
   "metadata": {},
   "source": [
    "However, we can do the same in a much easier way by using the `fromkeys()` method.\n",
    "\n",
    "### `fromkeys()` Method\n",
    "\n",
    "This is an efficient ways to add same value to multiple \"*keys()*\".\n",
    "\n",
    "***Syntax :***\n",
    "\n",
    "```python\n",
    "dict.fromkeys([\"key1\",\"key2\",\"keyn\"],\"value\")\n",
    "```\n",
    "\n",
    "***For Example:***\n",
    "\n",
    "We can create a dictionary with multiple *keys* having same *value* as follows: "
   ]
  },
  {
   "cell_type": "code",
   "execution_count": 48,
   "metadata": {},
   "outputs": [
    {
     "name": "stdout",
     "output_type": "stream",
     "text": [
      "{'Name': 'Unknown', 'Age': 'Unknown', 'Gender': 'Unknown'}\n"
     ]
    }
   ],
   "source": [
    "sample_2 = dict.fromkeys([\"Name\", \"Age\", \"Gender\"], \"Unknown\")\n",
    "\n",
    "print(sample_2)"
   ]
  },
  {
   "cell_type": "markdown",
   "metadata": {},
   "source": [
    "`fromkeys()` is important especially when we have a range of numbers as *key* and we need to assign a constant value to each of them, as follows:"
   ]
  },
  {
   "cell_type": "code",
   "execution_count": 49,
   "metadata": {},
   "outputs": [
    {
     "name": "stdout",
     "output_type": "stream",
     "text": [
      "{1: 'Unknown', 2: 'Unknown', 3: 'Unknown', 4: 'Unknown', 5: 'Unknown', 6: 'Unknown', 7: 'Unknown', 8: 'Unknown', 9: 'Unknown', 10: 'Unknown'}\n"
     ]
    }
   ],
   "source": [
    "d = dict.fromkeys(range(1,11),\"Unknown\")\n",
    "\n",
    "print(d)"
   ]
  },
  {
   "cell_type": "markdown",
   "metadata": {},
   "source": [
    "## `get()` Method\n",
    "\n",
    "`get()` method is an alternative way to get the *value* associated with a *key* without using the slicing operator,i.e., `[]`.\n",
    "\n",
    "***Syntax:***\n",
    "\n",
    "```python\n",
    "dictionary_name.get(\"key\")\n",
    "```\n",
    ">***Notes:***\n",
    "- The advantage of using the `get()` method over the slicing operator is : `get()` doesn't throws an error if the *key* provided is not present in the dictionary, rather it returns `none`\n",
    "- `none` is considered as `False` in Python, so, to check whether a *key* is present in a dictionary or, not; we can use the `get()` method.\n",
    "\n",
    "***For Example:***\n",
    "\n",
    "we can check whether \"*Namess*\" is present in the \"*users*\" dictionary or, not as follows:"
   ]
  },
  {
   "cell_type": "code",
   "execution_count": 50,
   "metadata": {},
   "outputs": [
    {
     "name": "stdout",
     "output_type": "stream",
     "text": [
      "Absent\n"
     ]
    }
   ],
   "source": [
    "if users.get(\"Namess\"):\n",
    "    print(\"Present\")\n",
    "else:\n",
    "    print(\"Absent\")"
   ]
  },
  {
   "cell_type": "markdown",
   "metadata": {},
   "source": [
    "The `get()` method also takes a second argument that can be used as the return statement if the provided *key* is not present in the dictionary.\n",
    "\n",
    "***For Example:***\n",
    "\n",
    "We can return \"*Not Found !!!*\" instead of `none`, as follows:"
   ]
  },
  {
   "cell_type": "code",
   "execution_count": 51,
   "metadata": {},
   "outputs": [
    {
     "data": {
      "text/plain": [
       "'Not Found !!!'"
      ]
     },
     "execution_count": 51,
     "metadata": {},
     "output_type": "execute_result"
    }
   ],
   "source": [
    "users.get(\"Namess\", \"Not Found !!!\")"
   ]
  }
 ],
 "metadata": {
  "kernelspec": {
   "display_name": "Python 3",
   "language": "python",
   "name": "python3"
  },
  "language_info": {
   "codemirror_mode": {
    "name": "ipython",
    "version": 3
   },
   "file_extension": ".py",
   "mimetype": "text/x-python",
   "name": "python",
   "nbconvert_exporter": "python",
   "pygments_lexer": "ipython3",
   "version": "3.7.6"
  }
 },
 "nbformat": 4,
 "nbformat_minor": 4
}
