{
 "cells": [
  {
   "cell_type": "markdown",
   "metadata": {},
   "source": [
    "# Conditional Statement"
   ]
  },
  {
   "cell_type": "markdown",
   "metadata": {},
   "source": [
    "## `if` Statement\n",
    "\n",
    "***Syntax :***\n",
    "```python\n",
    "if CONDITION:\n",
    "    print(\"statement\")\n",
    "```\n",
    "\n",
    ">***Note :*** Indentation plays a key role in Python, improper indentation raises an \"*Indentation Error*\""
   ]
  },
  {
   "cell_type": "code",
   "execution_count": 3,
   "metadata": {},
   "outputs": [
    {
     "name": "stdout",
     "output_type": "stream",
     "text": [
      "Enter Your Age: 17\n"
     ]
    }
   ],
   "source": [
    "# Taking \"Age\" as the user input\n",
    "\n",
    "age = int(input(\"Enter Your Age: \"))\n",
    "\n",
    "if age >= 18:\n",
    "    print(\"You are above 18\")"
   ]
  },
  {
   "cell_type": "markdown",
   "metadata": {},
   "source": [
    "### `pass` Keyword\n",
    "\n",
    "The `pass` keyword is used to avoid errors in python, in case, the user don't want to show anything after the execution of `if` statement.\n",
    "\n",
    "For example :\n",
    "\n",
    "The following code will take the age as input from tghe user and even if the the condition get satisfied, the below `if` statement won't execute anything.\n"
   ]
  },
  {
   "cell_type": "code",
   "execution_count": 4,
   "metadata": {},
   "outputs": [
    {
     "name": "stdout",
     "output_type": "stream",
     "text": [
      "Enter Your Age: 52\n"
     ]
    }
   ],
   "source": [
    "# Taking \"Age\" as the user input\n",
    "\n",
    "age = int(input(\"Enter Your Age: \"))\n",
    "\n",
    "if age >= 18:\n",
    "    pass"
   ]
  },
  {
   "cell_type": "markdown",
   "metadata": {},
   "source": [
    ">***Note :*** Without the `pass` keyword, the above python code will throw an error and `if` statment need to execute something."
   ]
  },
  {
   "cell_type": "markdown",
   "metadata": {},
   "source": [
    "## `if-else` Statement\n",
    "\n",
    "The `else` statment is used to print the alternate result if the give condition is `false`.\n",
    "\n",
    "### `else` Statement\n",
    "\n",
    "- It is always used along with the `if` statement.\n",
    "- `if` statement can be written without the `else` statement but, the reverse is not true.\n",
    "\n",
    "***Syntax :***\n",
    "```python\n",
    "if CONDITION:\n",
    "    print(\"statement\")\n",
    "else:\n",
    "    print(\"Alternate Statement\")\n",
    "```\n",
    "\n",
    "***Example :***\n",
    "\n",
    "Take the \"*Age*\" as the user input and print suitable statments when the \"*Age>=18*\" and when the \"*Age<18*\" :"
   ]
  },
  {
   "cell_type": "code",
   "execution_count": 5,
   "metadata": {},
   "outputs": [
    {
     "name": "stdout",
     "output_type": "stream",
     "text": [
      "Enter Your Age: 14\n",
      "You are under 18\n"
     ]
    }
   ],
   "source": [
    "# Taking \"Age\" as the user input\n",
    "\n",
    "age = int(input(\"Enter Your Age: \"))\n",
    "\n",
    "if age >= 18:\n",
    "    print(\"You are above 18\")\n",
    "else:\n",
    "    print(\"You are under 18\")"
   ]
  },
  {
   "cell_type": "markdown",
   "metadata": {},
   "source": [
    "### Nested `if-else` Statement\n",
    "\n",
    "***Example :***"
   ]
  },
  {
   "cell_type": "code",
   "execution_count": 9,
   "metadata": {},
   "outputs": [
    {
     "name": "stdout",
     "output_type": "stream",
     "text": [
      "Enter A Number: 27\n",
      "🤩 You Won !!! 🤩\n"
     ]
    }
   ],
   "source": [
    "# Setting the win-number\n",
    "\n",
    "Win_Num = 27\n",
    "\n",
    "# Taking the user input\n",
    "\n",
    "User_Num = int(input(\"Enter A Number: \"))\n",
    "\n",
    "# Nested Condition\n",
    "\n",
    "if (User_Num == Win_Num):\n",
    "    print(\"🤩 You Won !!! 🤩\")\n",
    "else:\n",
    "    if (User_Num > Win_Num):\n",
    "        print(\"Try a smaller number 🙂\")\n",
    "    else:\n",
    "        print(\"Try a larger number 🙂 \")"
   ]
  },
  {
   "cell_type": "markdown",
   "metadata": {},
   "source": [
    "### `if-else` Statement with `and` & `or` Operators"
   ]
  },
  {
   "cell_type": "code",
   "execution_count": 12,
   "metadata": {},
   "outputs": [
    {
     "name": "stdout",
     "output_type": "stream",
     "text": [
      "Enter Your Name: bcd\n",
      "Enter A Number: 15\n",
      "false\n"
     ]
    }
   ],
   "source": [
    "name = \"abc\"\n",
    "age = 19\n",
    "\n",
    "user_name = input(\"Enter Your Name: \")\n",
    "user_num = int(input(\"Enter A Number: \"))\n",
    "\n",
    "if user_name == \"abc\" and user_num == 19 :\n",
    "    print(\"True\")\n",
    "else:\n",
    "    print(\"false\")"
   ]
  },
  {
   "cell_type": "markdown",
   "metadata": {},
   "source": [
    "### `if-else` Statement with `in` Keyword\n",
    "\n",
    "`in` keyword searches for a character in a string,i.e., it checks the presence."
   ]
  },
  {
   "cell_type": "code",
   "execution_count": 28,
   "metadata": {},
   "outputs": [
    {
     "name": "stdout",
     "output_type": "stream",
     "text": [
      "Enter Your Name: Harshit\n",
      "Present\n"
     ]
    }
   ],
   "source": [
    "# Check whether the character \"t\" present in the user-input name\n",
    "\n",
    "#Take the username as input\n",
    "\n",
    "Name = input(\"Enter Your Name: \")\n",
    "\n",
    "#Conditional Execution\n",
    "\n",
    "if \"t\" in Name:\n",
    "    print(\"Present\")\n",
    "else:\n",
    "    print(\"Absent\")"
   ]
  },
  {
   "cell_type": "markdown",
   "metadata": {},
   "source": [
    "### Checking for emptiness\n",
    "\n",
    "Check whether the user has inputted something or, not and execute suitable statments based on that."
   ]
  },
  {
   "cell_type": "code",
   "execution_count": 32,
   "metadata": {},
   "outputs": [
    {
     "name": "stdout",
     "output_type": "stream",
     "text": [
      "Please Enter Something: \n",
      "Thanks for the input\n"
     ]
    }
   ],
   "source": [
    "# Take user input\n",
    "\n",
    "ip = input(\"Please Enter Something: \")\n",
    "\n",
    "# Conditional Check\n",
    "\n",
    "if name:\n",
    "    print(\"Thanks for the input\")\n",
    "else:\n",
    "    print(\"Please input something\")"
   ]
  },
  {
   "cell_type": "markdown",
   "metadata": {},
   "source": [
    "## `if-elif-else` Statement\n",
    "\n",
    "***Example :***\n",
    "\n",
    "Take the \"Age\" as the input from the user and execute the following statements for the following conditions :\n",
    "\n",
    "- if the age is between 1-3 years then print \"Free\"\n",
    "- if the age is between 4-10 years then print \"150\"\n",
    "- if the age is between 11-60 years then print \"250\"\n",
    "- if the age is above 60 years then print \"200\"\n",
    "- if the age is more than 120 years or, less than 1 year then print \"Enter a valid age\"\n"
   ]
  },
  {
   "cell_type": "code",
   "execution_count": 25,
   "metadata": {},
   "outputs": [
    {
     "name": "stdout",
     "output_type": "stream",
     "text": [
      "Enter Your Age: 0\n",
      "Enter a valid age\n"
     ]
    }
   ],
   "source": [
    "# Take \"Age\" as user-input\n",
    "\n",
    "age = int(input(\"Enter Your Age: \"))\n",
    "\n",
    "# Conditional Execution\n",
    "\n",
    "if 0 < age <= 3:\n",
    "    print(\"Free\")\n",
    "elif 3 < age <= 10:\n",
    "    print(\"150\")\n",
    "elif 10 < age <= 60:\n",
    "    print(\"250\")\n",
    "elif 60 < age <= 120:\n",
    "    print(\"200\")\n",
    "else:\n",
    "    print(\"Enter a valid age\")"
   ]
  }
 ],
 "metadata": {
  "kernelspec": {
   "display_name": "Python 3",
   "language": "python",
   "name": "python3"
  },
  "language_info": {
   "codemirror_mode": {
    "name": "ipython",
    "version": 3
   },
   "file_extension": ".py",
   "mimetype": "text/x-python",
   "name": "python",
   "nbconvert_exporter": "python",
   "pygments_lexer": "ipython3",
   "version": "3.7.6"
  }
 },
 "nbformat": 4,
 "nbformat_minor": 4
}
