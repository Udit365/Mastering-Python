{
 "cells": [
  {
   "cell_type": "markdown",
   "metadata": {},
   "source": [
    "# Star Operators"
   ]
  },
  {
   "cell_type": "markdown",
   "metadata": {},
   "source": [
    "The `*` operator can take n-number of arguments and returns a tuple that can be further used for the `return` statement of the function.\n",
    "\n",
    "We must provide some name after the `*` to make the star operator and according to Python convention; we generally use `args`. Therefore; it is also called as a `*args` operator\n",
    "\n",
    "_For Example:_"
   ]
  },
  {
   "cell_type": "code",
   "execution_count": 5,
   "metadata": {},
   "outputs": [
    {
     "name": "stdout",
     "output_type": "stream",
     "text": [
      "(12, 13, 14)\n",
      "The datatype of *args operator: <class 'tuple'>\n"
     ]
    }
   ],
   "source": [
    "def total(*args):\n",
    "    print(args)\n",
    "    print(f'The datatype of *args operator: {type(args)}')\n",
    "    \n",
    "total(12, 13, 14)"
   ]
  },
  {
   "cell_type": "markdown",
   "metadata": {},
   "source": [
    "We can add a multiple numbers with the `*args` operator"
   ]
  },
  {
   "cell_type": "code",
   "execution_count": 6,
   "metadata": {},
   "outputs": [
    {
     "name": "stdout",
     "output_type": "stream",
     "text": [
      "The sum of numbers : 45\n"
     ]
    }
   ],
   "source": [
    "def summation(*args):\n",
    "    total = 0\n",
    "    for num in args:\n",
    "        total += num\n",
    "    return total\n",
    "\n",
    "print(f'The sum of numbers : {summation(1,2,3,4,5,6,7,8,9)}')"
   ]
  },
  {
   "cell_type": "markdown",
   "metadata": {},
   "source": [
    "## `*args` with Normal Parameters\n",
    "\n",
    "We can't define a normal parameter after the `*args` otherwise all the arguments at function call will be assigned to `*args` as a tuple and we will get an error for not assigning anything to the normal parameter.\n",
    "\n",
    "If we have defined 2 normal parameters prior to `*args` then, during the function call; the first two arguments will be assigned to the 2 normal parameters and the rest will be assigned to `*args`\n",
    "\n",
    "> A variable is called as \"Parameter\" in the function definition and \"argument\" in function calling.\n",
    "\n",
    "_for example: We can assign a multiplier that will be multiplied with rest of the arguments; as follows:_"
   ]
  },
  {
   "cell_type": "code",
   "execution_count": 9,
   "metadata": {},
   "outputs": [
    {
     "name": "stdout",
     "output_type": "stream",
     "text": [
      "12\n"
     ]
    }
   ],
   "source": [
    "def multinorm(mult, *args):\n",
    "    initiate = 1\n",
    "    for i in args:\n",
    "        initiate *= i\n",
    "    return initiate\n",
    "\n",
    "res = multinorm(2,3,4) #here, 2 will be assigned to 'mult'; so the result will be 3 x 4\n",
    "print(res)"
   ]
  },
  {
   "cell_type": "code",
   "execution_count": null,
   "metadata": {},
   "outputs": [],
   "source": []
  }
 ],
 "metadata": {
  "kernelspec": {
   "display_name": "Python 3",
   "language": "python",
   "name": "python3"
  },
  "language_info": {
   "codemirror_mode": {
    "name": "ipython",
    "version": 3
   },
   "file_extension": ".py",
   "mimetype": "text/x-python",
   "name": "python",
   "nbconvert_exporter": "python",
   "pygments_lexer": "ipython3",
   "version": "3.8.5"
  },
  "toc": {
   "base_numbering": 1,
   "nav_menu": {},
   "number_sections": false,
   "sideBar": true,
   "skip_h1_title": false,
   "title_cell": "Table of Contents",
   "title_sidebar": "Contents",
   "toc_cell": false,
   "toc_position": {
    "height": "calc(100% - 180px)",
    "left": "10px",
    "top": "150px",
    "width": "303.837px"
   },
   "toc_section_display": true,
   "toc_window_display": false
  }
 },
 "nbformat": 4,
 "nbformat_minor": 4
}
