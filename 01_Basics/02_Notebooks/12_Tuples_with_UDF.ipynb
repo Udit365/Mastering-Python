{
 "cells": [
  {
   "cell_type": "markdown",
   "metadata": {},
   "source": [
    "# Tuples with UDF\n",
    "\n",
    "The concept of tuples became important when we have an UDF that returns two values as its output.\n",
    "\n",
    "The output of such UDFs are always in a tuple format, which can be unpacked further to get individiual value.\n",
    "\n",
    "***For Example :***\n",
    "\n",
    "The following UDF, takes up two value as input and returns two value as output :"
   ]
  },
  {
   "cell_type": "code",
   "execution_count": 1,
   "metadata": {},
   "outputs": [],
   "source": [
    "# Creating the UDF\n",
    "\n",
    "def twofunc(a, b):\n",
    "    add = a+b\n",
    "    mult = a*b\n",
    "    return add, mult"
   ]
  },
  {
   "cell_type": "markdown",
   "metadata": {},
   "source": [
    "Now, if we directly call the function then, we will get the result as a tuple :"
   ]
  },
  {
   "cell_type": "code",
   "execution_count": 2,
   "metadata": {},
   "outputs": [
    {
     "name": "stdout",
     "output_type": "stream",
     "text": [
      "(8, 15)\n"
     ]
    }
   ],
   "source": [
    "# Calling the function\n",
    "\n",
    "print( twofunc(3,5) )"
   ]
  },
  {
   "cell_type": "markdown",
   "metadata": {},
   "source": [
    "But, we can easily unpack the output tuple to get the result in desired format :"
   ]
  },
  {
   "cell_type": "code",
   "execution_count": 3,
   "metadata": {},
   "outputs": [
    {
     "name": "stdout",
     "output_type": "stream",
     "text": [
      "8\n",
      "15\n"
     ]
    }
   ],
   "source": [
    "addition, multiplication = twofunc(3,5)\n",
    "\n",
    "print(addition)\n",
    "print(multiplication)"
   ]
  }
 ],
 "metadata": {
  "kernelspec": {
   "display_name": "Python 3",
   "language": "python",
   "name": "python3"
  },
  "language_info": {
   "codemirror_mode": {
    "name": "ipython",
    "version": 3
   },
   "file_extension": ".py",
   "mimetype": "text/x-python",
   "name": "python",
   "nbconvert_exporter": "python",
   "pygments_lexer": "ipython3",
   "version": "3.7.6"
  }
 },
 "nbformat": 4,
 "nbformat_minor": 4
}
