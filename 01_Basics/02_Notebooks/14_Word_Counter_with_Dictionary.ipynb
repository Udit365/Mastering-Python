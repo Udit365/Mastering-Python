{
 "cells": [
  {
   "cell_type": "markdown",
   "metadata": {},
   "source": [
    "# Word Counter\n",
    "\n",
    "We can count how many times a word appears in a string very easily by using dictionary.\n",
    "\n",
    "***For Example:***\n",
    "\n",
    "We can take any string from the user and count the occurance of each individual report as follows:"
   ]
  },
  {
   "cell_type": "code",
   "execution_count": 7,
   "metadata": {},
   "outputs": [
    {
     "name": "stdout",
     "output_type": "stream",
     "text": [
      "Enter a string !WoW\n",
      "{'W': 2, 'o': 1}\n"
     ]
    }
   ],
   "source": [
    "user_input = input(\"Enter a string !\")\n",
    "\n",
    "\n",
    "# Creating the function\n",
    "\n",
    "def word_counter(str):\n",
    "    counting = {}\n",
    "    for i in str:\n",
    "        counting[i] = str.count(i)\n",
    "    return counting\n",
    "\n",
    "\n",
    "# Function calling\n",
    "\n",
    "print(word_counter(user_input))"
   ]
  }
 ],
 "metadata": {
  "kernelspec": {
   "display_name": "Python 3",
   "language": "python",
   "name": "python3"
  },
  "language_info": {
   "codemirror_mode": {
    "name": "ipython",
    "version": 3
   },
   "file_extension": ".py",
   "mimetype": "text/x-python",
   "name": "python",
   "nbconvert_exporter": "python",
   "pygments_lexer": "ipython3",
   "version": "3.7.6"
  }
 },
 "nbformat": 4,
 "nbformat_minor": 4
}
