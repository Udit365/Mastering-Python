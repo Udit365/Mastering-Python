{
 "cells": [
  {
   "cell_type": "markdown",
   "metadata": {},
   "source": [
    "# Sets\n",
    "\n",
    "Sets in Python is an unordered collection of unique items. It is maily used to remove the duplicate items from a list and to perform set operations.\n",
    "\n",
    "Some of the properties of Sets are:\n",
    "\n",
    "- Set is a collection of distinct objects, i.e., it doesn't hold any duplicate items\n",
    "- Store elements in no particular order\n",
    "- Indexing/slicing is not possible\n",
    "- Sets can be printed in any order\n",
    "- Lists, dictionary, tuples can't be stored in a set.\n",
    "- String, integer, float datatypes can be stored in a set.\n",
    "- Created using curly braces (`{}`)\n",
    "\n",
    "***For Example:***\n",
    "\n",
    "We can create a set as follows:"
   ]
  },
  {
   "cell_type": "code",
   "execution_count": 1,
   "metadata": {},
   "outputs": [
    {
     "name": "stdout",
     "output_type": "stream",
     "text": [
      "{1, 2, 3, 6}\n"
     ]
    }
   ],
   "source": [
    "s = {1,2,3,6}\n",
    "\n",
    "print(s)"
   ]
  },
  {
   "cell_type": "code",
   "execution_count": 7,
   "metadata": {},
   "outputs": [
    {
     "name": "stdout",
     "output_type": "stream",
     "text": [
      "<class 'set'>\n"
     ]
    }
   ],
   "source": [
    "print(type(s))"
   ]
  },
  {
   "cell_type": "markdown",
   "metadata": {},
   "source": [
    "Similarly, we can create a set to remove the duplicates from a list, as follows:"
   ]
  },
  {
   "cell_type": "code",
   "execution_count": 2,
   "metadata": {},
   "outputs": [
    {
     "name": "stdout",
     "output_type": "stream",
     "text": [
      "{1, 2, 3, 4, 5, 6, 7, 8, 9}\n"
     ]
    }
   ],
   "source": [
    "lst = [1,1,3,4,5,6,6,3,3,2,2,1,2,4,4,4,6,7,7,8,8,9,9,9]\n",
    "\n",
    "st = set(lst)\n",
    "\n",
    "print(st)"
   ]
  },
  {
   "cell_type": "markdown",
   "metadata": {},
   "source": [
    "## Modifying Sets\n",
    "\n",
    "We can modify sets by using some functions like :\n",
    "\n",
    "- `add()`\n",
    "- `remove()`\n",
    "- `discard()`\n",
    "- `clear()`\n",
    "\n",
    "### `add()` Method\n",
    "\n",
    "The `add()` method is used to add an element to an existing set.\n",
    "\n",
    "***For Example:***\n",
    "\n",
    "We can add $4$ to the set `s`, as follows:"
   ]
  },
  {
   "cell_type": "code",
   "execution_count": 3,
   "metadata": {},
   "outputs": [
    {
     "name": "stdout",
     "output_type": "stream",
     "text": [
      "{1, 2, 3, 4, 6}\n"
     ]
    }
   ],
   "source": [
    "s.add(4)\n",
    "\n",
    "print(s)"
   ]
  },
  {
   "cell_type": "markdown",
   "metadata": {},
   "source": [
    "### `remove()` Method\n",
    "\n",
    "The `remove()` method is used to remove an element to an existing set.\n",
    "\n",
    "***For Example:***\n",
    "\n",
    "We can remove $4$ from the set `s`, as follows:"
   ]
  },
  {
   "cell_type": "code",
   "execution_count": 4,
   "metadata": {},
   "outputs": [
    {
     "name": "stdout",
     "output_type": "stream",
     "text": [
      "{1, 2, 3, 6}\n"
     ]
    }
   ],
   "source": [
    "s.remove(4)\n",
    "\n",
    "print(s)"
   ]
  },
  {
   "cell_type": "markdown",
   "metadata": {},
   "source": [
    ">***Note:***\n",
    "- `remove()` method will throw an error if the element provided is not present in the set.\n",
    "\n",
    "### `discard()` Method\n",
    "\n",
    "The `discard()` method is used to remove an element from an existing set, just like the `remove()` method. However, unlike the `remove()` method, it doesn't throw an error in case the element is not found.\n",
    "\n",
    "***For Example:***\n",
    "\n",
    "We can remove $8$ (if present) to the set `s`, as follows:"
   ]
  },
  {
   "cell_type": "code",
   "execution_count": 5,
   "metadata": {},
   "outputs": [
    {
     "name": "stdout",
     "output_type": "stream",
     "text": [
      "{1, 2, 3, 6}\n"
     ]
    }
   ],
   "source": [
    "s.discard(8)\n",
    "\n",
    "print(s)"
   ]
  },
  {
   "cell_type": "markdown",
   "metadata": {},
   "source": [
    "### `clear()` Method\n",
    "\n",
    "The `clear()` method is used to clear all the elements from a set and it returns an empty set as output.\n",
    "\n",
    "***For Example:***\n",
    "\n",
    "We can remove all the elements from the set `s`, as follows:"
   ]
  },
  {
   "cell_type": "code",
   "execution_count": 6,
   "metadata": {},
   "outputs": [
    {
     "name": "stdout",
     "output_type": "stream",
     "text": [
      "set()\n"
     ]
    }
   ],
   "source": [
    "s.clear()\n",
    "\n",
    "print(s)"
   ]
  },
  {
   "cell_type": "markdown",
   "metadata": {},
   "source": [
    "## `copy()` Method\n",
    "\n",
    "The `copy()` method is used to create a copy of the set.\n",
    "\n",
    "***For Example:***\n",
    "\n",
    "We can create a set and a copy of it as follows:"
   ]
  },
  {
   "cell_type": "code",
   "execution_count": 9,
   "metadata": {},
   "outputs": [
    {
     "name": "stdout",
     "output_type": "stream",
     "text": [
      "{'Tableau', 'QlikSense', 'Looker', 'Power BI', 'QlikView'}\n"
     ]
    }
   ],
   "source": [
    "# Creating a set of BI tools\n",
    "\n",
    "BItools = {\"Power BI\", \"Tableau\", \"QlikView\", \"QlikSense\", \"Looker\"}\n",
    "\n",
    "print(BItools)"
   ]
  },
  {
   "cell_type": "code",
   "execution_count": 10,
   "metadata": {},
   "outputs": [
    {
     "name": "stdout",
     "output_type": "stream",
     "text": [
      "{'Tableau', 'QlikSense', 'Looker', 'Power BI', 'QlikView'}\n"
     ]
    }
   ],
   "source": [
    "# Creating a copy of \"BItools\"\n",
    "\n",
    "BItools_backup = BItools.copy()\n",
    "\n",
    "print(BItools_backup)"
   ]
  },
  {
   "cell_type": "markdown",
   "metadata": {},
   "source": [
    "## Conditional Execution in Sets\n",
    "\n",
    "Conditional execution is sets is possible by using the `in` keyword.\n",
    "\n",
    "***For Example:***\n",
    "\n",
    "We can verifiy if \"*Google Data Studio*\" is present in the \"*BItools*\" set or, not, as follows:"
   ]
  },
  {
   "cell_type": "code",
   "execution_count": 11,
   "metadata": {},
   "outputs": [
    {
     "name": "stdout",
     "output_type": "stream",
     "text": [
      "Absent\n"
     ]
    }
   ],
   "source": [
    "if \"Google Data Studio\" in BItools:\n",
    "    print(\"Present\")\n",
    "else:\n",
    "    print(\"Absent\")"
   ]
  },
  {
   "cell_type": "markdown",
   "metadata": {},
   "source": [
    "## Looping in Sets\n",
    "\n",
    "Looping is sets is similar to that of looping in lists.\n",
    "\n",
    "***For Example:***\n",
    "\n",
    "We can print each element present in the \"*BItools*\" set, as follows:"
   ]
  },
  {
   "cell_type": "code",
   "execution_count": 12,
   "metadata": {},
   "outputs": [
    {
     "name": "stdout",
     "output_type": "stream",
     "text": [
      "Tableau\n",
      "QlikSense\n",
      "Looker\n",
      "Power BI\n",
      "QlikView\n"
     ]
    }
   ],
   "source": [
    "for i in BItools:\n",
    "    print(i)"
   ]
  },
  {
   "cell_type": "markdown",
   "metadata": {},
   "source": [
    "## Set Operations\n",
    "\n",
    "The various set operations that we can perform with sets are:\n",
    "\n",
    "1. Union\n",
    "2. Intersection\n",
    "3. Difference\n",
    "4. Symmetric Difference\n",
    "\n",
    "To perform set operations,we will be needing 2 sets, such as:"
   ]
  },
  {
   "cell_type": "code",
   "execution_count": 13,
   "metadata": {},
   "outputs": [
    {
     "name": "stdout",
     "output_type": "stream",
     "text": [
      "{'Harry', 'Robin', 'Robert', 'Sam', 'Alexa', 'Adam'}\n",
      "{'Harry', 'Jhon', 'Jordan', 'Kathy', 'Alexa', 'Michel'}\n"
     ]
    }
   ],
   "source": [
    "# Creating 2 sets for set operations\n",
    "\n",
    "setA = {\"Adam\",\"Alexa\", \"Sam\", \"Harry\", \"Robin\", \"Robert\"}\n",
    "setB = {\"Jordan\",\"Alexa\", \"Michel\", \"Harry\", \"Jhon\", \"Kathy\"}\n",
    "\n",
    "print(setA)\n",
    "print(setB)"
   ]
  },
  {
   "cell_type": "markdown",
   "metadata": {},
   "source": [
    "### Union\n",
    "\n",
    "`union()` : Returns all the elements belonging to both Set-A and Set-B. This is $A \\cup B$\n",
    "\n",
    "***Syntax :***\n",
    "```python\n",
    "setA.union(setB)\n",
    "```\n",
    "or,\n",
    "\n",
    "```python\n",
    "setA | setB\n",
    "```\n",
    "\n",
    "***For Example:***\n",
    "\n",
    "we can get all the elements present in *SetA* and *SetB*, as follows:"
   ]
  },
  {
   "cell_type": "code",
   "execution_count": 14,
   "metadata": {},
   "outputs": [
    {
     "name": "stdout",
     "output_type": "stream",
     "text": [
      "{'Harry', 'Jhon', 'Robin', 'Jordan', 'Kathy', 'Robert', 'Sam', 'Alexa', 'Adam', 'Michel'}\n"
     ]
    }
   ],
   "source": [
    "Set_Union = setA.union(setB)\n",
    "\n",
    "print(Set_Union)"
   ]
  },
  {
   "cell_type": "markdown",
   "metadata": {},
   "source": [
    "Or, we can simply use the `|` operator to get the same result, as follows:"
   ]
  },
  {
   "cell_type": "code",
   "execution_count": 15,
   "metadata": {},
   "outputs": [
    {
     "name": "stdout",
     "output_type": "stream",
     "text": [
      "{'Harry', 'Jhon', 'Robin', 'Jordan', 'Kathy', 'Robert', 'Sam', 'Alexa', 'Adam', 'Michel'}\n"
     ]
    }
   ],
   "source": [
    "Set_Union2 = setA | setB\n",
    "\n",
    "print(Set_Union2)"
   ]
  },
  {
   "cell_type": "markdown",
   "metadata": {},
   "source": [
    "### Intersection\n",
    "\n",
    "`intersection()` : Returns only the common elements belonging to Set-A and Set-B. This is $A \\cap B$\n",
    "\n",
    "***Syntax :***\n",
    "```python\n",
    "setA.intersection(setB)\n",
    "```\n",
    "or,\n",
    "\n",
    "```python\n",
    "setA & setB\n",
    "```\n",
    "\n",
    "***For Example:***\n",
    "\n",
    "we can get only the common elements present in *SetA* and *SetB*, as follows:"
   ]
  },
  {
   "cell_type": "code",
   "execution_count": 16,
   "metadata": {},
   "outputs": [
    {
     "name": "stdout",
     "output_type": "stream",
     "text": [
      "{'Harry', 'Alexa'}\n"
     ]
    }
   ],
   "source": [
    "Set_Intersection = setA.intersection(setB)\n",
    "\n",
    "print(Set_Intersection)"
   ]
  },
  {
   "cell_type": "markdown",
   "metadata": {},
   "source": [
    "Or, we can simply use the `&` operator to get the same result, as follows:"
   ]
  },
  {
   "cell_type": "code",
   "execution_count": 17,
   "metadata": {},
   "outputs": [
    {
     "name": "stdout",
     "output_type": "stream",
     "text": [
      "{'Harry', 'Alexa'}\n"
     ]
    }
   ],
   "source": [
    "Set_Intersection2 = setA & setB\n",
    "\n",
    "print(Set_Intersection2)"
   ]
  },
  {
   "cell_type": "markdown",
   "metadata": {},
   "source": [
    "### Difference\n",
    "\n",
    "`difference()` : Returns the elements belonging to Set-A but not Set-B. This is $A - B$\n",
    "\n",
    "***Syntax :***\n",
    "```python\n",
    "setA.difference(setB)\n",
    "```\n",
    "or,\n",
    "\n",
    "```python\n",
    "setA - setB\n",
    "```\n",
    "\n",
    "***For Example:***\n",
    "\n",
    "we can get only the elements present in *SetA* and not in *SetB*, as follows:"
   ]
  },
  {
   "cell_type": "code",
   "execution_count": 23,
   "metadata": {},
   "outputs": [
    {
     "name": "stdout",
     "output_type": "stream",
     "text": [
      "{'Sam', 'Robert', 'Robin', 'Adam'}\n"
     ]
    }
   ],
   "source": [
    "Set_Diff = setA.difference(setB)\n",
    "\n",
    "print(Set_Diff)"
   ]
  },
  {
   "cell_type": "markdown",
   "metadata": {},
   "source": [
    "Or, we can simply use the `-` operator to get the same result, as follows:"
   ]
  },
  {
   "cell_type": "code",
   "execution_count": 20,
   "metadata": {},
   "outputs": [
    {
     "name": "stdout",
     "output_type": "stream",
     "text": [
      "{'Sam', 'Robert', 'Robin', 'Adam'}\n"
     ]
    }
   ],
   "source": [
    "Set_Diff2 = setA - setB\n",
    "\n",
    "print(Set_Diff2)"
   ]
  },
  {
   "cell_type": "markdown",
   "metadata": {},
   "source": [
    "### Symmetric Difference\n",
    "\n",
    "`symmetric_difference()` : Returns the elements not common to Set-A or, Set-B. This is $1- (A \\cap B)$\n",
    "\n",
    "***Syntax :***\n",
    "```python\n",
    "setA.symmetric_difference(setB)\n",
    "```\n",
    "\n",
    "***For Example:***\n",
    "\n",
    "we can get the non-common elements present in *SetA* or, *SetB*, as follows:"
   ]
  },
  {
   "cell_type": "code",
   "execution_count": 22,
   "metadata": {},
   "outputs": [
    {
     "name": "stdout",
     "output_type": "stream",
     "text": [
      "{'Robin', 'Adam', 'Jhon', 'Jordan', 'Kathy', 'Robert', 'Sam', 'Michel'}\n"
     ]
    }
   ],
   "source": [
    "Set_SymDiff = setA.symmetric_difference(setB)\n",
    "\n",
    "print(Set_SymDiff)"
   ]
  }
 ],
 "metadata": {
  "kernelspec": {
   "display_name": "Python 3",
   "language": "python",
   "name": "python3"
  },
  "language_info": {
   "codemirror_mode": {
    "name": "ipython",
    "version": 3
   },
   "file_extension": ".py",
   "mimetype": "text/x-python",
   "name": "python",
   "nbconvert_exporter": "python",
   "pygments_lexer": "ipython3",
   "version": "3.7.6"
  }
 },
 "nbformat": 4,
 "nbformat_minor": 4
}
