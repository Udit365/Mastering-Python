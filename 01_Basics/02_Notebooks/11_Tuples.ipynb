{
 "cells": [
  {
   "cell_type": "markdown",
   "metadata": {},
   "source": [
    "# Tuples\n",
    "\n",
    "A tuple is a data structure in Python that consists of an ordered collection of objects.\n",
    "\n",
    "- It can store any datatype.\n",
    "- Tuples are immutable, i.e., once a tuple is created then, it can't be modified.\n",
    "- Some of the operations on tuples are similar to lists but, operations like `append`, `pop`,`insert`,`remove` etc. can't be applied to tuple because of its immutable nature.\n",
    "- Elements of a tuple are generally enclosed between `()`.\n",
    "\n",
    "Tuples are faster as compared to lists. Thus, its better to create a tuple than a list when, we are sure that our data is not going to be modified further.\n",
    "\n",
    "***For Example :***\n",
    "\n",
    "We can create a \"*emp*\"tuple with Employee id, Employee name, Age, Salary details, as follows :"
   ]
  },
  {
   "cell_type": "code",
   "execution_count": 1,
   "metadata": {},
   "outputs": [
    {
     "name": "stdout",
     "output_type": "stream",
     "text": [
      "('E001', 'Jhon', 35, 40000)\n"
     ]
    }
   ],
   "source": [
    "emp = (\"E001\",\"Jhon\",35, 40000)\n",
    "print(emp)"
   ]
  },
  {
   "cell_type": "markdown",
   "metadata": {},
   "source": [
    "## Looping in Tuple\n",
    "\n",
    "Looping in tuples is same as looping in list.\n",
    "\n",
    "***For Example :***\n",
    "\n",
    "We can print each element of the tuple as follows :"
   ]
  },
  {
   "cell_type": "code",
   "execution_count": 2,
   "metadata": {},
   "outputs": [
    {
     "name": "stdout",
     "output_type": "stream",
     "text": [
      "1\n",
      "2\n",
      "4\n",
      "6\n",
      "7\n",
      "8\n"
     ]
    }
   ],
   "source": [
    "tups = (1,2,4,6,7,8)\n",
    "\n",
    "for i in tups:\n",
    "    print(i)"
   ]
  },
  {
   "cell_type": "markdown",
   "metadata": {},
   "source": [
    "## Tuple with One Element\n",
    "\n",
    "Just a element within `()` doesn't make a tuple rather, the datatype of such element is the datatype of the element. \n",
    "\n",
    "***For Example :***\n",
    "In the following example an integer is enclosed withing `()` and so the datatype will be `integer` type :"
   ]
  },
  {
   "cell_type": "code",
   "execution_count": 5,
   "metadata": {},
   "outputs": [
    {
     "name": "stdout",
     "output_type": "stream",
     "text": [
      "<class 'int'>\n"
     ]
    }
   ],
   "source": [
    "test = (6)\n",
    "print(type(test))"
   ]
  },
  {
   "cell_type": "markdown",
   "metadata": {},
   "source": [
    "Now, if we just add a `,` after the single tuple element then, the datatype will change to `tuple` type : "
   ]
  },
  {
   "cell_type": "code",
   "execution_count": 6,
   "metadata": {},
   "outputs": [
    {
     "name": "stdout",
     "output_type": "stream",
     "text": [
      "<class 'tuple'>\n"
     ]
    }
   ],
   "source": [
    "test = (6,)\n",
    "print(type(test))"
   ]
  },
  {
   "cell_type": "markdown",
   "metadata": {},
   "source": [
    "## Tuple without Paranthesis\n",
    "\n",
    "Even without the `()`, Python takes the comma separated values as a tuple.\n",
    "\n",
    "***For Example :***\n",
    "\n",
    "Even without `()`, the datatype of the variable containing comma separated values is `tuple` :"
   ]
  },
  {
   "cell_type": "code",
   "execution_count": 7,
   "metadata": {},
   "outputs": [
    {
     "name": "stdout",
     "output_type": "stream",
     "text": [
      "<class 'tuple'>\n"
     ]
    }
   ],
   "source": [
    "fruits = \"Apple\", \"Kiwi\", \"Orange\", \"Mango\"\n",
    "print(type(fruits))"
   ]
  },
  {
   "cell_type": "markdown",
   "metadata": {},
   "source": [
    "## Tuple Unpacking\n",
    "\n",
    "We can assign each element of a tuple to individual variables. This process is called as \"Tuple Unpacking\".\n",
    "\n",
    "***For Example :***\n",
    "\n",
    "We can assign each car inside the following \"*Cars*\" tuple to individual variables, as follows :"
   ]
  },
  {
   "cell_type": "code",
   "execution_count": 8,
   "metadata": {},
   "outputs": [
    {
     "name": "stdout",
     "output_type": "stream",
     "text": [
      "Ford\n",
      "Toyota\n",
      "Audi\n"
     ]
    }
   ],
   "source": [
    "cars = (\"Ford\", \"Toyota\", \"Audi\")\n",
    "\n",
    "car1, car2, car3 = (cars)\n",
    "\n",
    "print(car1)\n",
    "print(car2)\n",
    "print(car3)"
   ]
  },
  {
   "cell_type": "markdown",
   "metadata": {},
   "source": [
    ">***Note :*** The number of variables in tuple unpacking must be equal to the number of tuple elements, else error will be retured."
   ]
  },
  {
   "cell_type": "markdown",
   "metadata": {},
   "source": [
    "## Accessing Tuple Components\n",
    "\n",
    "We can use the slicing operator (`[]`) to access the tuple compnents.\n",
    "\n",
    "***Syntax :***\n",
    "```python\n",
    "tuple_name[index]\n",
    "```\n",
    "\n",
    "***Example :***\n",
    "\n",
    "We can extract the \"*Employee Name*\" from the \"*emp*\" tuple as follows :"
   ]
  },
  {
   "cell_type": "code",
   "execution_count": 9,
   "metadata": {},
   "outputs": [
    {
     "name": "stdout",
     "output_type": "stream",
     "text": [
      "('E001', 'Jhon', 35, 40000)\n"
     ]
    }
   ],
   "source": [
    "# Viewing \"emp\" tuple\n",
    "\n",
    "print(emp)"
   ]
  },
  {
   "cell_type": "code",
   "execution_count": 10,
   "metadata": {},
   "outputs": [
    {
     "name": "stdout",
     "output_type": "stream",
     "text": [
      "Jhon\n"
     ]
    }
   ],
   "source": [
    "# Getting the employee name\n",
    "\n",
    "print(emp[1])"
   ]
  },
  {
   "cell_type": "markdown",
   "metadata": {},
   "source": [
    "## Tuple Slicing\n",
    "\n",
    "The slicing operator can be used to access sub-tuples as follows :\n",
    "\n",
    "***Syntax :***\n",
    "```python\n",
    "tuple_name[start:stop-1]\n",
    "```\n",
    "***Example :***\n",
    "\n",
    "Extracting first three elements from from \"*emp*\" tuple :"
   ]
  },
  {
   "cell_type": "code",
   "execution_count": 11,
   "metadata": {},
   "outputs": [
    {
     "name": "stdout",
     "output_type": "stream",
     "text": [
      "('E001', 'Jhon', 35, 40000)\n"
     ]
    }
   ],
   "source": [
    "# Viewing the \"emp\" tuple \n",
    "\n",
    "print(emp)"
   ]
  },
  {
   "cell_type": "code",
   "execution_count": 12,
   "metadata": {},
   "outputs": [
    {
     "name": "stdout",
     "output_type": "stream",
     "text": [
      "('E001', 'Jhon', 35)\n"
     ]
    }
   ],
   "source": [
    "# Extracting first three elements:\n",
    "\n",
    "print( emp[:3] )"
   ]
  },
  {
   "cell_type": "markdown",
   "metadata": {},
   "source": [
    "Similarly, we can extract the 2nd and 3rd element from the tuple as follows :"
   ]
  },
  {
   "cell_type": "code",
   "execution_count": 14,
   "metadata": {},
   "outputs": [
    {
     "name": "stdout",
     "output_type": "stream",
     "text": [
      "('Jhon', 35)\n"
     ]
    }
   ],
   "source": [
    "print( emp[1:3] )"
   ]
  },
  {
   "cell_type": "markdown",
   "metadata": {},
   "source": [
    "## Length of a Tuple\n",
    "\n",
    "`len()` function can be used to measure the length or, number of elements present in the tuple.\n",
    "\n",
    "***Syntax :***\n",
    "```python\n",
    "len(tuple_name)\n",
    "```\n",
    "\n",
    "***Example :***\n",
    "\n",
    "We can get the length of the \"*emp*\" tuple, as follows :"
   ]
  },
  {
   "cell_type": "code",
   "execution_count": 15,
   "metadata": {},
   "outputs": [
    {
     "name": "stdout",
     "output_type": "stream",
     "text": [
      "('E001', 'Jhon', 35, 40000)\n"
     ]
    }
   ],
   "source": [
    "# Viewing \"emp\" table :\n",
    "\n",
    "print(emp)"
   ]
  },
  {
   "cell_type": "code",
   "execution_count": 16,
   "metadata": {},
   "outputs": [
    {
     "name": "stdout",
     "output_type": "stream",
     "text": [
      "4\n"
     ]
    }
   ],
   "source": [
    "# Finding length :\n",
    "\n",
    "print( len(emp) )"
   ]
  },
  {
   "cell_type": "markdown",
   "metadata": {},
   "source": [
    "## Combining Tuples\n",
    "\n",
    "Two tuples can be concatenated as follows :\n",
    "```python\n",
    "print( tuple1+ tuple1 )\n",
    "```\n",
    "***Example :***\n",
    "Create a tuple with \"*employee education*\" and \"*department details*\" and then combine the tuple with \"*emp*\" tuple."
   ]
  },
  {
   "cell_type": "code",
   "execution_count": 17,
   "metadata": {},
   "outputs": [
    {
     "name": "stdout",
     "output_type": "stream",
     "text": [
      "('M.Com', 'Accounts')\n"
     ]
    }
   ],
   "source": [
    "# Creating \"emp2\" tuple:\n",
    "\n",
    "emp2 = (\"M.Com\", \"Accounts\")\n",
    "\n",
    "print(emp2)"
   ]
  },
  {
   "cell_type": "code",
   "execution_count": 18,
   "metadata": {},
   "outputs": [
    {
     "name": "stdout",
     "output_type": "stream",
     "text": [
      "('E001', 'Jhon', 35, 40000)\n"
     ]
    }
   ],
   "source": [
    "# viewing \"emp\" tuple :\n",
    "\n",
    "print(emp)"
   ]
  },
  {
   "cell_type": "code",
   "execution_count": 19,
   "metadata": {},
   "outputs": [
    {
     "name": "stdout",
     "output_type": "stream",
     "text": [
      "('E001', 'Jhon', 35, 40000, 'M.Com', 'Accounts')\n"
     ]
    }
   ],
   "source": [
    "# Combining \"emp\" with \"emp2\" :\n",
    "\n",
    "print(emp + emp2)"
   ]
  },
  {
   "cell_type": "markdown",
   "metadata": {},
   "source": [
    "## List inside Tuple\n",
    "\n",
    "We can add a list inside a tuple and can apply all the list methods to it.\n",
    "\n",
    "***For Example :***\n",
    "\n",
    "In the below list (inside a tuple) we can perform operations like `pop`, `append` etc. as shown :"
   ]
  },
  {
   "cell_type": "code",
   "execution_count": 21,
   "metadata": {},
   "outputs": [
    {
     "name": "stdout",
     "output_type": "stream",
     "text": [
      "('Asia', ['India', 'Russia', 'China', 'Indonesia', 'Australia'])\n"
     ]
    }
   ],
   "source": [
    "tuplst = (\"Asia\",[\"India\", \"Russia\", \"China\", \"Indonesia\", \"Australia\"])\n",
    "\n",
    "print(tuplst)"
   ]
  },
  {
   "cell_type": "markdown",
   "metadata": {},
   "source": [
    "We can remove \"Australia\" from the inner list as follows :"
   ]
  },
  {
   "cell_type": "code",
   "execution_count": 22,
   "metadata": {},
   "outputs": [
    {
     "name": "stdout",
     "output_type": "stream",
     "text": [
      "('Asia', ['India', 'Russia', 'China', 'Indonesia'])\n"
     ]
    }
   ],
   "source": [
    "# Popping \"Australia\"\n",
    "\n",
    "tuplst[1].pop()\n",
    "\n",
    "print(tuplst)"
   ]
  },
  {
   "cell_type": "markdown",
   "metadata": {},
   "source": [
    "Similarly, we can perform the `append` method in the inner list as follows :"
   ]
  },
  {
   "cell_type": "code",
   "execution_count": 23,
   "metadata": {},
   "outputs": [
    {
     "name": "stdout",
     "output_type": "stream",
     "text": [
      "('Asia', ['India', 'Russia', 'China', 'Indonesia', 'Nepal'])\n"
     ]
    }
   ],
   "source": [
    "# Appending \"Nepal\"\n",
    "\n",
    "tuplst[1].append(\"Nepal\")\n",
    "\n",
    "print(tuplst)"
   ]
  },
  {
   "cell_type": "markdown",
   "metadata": {},
   "source": [
    "## Aggregation over Tuples\n",
    "\n",
    "We can also apply various aggregations functions upon the tuples, such as :\n",
    "\n",
    "1. `sum()`\n",
    "2. `count()`\n",
    "3. `min()`\n",
    "4. `max()`"
   ]
  },
  {
   "cell_type": "markdown",
   "metadata": {},
   "source": [
    "## `sum()` over Tuples\n",
    "\n",
    "We can sum all the elements of a numeric valued tuple, as follows :"
   ]
  },
  {
   "cell_type": "code",
   "execution_count": 1,
   "metadata": {},
   "outputs": [
    {
     "name": "stdout",
     "output_type": "stream",
     "text": [
      "33\n"
     ]
    }
   ],
   "source": [
    "# Given tuple\n",
    "\n",
    "nt = (5,6,7,3,2,10)\n",
    "\n",
    "# Sum of all elements\n",
    "\n",
    "print(sum(nt))"
   ]
  },
  {
   "cell_type": "markdown",
   "metadata": {},
   "source": [
    "## `max()` & `min()` over Tuples\n",
    "\n",
    "- `min()`: returns the lowest value in the tuple\n",
    "- `max()`: returns the highest value in the tuple\n",
    "\n",
    "***Example :***\n",
    "Creating a tuple of marks secured by students in \"English\" and then, find the minimum and maximum marks secured :"
   ]
  },
  {
   "cell_type": "code",
   "execution_count": 25,
   "metadata": {},
   "outputs": [
    {
     "name": "stdout",
     "output_type": "stream",
     "text": [
      "(56, 78, 92, 35, 23, 41, 52, 33)\n"
     ]
    }
   ],
   "source": [
    "# Creating the tuple\n",
    "\n",
    "English_Marks = (56,78,92,35,23,41,52,33)\n",
    "print(English_Marks)"
   ]
  },
  {
   "cell_type": "code",
   "execution_count": 26,
   "metadata": {},
   "outputs": [
    {
     "name": "stdout",
     "output_type": "stream",
     "text": [
      "92\n"
     ]
    }
   ],
   "source": [
    "# Getting maximum marks\n",
    "\n",
    "print(max(English_Marks))"
   ]
  },
  {
   "cell_type": "code",
   "execution_count": 27,
   "metadata": {},
   "outputs": [
    {
     "name": "stdout",
     "output_type": "stream",
     "text": [
      "23\n"
     ]
    }
   ],
   "source": [
    "# Getting minimum marks\n",
    "\n",
    "print(min(English_Marks))"
   ]
  },
  {
   "cell_type": "markdown",
   "metadata": {},
   "source": [
    "## `range()` with Tuple\n",
    "\n",
    "We can generate a tuple with the `range()` function, with the following syntax :\n",
    "\n",
    "```python\n",
    "tuple(range(start,stop, step))\n",
    "```\n",
    "\n",
    "***For Example:***\n",
    "\n",
    "Generate a tuple containing 1 to 10\n"
   ]
  },
  {
   "cell_type": "code",
   "execution_count": 2,
   "metadata": {},
   "outputs": [
    {
     "name": "stdout",
     "output_type": "stream",
     "text": [
      "(1, 2, 3, 4, 5, 6, 7, 8, 9, 10)\n"
     ]
    }
   ],
   "source": [
    "tups = tuple(range(1,11))\n",
    "print(tups)"
   ]
  },
  {
   "cell_type": "markdown",
   "metadata": {},
   "source": [
    "similarly, we can print a tuple of even numbers from 1 to 10 as follows :"
   ]
  },
  {
   "cell_type": "code",
   "execution_count": 4,
   "metadata": {},
   "outputs": [
    {
     "name": "stdout",
     "output_type": "stream",
     "text": [
      "(0, 2, 4, 6, 8, 10)\n"
     ]
    }
   ],
   "source": [
    "tupseven = tuple(range(0,11,2))\n",
    "print(tupseven)"
   ]
  }
 ],
 "metadata": {
  "kernelspec": {
   "display_name": "Python 3",
   "language": "python",
   "name": "python3"
  },
  "language_info": {
   "codemirror_mode": {
    "name": "ipython",
    "version": 3
   },
   "file_extension": ".py",
   "mimetype": "text/x-python",
   "name": "python",
   "nbconvert_exporter": "python",
   "pygments_lexer": "ipython3",
   "version": "3.7.6"
  }
 },
 "nbformat": 4,
 "nbformat_minor": 4
}
