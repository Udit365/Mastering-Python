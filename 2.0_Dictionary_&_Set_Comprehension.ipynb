{
 "cells": [
  {
   "cell_type": "markdown",
   "metadata": {},
   "source": [
    "# Dictionary Comprehension\n",
    "\n",
    "Just like list comprehensions, \n",
    "\n",
    "***For Example:***\n",
    "\n",
    "Generating a dictionary with value as the square of the key:"
   ]
  },
  {
   "cell_type": "code",
   "execution_count": 1,
   "metadata": {},
   "outputs": [
    {
     "name": "stdout",
     "output_type": "stream",
     "text": [
      "{1: 1, 2: 4, 3: 9, 4: 16, 5: 25, 6: 36, 7: 49, 8: 64, 9: 81, 10: 100}\n"
     ]
    }
   ],
   "source": [
    "sqr = { num: num**2 for num in range(1,11) }\n",
    "\n",
    "print(sqr)"
   ]
  },
  {
   "cell_type": "markdown",
   "metadata": {},
   "source": [
    "***Example-2:***\n",
    "\n",
    "To create a dictionary as follows:\n",
    "\n",
    "```python\n",
    "{square of 1: 1, square of 2: 4......}\n",
    "```"
   ]
  },
  {
   "cell_type": "code",
   "execution_count": 3,
   "metadata": {},
   "outputs": [
    {
     "name": "stdout",
     "output_type": "stream",
     "text": [
      "{'square of 1 is': 1, 'square of 2 is': 4, 'square of 3 is': 9, 'square of 4 is': 16, 'square of 5 is': 25, 'square of 6 is': 36, 'square of 7 is': 49, 'square of 8 is': 64, 'square of 9 is': 81, 'square of 10 is': 100}\n"
     ]
    }
   ],
   "source": [
    "sqr_format = { f\"square of {num} is\": num ** 2 for num in range(1,11) }\n",
    "\n",
    "print(sqr_format)"
   ]
  },
  {
   "cell_type": "markdown",
   "metadata": {},
   "source": [
    "To print each result in a new line:"
   ]
  },
  {
   "cell_type": "code",
   "execution_count": 8,
   "metadata": {},
   "outputs": [
    {
     "name": "stdout",
     "output_type": "stream",
     "text": [
      "square of 1 is:1\n",
      "square of 2 is:4\n",
      "square of 3 is:9\n",
      "square of 4 is:16\n",
      "square of 5 is:25\n",
      "square of 6 is:36\n",
      "square of 7 is:49\n",
      "square of 8 is:64\n",
      "square of 9 is:81\n",
      "square of 10 is:100\n"
     ]
    }
   ],
   "source": [
    "for k,v in sqr_format.items():\n",
    "    print(f\"{k}:{v}\")"
   ]
  },
  {
   "cell_type": "markdown",
   "metadata": {},
   "source": [
    "***Example-3:***\n",
    "\n",
    "We can count the number of characters present in a given character string very easily using the dictionary comprehension as follows:"
   ]
  },
  {
   "cell_type": "code",
   "execution_count": 13,
   "metadata": {},
   "outputs": [
    {
     "name": "stdout",
     "output_type": "stream",
     "text": [
      "Enter a character string: Hello World !!!\n",
      "{'H': 1, 'e': 1, 'l': 3, 'o': 2, ' ': 2, 'W': 1, 'r': 1, 'd': 1, '!': 3}\n"
     ]
    }
   ],
   "source": [
    "ipstr = input(\"Enter a character string: \")\n",
    "\n",
    "wordcnt = {i:ipstr.count(i) for i in ipstr}\n",
    "\n",
    "print(wordcnt)"
   ]
  },
  {
   "cell_type": "markdown",
   "metadata": {},
   "source": [
    "## Dictionary Comprehension with `if-else` Statement\n",
    "\n",
    "Odd-Even with dictionary comprehension:\n",
    "\n",
    "\n"
   ]
  },
  {
   "cell_type": "code",
   "execution_count": 14,
   "metadata": {},
   "outputs": [
    {
     "name": "stdout",
     "output_type": "stream",
     "text": [
      "{1: 'odd', 2: 'even', 3: 'odd', 4: 'even', 5: 'odd', 6: 'even', 7: 'odd', 8: 'even', 9: 'odd', 10: 'even'}\n"
     ]
    }
   ],
   "source": [
    "oddeven = { i: (\"even\" if i%2 == 0 else \"odd\") for i in range(1,11) }\n",
    "print(oddeven)"
   ]
  },
  {
   "cell_type": "markdown",
   "metadata": {},
   "source": [
    "# Set Comprehension"
   ]
  },
  {
   "cell_type": "code",
   "execution_count": 15,
   "metadata": {},
   "outputs": [
    {
     "name": "stdout",
     "output_type": "stream",
     "text": [
      "{64, 1, 4, 36, 100, 9, 16, 49, 81, 25}\n"
     ]
    }
   ],
   "source": [
    "s = {k**2 for k in range(1,11)}\n",
    "\n",
    "print(s)"
   ]
  },
  {
   "cell_type": "code",
   "execution_count": 16,
   "metadata": {},
   "outputs": [
    {
     "name": "stdout",
     "output_type": "stream",
     "text": [
      "{'A', 'M'}\n"
     ]
    }
   ],
   "source": [
    "names = {\"Alex\", \"Alberto\", \"Marco\"}\n",
    "\n",
    "first_char = {i[0] for i in names}\n",
    "\n",
    "print(first_char)"
   ]
  }
 ],
 "metadata": {
  "kernelspec": {
   "display_name": "Python 3",
   "language": "python",
   "name": "python3"
  },
  "language_info": {
   "codemirror_mode": {
    "name": "ipython",
    "version": 3
   },
   "file_extension": ".py",
   "mimetype": "text/x-python",
   "name": "python",
   "nbconvert_exporter": "python",
   "pygments_lexer": "ipython3",
   "version": "3.7.6"
  }
 },
 "nbformat": 4,
 "nbformat_minor": 4
}
