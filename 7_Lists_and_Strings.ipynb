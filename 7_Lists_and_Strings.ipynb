{
 "cells": [
  {
   "cell_type": "markdown",
   "metadata": {},
   "source": [
    "# Lists & Strings\n",
    "\n",
    "One of the major difference between lists and strings is:\n",
    "\n",
    "*Lists are mutable, whereas, strings are immutable.*\n",
    "\n",
    "This simply means that :\n",
    "\n",
    "we can't make change to a string once its defined. \n",
    "\n",
    "We can make another copy of the string and perform changes on it or, we may perform various operations to tweak the output of the string but, we can't change the original string itself.\n",
    "\n",
    "But, in case of lists, we can perform various operations like `append()`, `pop()`, `insert()` etc. that can chnage the original lists itself.\n",
    "\n",
    "We can change a string into list and vice-versa by the following two methods :\n",
    "\n",
    "1. `split()` Method : Converting a string into list\n",
    "2. `join()` Method : Converting a list into string"
   ]
  },
  {
   "cell_type": "markdown",
   "metadata": {},
   "source": [
    "## `split()` Method\n",
    "\n",
    "`split()` method is used to split the string by delimiter or, character and the output is stored in a list.\n",
    "\n",
    "***Syntax :***\n",
    "```python\n",
    "string.split(delimiter/character)\n",
    "```\n",
    "\n",
    "***Example :*** Each word of the string can be converted to list object, as follows :"
   ]
  },
  {
   "cell_type": "code",
   "execution_count": 4,
   "metadata": {},
   "outputs": [
    {
     "name": "stdout",
     "output_type": "stream",
     "text": [
      "['Python', 'is', 'cool']\n"
     ]
    }
   ],
   "source": [
    "# Splitting a string (string to list)\n",
    "\n",
    "str = \"Python is cool\"\n",
    "\n",
    "splt = str.split()\n",
    "\n",
    "print(splt)"
   ]
  },
  {
   "cell_type": "markdown",
   "metadata": {},
   "source": [
    ">***Note :*** without any delimiter, `split()` method takes \"blank space\" as the default delimiter for strings.\n",
    "\n",
    "`split()` method is useful for taking the user information and store it in a string, as follows :"
   ]
  },
  {
   "cell_type": "code",
   "execution_count": 8,
   "metadata": {},
   "outputs": [
    {
     "name": "stdout",
     "output_type": "stream",
     "text": [
      "Enter Your Name & Age: Python,56\n",
      "Your Name is: Python\n",
      "Your Age is: 56\n"
     ]
    }
   ],
   "source": [
    "# Taking user input\n",
    "\n",
    "Name, Age = input(\"Enter Your Name & Age: \").split(\",\")\n",
    "\n",
    "print(\"Your Name is: \"+ Name)\n",
    "print(\"Your Age is: \"+ Age)"
   ]
  },
  {
   "cell_type": "markdown",
   "metadata": {},
   "source": [
    "## `join()` Method\n",
    "\n",
    "`join()` method is the opposite of `split()` method,i.e., it creates a string from the list elements.\n",
    "\n",
    "***Syntax :***\n",
    "string = \"delimiter/character\".join(list)\n",
    "\n",
    "***Example :***\n",
    "\n",
    "We can create a single string from a list as follows :\n"
   ]
  },
  {
   "cell_type": "code",
   "execution_count": 10,
   "metadata": {},
   "outputs": [
    {
     "name": "stdout",
     "output_type": "stream",
     "text": [
      "Python is a cool language and I love using it.\n"
     ]
    }
   ],
   "source": [
    "# Creating a list\n",
    "\n",
    "words = [\"Python\",\"is\", \"a\", \"cool\", \"language\", \"and\", \"I\", \"love\",\"using\",\"it.\"]\n",
    "\n",
    "sentence = \" \".join(words)\n",
    "\n",
    "print(sentence)"
   ]
  },
  {
   "cell_type": "markdown",
   "metadata": {},
   "source": [
    ">***Note :*** `split()` and `join()` methods are strictly applied to strings and hence, for numerical values, these methods will throw an error. Therefore, the numerical inputs must be converted into string before getting used with `split()` or, `join()` method."
   ]
  }
 ],
 "metadata": {
  "kernelspec": {
   "display_name": "Python 3",
   "language": "python",
   "name": "python3"
  },
  "language_info": {
   "codemirror_mode": {
    "name": "ipython",
    "version": 3
   },
   "file_extension": ".py",
   "mimetype": "text/x-python",
   "name": "python",
   "nbconvert_exporter": "python",
   "pygments_lexer": "ipython3",
   "version": "3.7.6"
  }
 },
 "nbformat": 4,
 "nbformat_minor": 4
}
