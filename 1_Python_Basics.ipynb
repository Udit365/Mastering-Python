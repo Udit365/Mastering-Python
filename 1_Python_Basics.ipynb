{
 "cells": [
  {
   "cell_type": "markdown",
   "metadata": {},
   "source": [
    "# Python Basics"
   ]
  },
  {
   "cell_type": "markdown",
   "metadata": {},
   "source": [
    "In Python, to print anything on the screen, we use the `print()` function.\n",
    "\n",
    "***For example :***\n",
    "\n",
    "To print \"*Hello World !*\", we have to pass the following expression -:"
   ]
  },
  {
   "cell_type": "code",
   "execution_count": 1,
   "metadata": {},
   "outputs": [
    {
     "name": "stdout",
     "output_type": "stream",
     "text": [
      "Hello World !\n"
     ]
    }
   ],
   "source": [
    "print(\"Hello World !\")"
   ]
  },
  {
   "cell_type": "markdown",
   "metadata": {},
   "source": [
    "## Strings\n",
    "\n",
    "The \"*Hello World !*\" expression is known as **String** in Python and its nothing but the collection of some characters stated inside *double quotes(`\"\"`)* or, *single quotes(`'`)*.\n",
    "\n",
    "So, even if we write an integer inside `\"\"` or, `'`, python treats them as **Strings**.\n",
    "\n",
    ">***Notes :***\n",
    "- In a string, *doble quotes*(`\"\"`) can be used inside *single quotes* (`''`) and vice-versa but, we can't use *single quotes* (`''`) within an existing *single quotes* (`''`) or, *doble quotes*(`\"\"`) within an existing *doble quotes*(`\"\"`) directly.\n",
    "- We have to use **Escape Sequences** in order to print such output.\n"
   ]
  },
  {
   "cell_type": "markdown",
   "metadata": {},
   "source": [
    "### Escape Sequence\n",
    "\n",
    "Escape sequences are some special set of commands that helps in printing complex statements in our desired manner. \n",
    "\n",
    "Different types of escape sequences are -:\n",
    "\n",
    "- `\\'` : To print *single quotes* (`''`) within an existing *single quotes* (`''`)\n",
    "- `\\\"` : To print *doble quotes*(`\"\"`) within an existing *doble quotes*(`\"\"`)\n",
    "- `\\\\` : To print the backslash (`\\`)\n",
    "- `\\n` : To add a new line\n",
    "- `\\t` : To add a tab (equivalent to 8 spaces)\n",
    "- `\\b` : Backspace (seldom used)\n",
    "\n",
    ">***Notes :***\n",
    "- Its a best practice to always use *single quotes* (`''`) or, *doble quotes*(`\"\"`) with backslash (`\\`).\n",
    "- blank spaces are also a type of charater in python.\n",
    "\n",
    "\n",
    "***Example :***\n",
    "\n",
    "1. To print : *Hello \"World\"* \n"
   ]
  },
  {
   "cell_type": "code",
   "execution_count": 3,
   "metadata": {},
   "outputs": [
    {
     "name": "stdout",
     "output_type": "stream",
     "text": [
      "Hello \"World\"\n"
     ]
    }
   ],
   "source": [
    "print(\"Hello \\\"World\\\"\")"
   ]
  },
  {
   "cell_type": "markdown",
   "metadata": {},
   "source": [
    "2. To print : <br>\n",
    "*Line A <br>\n",
    " Line B* "
   ]
  },
  {
   "cell_type": "code",
   "execution_count": 4,
   "metadata": {},
   "outputs": [
    {
     "name": "stdout",
     "output_type": "stream",
     "text": [
      "Line A\n",
      "Line B\n"
     ]
    }
   ],
   "source": [
    "print(\"Line A\\nLine B\")"
   ]
  },
  {
   "cell_type": "markdown",
   "metadata": {},
   "source": [
    "3. Utilizing `\\b`, print *Hello* if *Helllo* is given"
   ]
  },
  {
   "cell_type": "markdown",
   "metadata": {},
   "source": [
    "print(\"Hell\\blo\")"
   ]
  },
  {
   "cell_type": "markdown",
   "metadata": {},
   "source": [
    "#### Printing Escape Sequences as Normal Text\n",
    "\n",
    "1. To print : *Line A \\n Line B*"
   ]
  },
  {
   "cell_type": "code",
   "execution_count": 8,
   "metadata": {},
   "outputs": [
    {
     "name": "stdout",
     "output_type": "stream",
     "text": [
      "Line A \\n Line B\n"
     ]
    }
   ],
   "source": [
    "print(\"Line A \\\\n Line B\")"
   ]
  },
  {
   "cell_type": "markdown",
   "metadata": {},
   "source": [
    "Instead of using two backslash to print one backslash, we can simply use the concept of *raw strings*, to treat any string containing escapes sequences as normal.\n",
    "\n",
    "***For Example :***<br>\n",
    "To print : *Line A \\n Line B* :\n"
   ]
  },
  {
   "cell_type": "code",
   "execution_count": 9,
   "metadata": {},
   "outputs": [
    {
     "name": "stdout",
     "output_type": "stream",
     "text": [
      "line A \\n line B\n"
     ]
    }
   ],
   "source": [
    "print(r\"line A \\n line B\")"
   ]
  },
  {
   "cell_type": "markdown",
   "metadata": {},
   "source": [
    "Using `r` before the *quotes*, treats the string as normal irrespective of the presence of escape sequences."
   ]
  },
  {
   "cell_type": "markdown",
   "metadata": {},
   "source": [
    "#### Printing Emojis\n",
    "\n",
    "To print an emoji, we have to pass its *unicode* inside the `print()` function as a string.\n",
    "\n",
    "We can get the unicode for various emojis here : [Unicode Website](https://unicode.org/emoji/charts/full-emoji-list.html)\n",
    "\n",
    "After getting the unicode for the emoji, we have to replace the `+` sign of the unicode (if present) with three zeros (`000`) and need to put a backslash(`\\`) before starting of the unicode.\n",
    "\n",
    "***For Example :***\n",
    "\n",
    "Print the \"grinning face with big eyes\" emoji :\n"
   ]
  },
  {
   "cell_type": "code",
   "execution_count": 30,
   "metadata": {},
   "outputs": [
    {
     "name": "stdout",
     "output_type": "stream",
     "text": [
      "😃\n"
     ]
    }
   ],
   "source": [
    "print(\"\\U0001F603\")"
   ]
  },
  {
   "cell_type": "markdown",
   "metadata": {},
   "source": [
    "## Comments\n",
    "\n",
    "Comments are just meant for users to understand the code easily, the interpreter of python completely ignores them.\n",
    "\n",
    "Anything that starts after `#` is considered as a comment in python.\n",
    "\n",
    "***Syntax :***\n",
    "\n",
    "```python\n",
    "# This is a comment\n",
    "```\n",
    "\n",
    "To comment and uncomment quickly, we can just select the statements and use the short-cut `ctrl + /` (For Windows Machine)\n",
    "\n"
   ]
  },
  {
   "cell_type": "markdown",
   "metadata": {},
   "source": [
    "## Python as Calculator\n",
    "\n",
    "Following operators are used in python to perform basic arithmetical operations :\n",
    "\n",
    "\n",
    "- `+`  : Addition\n",
    "- `-`  : Subtraction\n",
    "- `*`  : Multiplication\n",
    "- `**` : Exponent\n",
    "- `/`  : float division (Output as decimal number)\n",
    "- `//` : integer division (Output as whole number)\n",
    "- `%`  : Modulo/Remainder\n",
    "\n",
    "\n",
    "***For Example :***"
   ]
  },
  {
   "cell_type": "code",
   "execution_count": 10,
   "metadata": {},
   "outputs": [
    {
     "name": "stdout",
     "output_type": "stream",
     "text": [
      "5\n"
     ]
    }
   ],
   "source": [
    "# Addition\n",
    "\n",
    "print(2+3)"
   ]
  },
  {
   "cell_type": "code",
   "execution_count": 11,
   "metadata": {},
   "outputs": [
    {
     "name": "stdout",
     "output_type": "stream",
     "text": [
      "1\n"
     ]
    }
   ],
   "source": [
    "# Subtraction\n",
    "\n",
    "print(3-2)"
   ]
  },
  {
   "cell_type": "code",
   "execution_count": 12,
   "metadata": {},
   "outputs": [
    {
     "name": "stdout",
     "output_type": "stream",
     "text": [
      "6\n"
     ]
    }
   ],
   "source": [
    "# Multiplication\n",
    "\n",
    "print (2*3)"
   ]
  },
  {
   "cell_type": "code",
   "execution_count": 13,
   "metadata": {},
   "outputs": [
    {
     "name": "stdout",
     "output_type": "stream",
     "text": [
      "8\n"
     ]
    }
   ],
   "source": [
    "# Exponent\n",
    "\n",
    "print(2**3)"
   ]
  },
  {
   "cell_type": "code",
   "execution_count": 16,
   "metadata": {},
   "outputs": [
    {
     "name": "stdout",
     "output_type": "stream",
     "text": [
      "0.5\n"
     ]
    }
   ],
   "source": [
    "# Float division (Always recommended for division)\n",
    "\n",
    "print(2/4)"
   ]
  },
  {
   "cell_type": "code",
   "execution_count": 15,
   "metadata": {},
   "outputs": [
    {
     "name": "stdout",
     "output_type": "stream",
     "text": [
      "0\n"
     ]
    }
   ],
   "source": [
    "# Integer division (Gives incorrect result as fractional part gets eliminated)\n",
    "\n",
    "print (2//4)"
   ]
  },
  {
   "cell_type": "code",
   "execution_count": 17,
   "metadata": {},
   "outputs": [
    {
     "name": "stdout",
     "output_type": "stream",
     "text": [
      "1\n"
     ]
    }
   ],
   "source": [
    "# Remainder/Modulo\n",
    "\n",
    "print(3%2)"
   ]
  },
  {
   "cell_type": "markdown",
   "metadata": {},
   "source": [
    "#### `round()` Function :\n",
    "\n",
    "To round-off a float upto a certain deciman point we can use the `round()` function.\n",
    "\n",
    "***Syntax :***\n",
    "```python\n",
    "round(<<expression>>, <<round-off digits>>)\n",
    "```\n",
    "\n",
    "\n",
    "***For Example :***<br>\n",
    "To print the square root of 2 upto 4 digits after the decimal point :"
   ]
  },
  {
   "cell_type": "code",
   "execution_count": 18,
   "metadata": {},
   "outputs": [
    {
     "name": "stdout",
     "output_type": "stream",
     "text": [
      "1.4142\n"
     ]
    }
   ],
   "source": [
    "print(round(2**0.5,4))"
   ]
  },
  {
   "cell_type": "markdown",
   "metadata": {},
   "source": [
    "### Precedence Rule (PEMDAS)\n",
    "\n",
    "Python doesn't follow the regular \"*BODMAS*\" rule for complex arithmetic operations rather, its uses \"*PEMDAS*\" abbriviated as :\n",
    "- `P` : Parenthesis\n",
    "- `E` : Exponent\n",
    "- `M` : Multiplication\n",
    "- `D` : Division \n",
    "- `A` : Addition\n",
    "- `S` : Subtraction\n",
    "\n",
    "Again, to priotorize the execution when multiple operators are used, python follows an associativity order as follows :\n",
    "\n",
    "\n",
    "***Examples :***\n"
   ]
  },
  {
   "cell_type": "code",
   "execution_count": 20,
   "metadata": {},
   "outputs": [
    {
     "name": "stdout",
     "output_type": "stream",
     "text": [
      "10\n"
     ]
    }
   ],
   "source": [
    "# First (2+3) will be added\n",
    "# then, result will be multiplied with 2\n",
    "\n",
    "print((2+3) * 2)"
   ]
  },
  {
   "cell_type": "code",
   "execution_count": 21,
   "metadata": {},
   "outputs": [
    {
     "name": "stdout",
     "output_type": "stream",
     "text": [
      "0.5\n"
     ]
    }
   ],
   "source": [
    "# First (2+3) will be added\n",
    "# Then, result will be multiplied with 5\n",
    "# Then, result will be divided by 2\n",
    "# Finally, modulo operator will act upon the result\n",
    "\n",
    "print((2+3) * 5/2 % 6)"
   ]
  },
  {
   "cell_type": "code",
   "execution_count": 22,
   "metadata": {},
   "outputs": [
    {
     "name": "stdout",
     "output_type": "stream",
     "text": [
      "512\n"
     ]
    }
   ],
   "source": [
    "# Due to right to left associativity\n",
    "# First (2 ** 3) will happen\n",
    "# Then (result ** 2) will happen\n",
    "\n",
    "print( 2 ** 3 ** 2)"
   ]
  },
  {
   "cell_type": "markdown",
   "metadata": {},
   "source": [
    "## Variables\n",
    "\n",
    "The `=` operator is used as the assignment operator in python and used to declare a variable.\n",
    "\n",
    "***For Example :***\n",
    "\n",
    "Assign `2` to a variable `a` and `3` to another variable `b` and print the result :"
   ]
  },
  {
   "cell_type": "code",
   "execution_count": 23,
   "metadata": {},
   "outputs": [
    {
     "name": "stdout",
     "output_type": "stream",
     "text": [
      "5\n"
     ]
    }
   ],
   "source": [
    "# Variable assignment operation\n",
    "\n",
    "a = 2\n",
    "b = 3\n",
    "\n",
    "print(a+b)"
   ]
  },
  {
   "cell_type": "markdown",
   "metadata": {},
   "source": [
    "### Variable Properties\n",
    "\n",
    "\n",
    "- Variables can store any kind of datatype like strings, integers, float values etc.\n",
    "- Variable name can't start with a number like *`1num`, `3str`, etc.* can't be used as a variable name.\n",
    "- Special charaters *(`blank spaces, @, $ , & ` etc.)* can't be used in a variable name.\n",
    "- Underscore(`_`) is not a special charaters and hence, *`_name`* or, *`Val_A`* are valid variable names.\n",
    "\n",
    ">***Notes :***<br>\n",
    "As a best practice, in Python, \"*Snake Case Writing*\" is recommended *(Ex : Snake_case_writing)*, whereas, in Java, \"*Camel Case Writing*\" is recommended *(Ex : OneVariableName)*"
   ]
  },
  {
   "cell_type": "markdown",
   "metadata": {},
   "source": [
    "### Assigning Mutiple Variables\n",
    "\n",
    "We can also declare multiple variables at once by spearating the variable names with comma (`,`) separator along with their respective values.\n",
    "\n",
    "***For Example :***\n",
    "\n",
    "Assign `2` to `a`, `5` to `b` and `Jhon` to `c` in one line and print them :"
   ]
  },
  {
   "cell_type": "code",
   "execution_count": 27,
   "metadata": {},
   "outputs": [
    {
     "name": "stdout",
     "output_type": "stream",
     "text": [
      "2\n",
      "5\n",
      "Jhon\n"
     ]
    }
   ],
   "source": [
    "a, b, c = 2, 5 , \"Jhon\"\n",
    "\n",
    "print(a)\n",
    "print(b)\n",
    "print(c)"
   ]
  },
  {
   "cell_type": "markdown",
   "metadata": {},
   "source": [
    "Similarly, to assign same value to multiple variables, we can make use of assignment (`=`) operator.\n",
    "\n",
    "***For Example :***\n",
    "\n",
    "Assign a value of `10` to the varables `x`, `y` and `z` and print them :"
   ]
  },
  {
   "cell_type": "code",
   "execution_count": 29,
   "metadata": {},
   "outputs": [
    {
     "name": "stdout",
     "output_type": "stream",
     "text": [
      "10\n",
      "10\n",
      "10\n"
     ]
    }
   ],
   "source": [
    "x = y = z = 10\n",
    "\n",
    "print(x)\n",
    "print(y)\n",
    "print(z)"
   ]
  }
 ],
 "metadata": {
  "kernelspec": {
   "display_name": "Python 3",
   "language": "python",
   "name": "python3"
  },
  "language_info": {
   "codemirror_mode": {
    "name": "ipython",
    "version": 3
   },
   "file_extension": ".py",
   "mimetype": "text/x-python",
   "name": "python",
   "nbconvert_exporter": "python",
   "pygments_lexer": "ipython3",
   "version": "3.7.6"
  }
 },
 "nbformat": 4,
 "nbformat_minor": 4
}
