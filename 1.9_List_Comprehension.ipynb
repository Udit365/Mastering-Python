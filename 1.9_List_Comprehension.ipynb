{
 "cells": [
  {
   "cell_type": "markdown",
   "metadata": {},
   "source": [
    "# List Comprehension\n",
    "\n",
    "With the help of list comprehension, we can able to create complex lists in just one line.\n",
    "\n",
    "***Syntax:***\n",
    "\n",
    "```python\n",
    "list_name = [ << what to append >> << for-Loop >> ]\n",
    "```\n",
    "\n",
    "***For Example:***\n",
    "\n",
    "Let's compare how we can create list of squares of number in traditional way and with list comprehension:"
   ]
  },
  {
   "cell_type": "code",
   "execution_count": 2,
   "metadata": {},
   "outputs": [
    {
     "name": "stdout",
     "output_type": "stream",
     "text": [
      "[1, 4, 9, 16, 25, 36, 49, 64, 81, 100]\n"
     ]
    }
   ],
   "source": [
    "# Traditional/Regualar way\n",
    "\n",
    "squares_td = []\n",
    "\n",
    "for i in range(1,11):\n",
    "    squares_td.append(i**2)\n",
    "print(squares_td)"
   ]
  },
  {
   "cell_type": "code",
   "execution_count": 3,
   "metadata": {},
   "outputs": [
    {
     "name": "stdout",
     "output_type": "stream",
     "text": [
      "[1, 4, 9, 16, 25, 36, 49, 64, 81, 100]\n"
     ]
    }
   ],
   "source": [
    "# List comprehension way\n",
    "\n",
    "squares_lc = [i**2 for i in range(1,11)]\n",
    "\n",
    "print(squares_lc)"
   ]
  },
  {
   "cell_type": "markdown",
   "metadata": {},
   "source": [
    "***Example - 2:***\n",
    "\n",
    "Creating a list through list comprehension to find out the negative of each number:"
   ]
  },
  {
   "cell_type": "code",
   "execution_count": 4,
   "metadata": {},
   "outputs": [
    {
     "name": "stdout",
     "output_type": "stream",
     "text": [
      "[-1, -2, -3, -4, -5, -6, -7, -8, -9, -10]\n"
     ]
    }
   ],
   "source": [
    "neglist = [-i for i in range(1,11)]\n",
    "\n",
    "print(neglist)"
   ]
  },
  {
   "cell_type": "markdown",
   "metadata": {},
   "source": [
    "***Example-3:***\n",
    "\n",
    "Creating a list that extracts the first letter from a given list of names:"
   ]
  },
  {
   "cell_type": "code",
   "execution_count": 5,
   "metadata": {},
   "outputs": [
    {
     "name": "stdout",
     "output_type": "stream",
     "text": [
      "['U', 'R', 'A', 'J', 'K', 'C', 'J', 'A', 'R']\n"
     ]
    }
   ],
   "source": [
    "# Given list of names:\n",
    "\n",
    "names = [\"Udit\", \"Rohit\", \"Amanda\", \"Jhon\", \"Karen\", \"Cristhel\", \"Jackie\", \"Alex\", \"Robert\"]\n",
    "\n",
    "# Extracting the first letter through list comprehension:\n",
    "\n",
    "namestart = [ i[0] for i in names ]\n",
    "\n",
    "print(namestart)"
   ]
  },
  {
   "cell_type": "markdown",
   "metadata": {},
   "source": [
    "## List Comprehension with `if` Statement\n",
    "\n",
    "Let's compare the traditional and list comprehension ways when a simple `if` statement is associated.\n",
    "\n",
    "***Syntax:***\n",
    "\n",
    "```python\n",
    "list_name = [ << what to append >> << for-Loop >> << if-condition >> ]\n",
    "```\n",
    "\n",
    "***For Example:***\n",
    "\n",
    "Let's try to Extract the list of even numbers from a range of numbers in both ways: "
   ]
  },
  {
   "cell_type": "code",
   "execution_count": 7,
   "metadata": {},
   "outputs": [
    {
     "name": "stdout",
     "output_type": "stream",
     "text": [
      "[2, 4, 6, 8, 10]\n"
     ]
    }
   ],
   "source": [
    "# Traditional/Regualar Way:\n",
    "\n",
    "evennums_td = []\n",
    "\n",
    "for i in range(1,11):\n",
    "    if i%2 == 0:\n",
    "        evennums_td.append(i)\n",
    "\n",
    "print(evennums_td)"
   ]
  },
  {
   "cell_type": "code",
   "execution_count": 9,
   "metadata": {},
   "outputs": [
    {
     "name": "stdout",
     "output_type": "stream",
     "text": [
      "[2, 4, 6, 8, 10]\n"
     ]
    }
   ],
   "source": [
    "# List comprehension way:\n",
    "\n",
    "evennums_lc = [ i for i in range(1,11) if i%2==0 ]\n",
    "\n",
    "print(evennums_lc)"
   ]
  },
  {
   "cell_type": "markdown",
   "metadata": {},
   "source": [
    "***Example-1:***\n",
    "\n",
    "Extracting a list of odd numbers from a given range of numbers:"
   ]
  },
  {
   "cell_type": "code",
   "execution_count": 10,
   "metadata": {},
   "outputs": [
    {
     "name": "stdout",
     "output_type": "stream",
     "text": [
      "[1, 2, 3, 4, 5, 6, 7, 8, 9, 10]\n"
     ]
    }
   ],
   "source": [
    "# Given range of numbers:\n",
    "\n",
    "nums = list( range(1,11) )\n",
    "print(nums)"
   ]
  },
  {
   "cell_type": "code",
   "execution_count": 11,
   "metadata": {},
   "outputs": [
    {
     "name": "stdout",
     "output_type": "stream",
     "text": [
      "[1, 3, 5, 7, 9]\n"
     ]
    }
   ],
   "source": [
    "# Extracting the odd numbers:\n",
    "\n",
    "oddnums = [ i for i in nums if i%2 != 0 ]\n",
    "\n",
    "print(oddnums)"
   ]
  },
  {
   "cell_type": "markdown",
   "metadata": {},
   "source": [
    "## List Comprehension with `if-else` Statement\n",
    "\n",
    "Let's compare the traditional and list comprehension ways when `if-else` statement is associated.\n",
    "\n",
    "***Syntax:***\n",
    "\n",
    "```python\n",
    "list_name = [ << if-else conditional append >> << for-Loop >> ]\n",
    "```\n",
    "\n",
    "***For Example:***\n",
    "\n",
    "Let's try to create a list that by printing negative number if the given number is odd and multiplying the given number with $2$ if the number is even, in both ways:"
   ]
  },
  {
   "cell_type": "code",
   "execution_count": 13,
   "metadata": {},
   "outputs": [
    {
     "name": "stdout",
     "output_type": "stream",
     "text": [
      "[-1, 4, -3, 8, -5, 12, -7, 16, -9, 20]\n"
     ]
    }
   ],
   "source": [
    "# Traditional/Regular way:\n",
    "\n",
    "customlst_td = []\n",
    "\n",
    "for i in range(1,11):\n",
    "    if i%2 == 0:\n",
    "        customlst_td.append(i*2)\n",
    "    else:\n",
    "        customlst_td.append(-i)\n",
    "\n",
    "print(customlst_td)"
   ]
  },
  {
   "cell_type": "code",
   "execution_count": 14,
   "metadata": {},
   "outputs": [
    {
     "name": "stdout",
     "output_type": "stream",
     "text": [
      "[-1, 4, -3, 8, -5, 12, -7, 16, -9, 20]\n"
     ]
    }
   ],
   "source": [
    "# List comprehension way:\n",
    "\n",
    "customlst_lc = [ i*2 if i%2 == 0 else -i for i in range(1,11) ]\n",
    "\n",
    "print(customlst_lc)"
   ]
  },
  {
   "cell_type": "markdown",
   "metadata": {},
   "source": [
    "## List Comprehension with Nested List / Matrix\n",
    "\n",
    "We can easily create a nested list through list comprehension with the following syntax:\n",
    "\n",
    "***Syntax:***\n",
    "\n",
    "```python\n",
    "list_name = [ [<< L.C Statement for inner list >>] << for-Loop >>  ]\n",
    "```\n",
    "\n",
    "***For Example:***\n",
    "\n",
    "Let's try to create a list that has `[1,2,3]` as an inner list for three times, in both ways:"
   ]
  },
  {
   "cell_type": "code",
   "execution_count": 15,
   "metadata": {},
   "outputs": [
    {
     "name": "stdout",
     "output_type": "stream",
     "text": [
      "[[1, 2, 3], [1, 2, 3], [1, 2, 3]]\n"
     ]
    }
   ],
   "source": [
    "# Traditional/Regualar way:\n",
    "\n",
    "lst_td = []\n",
    "\n",
    "for j in range(3):\n",
    "    lst_td.append([1,2,3])\n",
    "\n",
    "print(lst_td)"
   ]
  },
  {
   "cell_type": "code",
   "execution_count": 21,
   "metadata": {},
   "outputs": [
    {
     "name": "stdout",
     "output_type": "stream",
     "text": [
      "[[1, 2, 3], [1, 2, 3], [1, 2, 3]]\n"
     ]
    }
   ],
   "source": [
    "# List comprehension way:\n",
    "\n",
    "lst_lc = [[i for i in range(1,4)] for j in range(3)]\n",
    "\n",
    "print(lst_lc)"
   ]
  }
 ],
 "metadata": {
  "kernelspec": {
   "display_name": "Python 3",
   "language": "python",
   "name": "python3"
  },
  "language_info": {
   "codemirror_mode": {
    "name": "ipython",
    "version": 3
   },
   "file_extension": ".py",
   "mimetype": "text/x-python",
   "name": "python",
   "nbconvert_exporter": "python",
   "pygments_lexer": "ipython3",
   "version": "3.7.6"
  }
 },
 "nbformat": 4,
 "nbformat_minor": 4
}
