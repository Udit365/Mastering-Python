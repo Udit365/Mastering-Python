{
 "cells": [
  {
   "cell_type": "markdown",
   "metadata": {},
   "source": [
    "# Functions in Lists\n",
    "\n",
    "We can pass a list into the function just like any other variable.\n",
    "\n",
    "***For Example :***\n",
    "\n",
    "We can write a function that chnages the sign of input numerical list, as follows :"
   ]
  },
  {
   "cell_type": "code",
   "execution_count": 1,
   "metadata": {},
   "outputs": [
    {
     "name": "stdout",
     "output_type": "stream",
     "text": [
      "[-23, -45, -67, 34, 55, 65, -89, -100, -234, -458, -930, 23]\n"
     ]
    }
   ],
   "source": [
    "# Creating the function\n",
    "\n",
    "def negate(l):\n",
    "    neglist = []\n",
    "    for i in l:\n",
    "        neglist.append(-i)\n",
    "    return neglist\n",
    "\n",
    "# Calling the function\n",
    "\n",
    "nums = [23, 45, 67,-34, -55, -65, 89, 100, 234, 458, 930, -23]\n",
    "\n",
    "print( negate(nums) )"
   ]
  },
  {
   "cell_type": "markdown",
   "metadata": {},
   "source": [
    "Similarly, we can create a function that finds the range of a numerical list, i.e., the difference between the maximum and minimu values present in the list, as follows : "
   ]
  },
  {
   "cell_type": "code",
   "execution_count": 2,
   "metadata": {},
   "outputs": [
    {
     "name": "stdout",
     "output_type": "stream",
     "text": [
      "995\n"
     ]
    }
   ],
   "source": [
    "# Creating the function :\n",
    "\n",
    "def ranges(l):\n",
    "    diff = max(l) - min(l)\n",
    "    return diff\n",
    "\n",
    "# Calling the function\n",
    "\n",
    "print (ranges(nums))"
   ]
  }
 ],
 "metadata": {
  "kernelspec": {
   "display_name": "Python 3",
   "language": "python",
   "name": "python3"
  },
  "language_info": {
   "codemirror_mode": {
    "name": "ipython",
    "version": 3
   },
   "file_extension": ".py",
   "mimetype": "text/x-python",
   "name": "python",
   "nbconvert_exporter": "python",
   "pygments_lexer": "ipython3",
   "version": "3.7.6"
  }
 },
 "nbformat": 4,
 "nbformat_minor": 4
}
