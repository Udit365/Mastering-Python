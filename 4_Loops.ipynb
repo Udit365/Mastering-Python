{
 "cells": [
  {
   "cell_type": "markdown",
   "metadata": {},
   "source": [
    "# Loops\n",
    "\n",
    "Loops are used to iterate the same thing for multiple times or, even for infinite time.\n",
    "\n",
    "There are two main kind of loops :\n",
    "\n",
    "1. `while` Loop\n",
    "2. `for` Loop\n",
    "\n",
    "The work and applicability of both the loops are same and it depends upon the user to choose any of them as per their convenience."
   ]
  },
  {
   "cell_type": "markdown",
   "metadata": {},
   "source": [
    "## `while` Loop\n",
    "\n",
    "***Synatx :***\n",
    "\n",
    "```python\n",
    "var = <num>\n",
    "while CONDITION:\n",
    "    print(Statement)\n",
    "    var = var + 1\n",
    "```\n",
    "\n",
    "***Example :***\n",
    "\n",
    "Find the sum of 1 to 100\n",
    "    "
   ]
  },
  {
   "cell_type": "code",
   "execution_count": 3,
   "metadata": {},
   "outputs": [
    {
     "name": "stdout",
     "output_type": "stream",
     "text": [
      "55\n"
     ]
    }
   ],
   "source": [
    "Total = 0\n",
    "\n",
    "i = 1\n",
    "\n",
    "while i <= 10:\n",
    "    Total += i\n",
    "    i += 1\n",
    "print(Total)"
   ]
  },
  {
   "cell_type": "markdown",
   "metadata": {},
   "source": [
    "### Infinite `while` Loop\n",
    "\n",
    "if we don't increment the conditional variable (mostly assigned as `i`) inside the `while` loop then, it will run for infinite time (physcially, untill the stack memory is full).\n",
    "\n",
    "To stop an infinite loop, press **CTRL + C** in the keyboard.\n",
    "\n",
    "To run an infinite loop with intent, we can pass the following `while` loop:\n",
    "\n",
    "```python\n",
    "while True:\n",
    "    print(statment)\n",
    "```\n",
    "\n",
    "> ***Note :*** The booleans in Python are case-sensitive. So, we can't write \"TRUE\"/\"true\" instead of \"True\" or, \"FALSE\"/\"false\" instead of \"False\""
   ]
  },
  {
   "cell_type": "markdown",
   "metadata": {},
   "source": [
    "## `for` Loop\n",
    "\n",
    "***Syntax :***\n",
    "\n",
    "```python\n",
    "for i in range(n):\n",
    "    statement-1\n",
    "    statement-2\n",
    "    .\n",
    "    .\n",
    "    .\n",
    "    statement-n\n",
    "print(output)\n",
    "```\n",
    "\n",
    "***Example :*** Print \"Hello World\" for 10 times :\n"
   ]
  },
  {
   "cell_type": "code",
   "execution_count": 5,
   "metadata": {},
   "outputs": [
    {
     "name": "stdout",
     "output_type": "stream",
     "text": [
      "Hello World\n",
      "Hello World\n",
      "Hello World\n",
      "Hello World\n",
      "Hello World\n",
      "Hello World\n",
      "Hello World\n",
      "Hello World\n",
      "Hello World\n",
      "Hello World\n"
     ]
    }
   ],
   "source": [
    "for i in range(10):\n",
    "    print(\"Hello World\")"
   ]
  },
  {
   "cell_type": "markdown",
   "metadata": {},
   "source": [
    "### `range()` Function\n",
    "\n",
    "- `range(n)` iterates for `(n-1)` times and outputs for `n` times.\n",
    "- `range(1,n+1)` gives same result as `range(n)`.\n",
    "- `range(0,n)` also gives the same result as `range(n).\n",
    "\n",
    "#### `range()` with step argument\n",
    "\n",
    "The `range()` function can also take 3 arguments with the 3rd one being the step.\n",
    "\n",
    "*For example :*\n",
    "\n",
    "- if `range(1,11,2)` is provided then, all the odd numbers will be executed\n",
    "- if `range(0,11,2)` is provided then, all the even numbers will be executed\n",
    "- if `range(10,0,-1)` is provided then, the numbers will be executed in reverse order from 10 to 1.\n",
    "- if `range(10,-1,-1)`is provided then, the numbers will be executed in reverse order from 10 to 0."
   ]
  },
  {
   "cell_type": "code",
   "execution_count": 7,
   "metadata": {},
   "outputs": [
    {
     "name": "stdout",
     "output_type": "stream",
     "text": [
      "1\n",
      "3\n",
      "5\n",
      "7\n",
      "9\n"
     ]
    }
   ],
   "source": [
    "# Printing odd numbers from 1 to 10\n",
    "\n",
    "for i in range(1,11,2):\n",
    "    print(i)"
   ]
  },
  {
   "cell_type": "code",
   "execution_count": 10,
   "metadata": {},
   "outputs": [
    {
     "name": "stdout",
     "output_type": "stream",
     "text": [
      "0\n",
      "2\n",
      "4\n",
      "6\n",
      "8\n",
      "10\n"
     ]
    }
   ],
   "source": [
    "# Printing even numbers from 0 to 10\n",
    "\n",
    "for i in range(0,11,2):\n",
    "    print(i)"
   ]
  },
  {
   "cell_type": "code",
   "execution_count": 11,
   "metadata": {},
   "outputs": [
    {
     "name": "stdout",
     "output_type": "stream",
     "text": [
      "10\n",
      "9\n",
      "8\n",
      "7\n",
      "6\n",
      "5\n",
      "4\n",
      "3\n",
      "2\n",
      "1\n"
     ]
    }
   ],
   "source": [
    "# Printing 10 to 1 (Reverse order)\n",
    "\n",
    "for i in range(10,0,-1):\n",
    "    print(i)"
   ]
  },
  {
   "cell_type": "code",
   "execution_count": 12,
   "metadata": {},
   "outputs": [
    {
     "name": "stdout",
     "output_type": "stream",
     "text": [
      "10\n",
      "9\n",
      "8\n",
      "7\n",
      "6\n",
      "5\n",
      "4\n",
      "3\n",
      "2\n",
      "1\n",
      "0\n"
     ]
    }
   ],
   "source": [
    "# Printing 10 to 0 (Reverse order)\n",
    "\n",
    "for i in range(10,-1,-1):\n",
    "    print(i)"
   ]
  },
  {
   "cell_type": "markdown",
   "metadata": {},
   "source": [
    "### `break` Keyword\n",
    "\n",
    "Breaks the loops forecefully, when the condition is met.\n",
    "\n",
    "***Example :*** Perform iteration for 10 times but break the loop when `i==5`"
   ]
  },
  {
   "cell_type": "code",
   "execution_count": 3,
   "metadata": {},
   "outputs": [
    {
     "name": "stdout",
     "output_type": "stream",
     "text": [
      "1\n",
      "2\n",
      "3\n",
      "4\n"
     ]
    }
   ],
   "source": [
    "for i in range(1,11):\n",
    "    if (i==5):\n",
    "        break\n",
    "    print(i)"
   ]
  },
  {
   "cell_type": "markdown",
   "metadata": {},
   "source": [
    "### `continue` Keyword\n",
    "\n",
    "Skips execution of statements below it and forcefully, takes the loop to peform next iteration.\n",
    "\n",
    "***Example :*** Print 1 to 10 but, skip 5"
   ]
  },
  {
   "cell_type": "code",
   "execution_count": 6,
   "metadata": {},
   "outputs": [
    {
     "name": "stdout",
     "output_type": "stream",
     "text": [
      "1\n",
      "2\n",
      "3\n",
      "4\n",
      "6\n",
      "7\n",
      "8\n",
      "9\n",
      "10\n"
     ]
    }
   ],
   "source": [
    "for i in range(1,11):\n",
    "    if (i==5):\n",
    "        continue\n",
    "    print(i)"
   ]
  },
  {
   "cell_type": "markdown",
   "metadata": {},
   "source": [
    "### `for` loop with strings\n",
    "\n",
    "if we have to print each character of a string, then, we have to write the following code :"
   ]
  },
  {
   "cell_type": "code",
   "execution_count": 13,
   "metadata": {},
   "outputs": [
    {
     "name": "stdout",
     "output_type": "stream",
     "text": [
      "p\n",
      "y\n",
      "t\n",
      "h\n",
      "o\n",
      "n\n"
     ]
    }
   ],
   "source": [
    "name = \"python\"\n",
    "\n",
    "for i in name:\n",
    "    print(i)"
   ]
  },
  {
   "cell_type": "markdown",
   "metadata": {},
   "source": [
    "***Example :*** Add all the integers of the user input number."
   ]
  },
  {
   "cell_type": "code",
   "execution_count": 22,
   "metadata": {},
   "outputs": [
    {
     "name": "stdout",
     "output_type": "stream",
     "text": [
      "Enter Your Number: 1234\n",
      "10\n"
     ]
    }
   ],
   "source": [
    "# Taking input from the user as string:\n",
    "\n",
    "num = input(\"Enter Your Number: \")\n",
    "\n",
    "# Initialize the \"Total\" :\n",
    "\n",
    "total = 0\n",
    "\n",
    "# Running iteration\n",
    "\n",
    "for i in num:\n",
    "    total += int(i)\n",
    "\n",
    "print(total)"
   ]
  }
 ],
 "metadata": {
  "kernelspec": {
   "display_name": "Python 3",
   "language": "python",
   "name": "python3"
  },
  "language_info": {
   "codemirror_mode": {
    "name": "ipython",
    "version": 3
   },
   "file_extension": ".py",
   "mimetype": "text/x-python",
   "name": "python",
   "nbconvert_exporter": "python",
   "pygments_lexer": "ipython3",
   "version": "3.7.6"
  }
 },
 "nbformat": 4,
 "nbformat_minor": 4
}
