{
 "cells": [
  {
   "cell_type": "markdown",
   "metadata": {},
   "source": [
    "# Loops\n",
    "\n",
    "Loops are used to iterate the same thing for multiple times or, even for infinite time.\n",
    "\n",
    "There are two main kind of loops :\n",
    "\n",
    "1. `while` Loop\n",
    "2. `for` Loop\n",
    "\n",
    "The work and applicability of both the loops are same and it depends upon the user to choose any of them as per their convenience."
   ]
  },
  {
   "cell_type": "markdown",
   "metadata": {},
   "source": [
    "## `while` Loop\n",
    "\n",
    "***Synatx :***\n",
    "\n",
    "```python\n",
    "var = <num>\n",
    "while CONDITION:\n",
    "    print(Statement)\n",
    "    var = var + 1\n",
    "```\n",
    "\n",
    "***Example :***\n",
    "\n",
    "Find the sum of 1 to 100\n",
    "    "
   ]
  },
  {
   "cell_type": "code",
   "execution_count": 3,
   "metadata": {},
   "outputs": [
    {
     "name": "stdout",
     "output_type": "stream",
     "text": [
      "55\n"
     ]
    }
   ],
   "source": [
    "Total = 0\n",
    "\n",
    "i = 1\n",
    "\n",
    "while i <= 10:\n",
    "    Total += i\n",
    "    i += 1\n",
    "print(Total)"
   ]
  },
  {
   "cell_type": "markdown",
   "metadata": {},
   "source": [
    "### Infinite `while` Loop\n",
    "\n",
    "if we don't increment the conditional variable (mostly assigned as `i`) inside the `while` loop then, it will run for infinite time (physcially, untill the stack memory is full).\n",
    "\n",
    "To stop an infinite loop, press **CTRL + C** in the keyboard.\n",
    "\n",
    "To run an infinite loop with intent, we can pass the following `while` loop:\n",
    "\n",
    "```python\n",
    "while True:\n",
    "    print(statment)\n",
    "```\n",
    "\n",
    "> ***Note :*** The booleans in Python are case-sensitive. So, we can't write \"TRUE\"/\"true\" instead of \"True\" or, \"FALSE\"/\"false\" instead of \"False\""
   ]
  },
  {
   "cell_type": "markdown",
   "metadata": {},
   "source": [
    "### `for` Loop\n",
    "\n"
   ]
  }
 ],
 "metadata": {
  "kernelspec": {
   "display_name": "Python 3",
   "language": "python",
   "name": "python3"
  },
  "language_info": {
   "codemirror_mode": {
    "name": "ipython",
    "version": 3
   },
   "file_extension": ".py",
   "mimetype": "text/x-python",
   "name": "python",
   "nbconvert_exporter": "python",
   "pygments_lexer": "ipython3",
   "version": "3.7.6"
  }
 },
 "nbformat": 4,
 "nbformat_minor": 4
}
